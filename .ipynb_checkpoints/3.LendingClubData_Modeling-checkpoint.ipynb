{
 "cells": [
  {
   "cell_type": "markdown",
   "metadata": {},
   "source": [
    "# Lending Club Data Default Prediction\n",
    "\n",
    "#### Antoni Szczepanik,  03.06.2018"
   ]
  },
  {
   "cell_type": "code",
   "execution_count": 1,
   "metadata": {},
   "outputs": [],
   "source": [
    "# Data manipulation\n",
    "import pandas as pd\n",
    "import numpy as np\n",
    "\n",
    "# Visualisation\n",
    "import matplotlib.pyplot as plt\n",
    "\n",
    "# Machine learning\n",
    "from sklearn.metrics import roc_curve, roc_auc_score\n",
    "from sklearn.feature_selection import chi2\n",
    "from sklearn.linear_model import LogisticRegression\n",
    "from sklearn.ensemble import RandomForestClassifier\n",
    "from xgboost import XGBClassifier\n",
    "\n",
    "# Initializing seed for reliability\n",
    "np.random.seed(42)\n",
    "# Setting display option to see all columns\n",
    "pd.set_option('display.max_columns', None)"
   ]
  },
  {
   "cell_type": "markdown",
   "metadata": {},
   "source": [
    "# Data preprocessing"
   ]
  },
  {
   "cell_type": "markdown",
   "metadata": {},
   "source": [
    "### First look at the data"
   ]
  },
  {
   "cell_type": "code",
   "execution_count": 2,
   "metadata": {
    "scrolled": false
   },
   "outputs": [
    {
     "data": {
      "text/html": [
       "<div>\n",
       "<style scoped>\n",
       "    .dataframe tbody tr th:only-of-type {\n",
       "        vertical-align: middle;\n",
       "    }\n",
       "\n",
       "    .dataframe tbody tr th {\n",
       "        vertical-align: top;\n",
       "    }\n",
       "\n",
       "    .dataframe thead th {\n",
       "        text-align: right;\n",
       "    }\n",
       "</style>\n",
       "<table border=\"1\" class=\"dataframe\">\n",
       "  <thead>\n",
       "    <tr style=\"text-align: right;\">\n",
       "      <th></th>\n",
       "      <th>acc_now_delinq</th>\n",
       "      <th>addr_state</th>\n",
       "      <th>all_util</th>\n",
       "      <th>annual_inc</th>\n",
       "      <th>annual_inc_joint</th>\n",
       "      <th>application_type</th>\n",
       "      <th>collection_recovery_fee</th>\n",
       "      <th>collections_12_mths_ex_med</th>\n",
       "      <th>delinq_2yrs</th>\n",
       "      <th>desc</th>\n",
       "      <th>dti</th>\n",
       "      <th>dti_joint</th>\n",
       "      <th>earliest_cr_line</th>\n",
       "      <th>emp_length</th>\n",
       "      <th>emp_title</th>\n",
       "      <th>funded_amnt</th>\n",
       "      <th>funded_amnt_inv</th>\n",
       "      <th>grade</th>\n",
       "      <th>home_ownership</th>\n",
       "      <th>id</th>\n",
       "      <th>il_util</th>\n",
       "      <th>initial_list_status</th>\n",
       "      <th>inq_fi</th>\n",
       "      <th>inq_last_12m</th>\n",
       "      <th>inq_last_6mths</th>\n",
       "      <th>installment</th>\n",
       "      <th>int_rate</th>\n",
       "      <th>issue_d</th>\n",
       "      <th>last_credit_pull_d</th>\n",
       "      <th>last_pymnt_amnt</th>\n",
       "      <th>last_pymnt_d</th>\n",
       "      <th>loan_amnt</th>\n",
       "      <th>loan_status</th>\n",
       "      <th>max_bal_bc</th>\n",
       "      <th>member_id</th>\n",
       "      <th>mths_since_last_delinq</th>\n",
       "      <th>mths_since_last_major_derog</th>\n",
       "      <th>mths_since_last_record</th>\n",
       "      <th>mths_since_rcnt_il</th>\n",
       "      <th>next_pymnt_d</th>\n",
       "      <th>open_acc</th>\n",
       "      <th>open_acc_6m</th>\n",
       "      <th>open_il_12m</th>\n",
       "      <th>open_il_24m</th>\n",
       "      <th>open_il_6m</th>\n",
       "      <th>open_rv_12m</th>\n",
       "      <th>open_rv_24m</th>\n",
       "      <th>out_prncp</th>\n",
       "      <th>out_prncp_inv</th>\n",
       "      <th>policy_code</th>\n",
       "      <th>pub_rec</th>\n",
       "      <th>purpose</th>\n",
       "      <th>pymnt_plan</th>\n",
       "      <th>recoveries</th>\n",
       "      <th>revol_bal</th>\n",
       "      <th>revol_util</th>\n",
       "      <th>sub_grade</th>\n",
       "      <th>term</th>\n",
       "      <th>title</th>\n",
       "      <th>tot_coll_amt</th>\n",
       "      <th>tot_cur_bal</th>\n",
       "      <th>total_acc</th>\n",
       "      <th>total_bal_il</th>\n",
       "      <th>total_cu_tl</th>\n",
       "      <th>total_pymnt</th>\n",
       "      <th>total_pymnt_inv</th>\n",
       "      <th>total_rec_int</th>\n",
       "      <th>total_rec_late_fee</th>\n",
       "      <th>total_rec_prncp</th>\n",
       "      <th>total_rev_hi_lim</th>\n",
       "      <th>url</th>\n",
       "      <th>verification_status</th>\n",
       "      <th>verification_status_joint</th>\n",
       "      <th>zip_code</th>\n",
       "    </tr>\n",
       "  </thead>\n",
       "  <tbody>\n",
       "    <tr>\n",
       "      <th>0</th>\n",
       "      <td>0.0</td>\n",
       "      <td>AZ</td>\n",
       "      <td>NaN</td>\n",
       "      <td>24000.0</td>\n",
       "      <td>NaN</td>\n",
       "      <td>INDIVIDUAL</td>\n",
       "      <td>0.00</td>\n",
       "      <td>0.0</td>\n",
       "      <td>0.0</td>\n",
       "      <td>Borrower added on 12/22/11 &gt; I need to upgra...</td>\n",
       "      <td>27.65</td>\n",
       "      <td>NaN</td>\n",
       "      <td>Jan-1985</td>\n",
       "      <td>10+ years</td>\n",
       "      <td>NaN</td>\n",
       "      <td>5000.0</td>\n",
       "      <td>4975.0</td>\n",
       "      <td>B</td>\n",
       "      <td>RENT</td>\n",
       "      <td>1077501</td>\n",
       "      <td>NaN</td>\n",
       "      <td>f</td>\n",
       "      <td>NaN</td>\n",
       "      <td>NaN</td>\n",
       "      <td>1.0</td>\n",
       "      <td>162.87</td>\n",
       "      <td>10.65</td>\n",
       "      <td>Dec-2011</td>\n",
       "      <td>Jan-2016</td>\n",
       "      <td>171.62</td>\n",
       "      <td>Jan-2015</td>\n",
       "      <td>5000.0</td>\n",
       "      <td>Fully Paid</td>\n",
       "      <td>NaN</td>\n",
       "      <td>1296599</td>\n",
       "      <td>NaN</td>\n",
       "      <td>NaN</td>\n",
       "      <td>NaN</td>\n",
       "      <td>NaN</td>\n",
       "      <td>NaN</td>\n",
       "      <td>3.0</td>\n",
       "      <td>NaN</td>\n",
       "      <td>NaN</td>\n",
       "      <td>NaN</td>\n",
       "      <td>NaN</td>\n",
       "      <td>NaN</td>\n",
       "      <td>NaN</td>\n",
       "      <td>0.0</td>\n",
       "      <td>0.0</td>\n",
       "      <td>1.0</td>\n",
       "      <td>0.0</td>\n",
       "      <td>credit_card</td>\n",
       "      <td>n</td>\n",
       "      <td>0.00</td>\n",
       "      <td>13648.0</td>\n",
       "      <td>83.7</td>\n",
       "      <td>B2</td>\n",
       "      <td>36 months</td>\n",
       "      <td>Computer</td>\n",
       "      <td>NaN</td>\n",
       "      <td>NaN</td>\n",
       "      <td>9.0</td>\n",
       "      <td>NaN</td>\n",
       "      <td>NaN</td>\n",
       "      <td>5861.071414</td>\n",
       "      <td>5831.78</td>\n",
       "      <td>861.07</td>\n",
       "      <td>0.00</td>\n",
       "      <td>5000.00</td>\n",
       "      <td>NaN</td>\n",
       "      <td>https://www.lendingclub.com/browse/loanDetail....</td>\n",
       "      <td>Verified</td>\n",
       "      <td>NaN</td>\n",
       "      <td>860xx</td>\n",
       "    </tr>\n",
       "    <tr>\n",
       "      <th>1</th>\n",
       "      <td>0.0</td>\n",
       "      <td>GA</td>\n",
       "      <td>NaN</td>\n",
       "      <td>30000.0</td>\n",
       "      <td>NaN</td>\n",
       "      <td>INDIVIDUAL</td>\n",
       "      <td>1.11</td>\n",
       "      <td>0.0</td>\n",
       "      <td>0.0</td>\n",
       "      <td>Borrower added on 12/22/11 &gt; I plan to use t...</td>\n",
       "      <td>1.00</td>\n",
       "      <td>NaN</td>\n",
       "      <td>Apr-1999</td>\n",
       "      <td>&lt; 1 year</td>\n",
       "      <td>Ryder</td>\n",
       "      <td>2500.0</td>\n",
       "      <td>2500.0</td>\n",
       "      <td>C</td>\n",
       "      <td>RENT</td>\n",
       "      <td>1077430</td>\n",
       "      <td>NaN</td>\n",
       "      <td>f</td>\n",
       "      <td>NaN</td>\n",
       "      <td>NaN</td>\n",
       "      <td>5.0</td>\n",
       "      <td>59.83</td>\n",
       "      <td>15.27</td>\n",
       "      <td>Dec-2011</td>\n",
       "      <td>Sep-2013</td>\n",
       "      <td>119.66</td>\n",
       "      <td>Apr-2013</td>\n",
       "      <td>2500.0</td>\n",
       "      <td>Charged Off</td>\n",
       "      <td>NaN</td>\n",
       "      <td>1314167</td>\n",
       "      <td>NaN</td>\n",
       "      <td>NaN</td>\n",
       "      <td>NaN</td>\n",
       "      <td>NaN</td>\n",
       "      <td>NaN</td>\n",
       "      <td>3.0</td>\n",
       "      <td>NaN</td>\n",
       "      <td>NaN</td>\n",
       "      <td>NaN</td>\n",
       "      <td>NaN</td>\n",
       "      <td>NaN</td>\n",
       "      <td>NaN</td>\n",
       "      <td>0.0</td>\n",
       "      <td>0.0</td>\n",
       "      <td>1.0</td>\n",
       "      <td>0.0</td>\n",
       "      <td>car</td>\n",
       "      <td>n</td>\n",
       "      <td>117.08</td>\n",
       "      <td>1687.0</td>\n",
       "      <td>9.4</td>\n",
       "      <td>C4</td>\n",
       "      <td>60 months</td>\n",
       "      <td>bike</td>\n",
       "      <td>NaN</td>\n",
       "      <td>NaN</td>\n",
       "      <td>4.0</td>\n",
       "      <td>NaN</td>\n",
       "      <td>NaN</td>\n",
       "      <td>1008.710000</td>\n",
       "      <td>1008.71</td>\n",
       "      <td>435.17</td>\n",
       "      <td>0.00</td>\n",
       "      <td>456.46</td>\n",
       "      <td>NaN</td>\n",
       "      <td>https://www.lendingclub.com/browse/loanDetail....</td>\n",
       "      <td>Source Verified</td>\n",
       "      <td>NaN</td>\n",
       "      <td>309xx</td>\n",
       "    </tr>\n",
       "    <tr>\n",
       "      <th>2</th>\n",
       "      <td>0.0</td>\n",
       "      <td>IL</td>\n",
       "      <td>NaN</td>\n",
       "      <td>12252.0</td>\n",
       "      <td>NaN</td>\n",
       "      <td>INDIVIDUAL</td>\n",
       "      <td>0.00</td>\n",
       "      <td>0.0</td>\n",
       "      <td>0.0</td>\n",
       "      <td>NaN</td>\n",
       "      <td>8.72</td>\n",
       "      <td>NaN</td>\n",
       "      <td>Nov-2001</td>\n",
       "      <td>10+ years</td>\n",
       "      <td>NaN</td>\n",
       "      <td>2400.0</td>\n",
       "      <td>2400.0</td>\n",
       "      <td>C</td>\n",
       "      <td>RENT</td>\n",
       "      <td>1077175</td>\n",
       "      <td>NaN</td>\n",
       "      <td>f</td>\n",
       "      <td>NaN</td>\n",
       "      <td>NaN</td>\n",
       "      <td>2.0</td>\n",
       "      <td>84.33</td>\n",
       "      <td>15.96</td>\n",
       "      <td>Dec-2011</td>\n",
       "      <td>Jan-2016</td>\n",
       "      <td>649.91</td>\n",
       "      <td>Jun-2014</td>\n",
       "      <td>2400.0</td>\n",
       "      <td>Fully Paid</td>\n",
       "      <td>NaN</td>\n",
       "      <td>1313524</td>\n",
       "      <td>NaN</td>\n",
       "      <td>NaN</td>\n",
       "      <td>NaN</td>\n",
       "      <td>NaN</td>\n",
       "      <td>NaN</td>\n",
       "      <td>2.0</td>\n",
       "      <td>NaN</td>\n",
       "      <td>NaN</td>\n",
       "      <td>NaN</td>\n",
       "      <td>NaN</td>\n",
       "      <td>NaN</td>\n",
       "      <td>NaN</td>\n",
       "      <td>0.0</td>\n",
       "      <td>0.0</td>\n",
       "      <td>1.0</td>\n",
       "      <td>0.0</td>\n",
       "      <td>small_business</td>\n",
       "      <td>n</td>\n",
       "      <td>0.00</td>\n",
       "      <td>2956.0</td>\n",
       "      <td>98.5</td>\n",
       "      <td>C5</td>\n",
       "      <td>36 months</td>\n",
       "      <td>real estate business</td>\n",
       "      <td>NaN</td>\n",
       "      <td>NaN</td>\n",
       "      <td>10.0</td>\n",
       "      <td>NaN</td>\n",
       "      <td>NaN</td>\n",
       "      <td>3003.653644</td>\n",
       "      <td>3003.65</td>\n",
       "      <td>603.65</td>\n",
       "      <td>0.00</td>\n",
       "      <td>2400.00</td>\n",
       "      <td>NaN</td>\n",
       "      <td>https://www.lendingclub.com/browse/loanDetail....</td>\n",
       "      <td>Not Verified</td>\n",
       "      <td>NaN</td>\n",
       "      <td>606xx</td>\n",
       "    </tr>\n",
       "    <tr>\n",
       "      <th>3</th>\n",
       "      <td>0.0</td>\n",
       "      <td>CA</td>\n",
       "      <td>NaN</td>\n",
       "      <td>49200.0</td>\n",
       "      <td>NaN</td>\n",
       "      <td>INDIVIDUAL</td>\n",
       "      <td>0.00</td>\n",
       "      <td>0.0</td>\n",
       "      <td>0.0</td>\n",
       "      <td>Borrower added on 12/21/11 &gt; to pay for prop...</td>\n",
       "      <td>20.00</td>\n",
       "      <td>NaN</td>\n",
       "      <td>Feb-1996</td>\n",
       "      <td>10+ years</td>\n",
       "      <td>AIR RESOURCES BOARD</td>\n",
       "      <td>10000.0</td>\n",
       "      <td>10000.0</td>\n",
       "      <td>C</td>\n",
       "      <td>RENT</td>\n",
       "      <td>1076863</td>\n",
       "      <td>NaN</td>\n",
       "      <td>f</td>\n",
       "      <td>NaN</td>\n",
       "      <td>NaN</td>\n",
       "      <td>1.0</td>\n",
       "      <td>339.31</td>\n",
       "      <td>13.49</td>\n",
       "      <td>Dec-2011</td>\n",
       "      <td>Jan-2015</td>\n",
       "      <td>357.48</td>\n",
       "      <td>Jan-2015</td>\n",
       "      <td>10000.0</td>\n",
       "      <td>Fully Paid</td>\n",
       "      <td>NaN</td>\n",
       "      <td>1277178</td>\n",
       "      <td>35.0</td>\n",
       "      <td>NaN</td>\n",
       "      <td>NaN</td>\n",
       "      <td>NaN</td>\n",
       "      <td>NaN</td>\n",
       "      <td>10.0</td>\n",
       "      <td>NaN</td>\n",
       "      <td>NaN</td>\n",
       "      <td>NaN</td>\n",
       "      <td>NaN</td>\n",
       "      <td>NaN</td>\n",
       "      <td>NaN</td>\n",
       "      <td>0.0</td>\n",
       "      <td>0.0</td>\n",
       "      <td>1.0</td>\n",
       "      <td>0.0</td>\n",
       "      <td>other</td>\n",
       "      <td>n</td>\n",
       "      <td>0.00</td>\n",
       "      <td>5598.0</td>\n",
       "      <td>21.0</td>\n",
       "      <td>C1</td>\n",
       "      <td>36 months</td>\n",
       "      <td>personel</td>\n",
       "      <td>NaN</td>\n",
       "      <td>NaN</td>\n",
       "      <td>37.0</td>\n",
       "      <td>NaN</td>\n",
       "      <td>NaN</td>\n",
       "      <td>12226.302212</td>\n",
       "      <td>12226.30</td>\n",
       "      <td>2209.33</td>\n",
       "      <td>16.97</td>\n",
       "      <td>10000.00</td>\n",
       "      <td>NaN</td>\n",
       "      <td>https://www.lendingclub.com/browse/loanDetail....</td>\n",
       "      <td>Source Verified</td>\n",
       "      <td>NaN</td>\n",
       "      <td>917xx</td>\n",
       "    </tr>\n",
       "    <tr>\n",
       "      <th>4</th>\n",
       "      <td>0.0</td>\n",
       "      <td>OR</td>\n",
       "      <td>NaN</td>\n",
       "      <td>80000.0</td>\n",
       "      <td>NaN</td>\n",
       "      <td>INDIVIDUAL</td>\n",
       "      <td>0.00</td>\n",
       "      <td>0.0</td>\n",
       "      <td>0.0</td>\n",
       "      <td>Borrower added on 12/21/11 &gt; I plan on combi...</td>\n",
       "      <td>17.94</td>\n",
       "      <td>NaN</td>\n",
       "      <td>Jan-1996</td>\n",
       "      <td>1 year</td>\n",
       "      <td>University Medical Group</td>\n",
       "      <td>3000.0</td>\n",
       "      <td>3000.0</td>\n",
       "      <td>B</td>\n",
       "      <td>RENT</td>\n",
       "      <td>1075358</td>\n",
       "      <td>NaN</td>\n",
       "      <td>f</td>\n",
       "      <td>NaN</td>\n",
       "      <td>NaN</td>\n",
       "      <td>0.0</td>\n",
       "      <td>67.79</td>\n",
       "      <td>12.69</td>\n",
       "      <td>Dec-2011</td>\n",
       "      <td>Jan-2016</td>\n",
       "      <td>67.79</td>\n",
       "      <td>Jan-2016</td>\n",
       "      <td>3000.0</td>\n",
       "      <td>Current</td>\n",
       "      <td>NaN</td>\n",
       "      <td>1311748</td>\n",
       "      <td>38.0</td>\n",
       "      <td>NaN</td>\n",
       "      <td>NaN</td>\n",
       "      <td>NaN</td>\n",
       "      <td>Feb-2016</td>\n",
       "      <td>15.0</td>\n",
       "      <td>NaN</td>\n",
       "      <td>NaN</td>\n",
       "      <td>NaN</td>\n",
       "      <td>NaN</td>\n",
       "      <td>NaN</td>\n",
       "      <td>NaN</td>\n",
       "      <td>766.9</td>\n",
       "      <td>766.9</td>\n",
       "      <td>1.0</td>\n",
       "      <td>0.0</td>\n",
       "      <td>other</td>\n",
       "      <td>n</td>\n",
       "      <td>0.00</td>\n",
       "      <td>27783.0</td>\n",
       "      <td>53.9</td>\n",
       "      <td>B5</td>\n",
       "      <td>60 months</td>\n",
       "      <td>Personal</td>\n",
       "      <td>NaN</td>\n",
       "      <td>NaN</td>\n",
       "      <td>38.0</td>\n",
       "      <td>NaN</td>\n",
       "      <td>NaN</td>\n",
       "      <td>3242.170000</td>\n",
       "      <td>3242.17</td>\n",
       "      <td>1009.07</td>\n",
       "      <td>0.00</td>\n",
       "      <td>2233.10</td>\n",
       "      <td>NaN</td>\n",
       "      <td>https://www.lendingclub.com/browse/loanDetail....</td>\n",
       "      <td>Source Verified</td>\n",
       "      <td>NaN</td>\n",
       "      <td>972xx</td>\n",
       "    </tr>\n",
       "  </tbody>\n",
       "</table>\n",
       "</div>"
      ],
      "text/plain": [
       "   acc_now_delinq addr_state  all_util  annual_inc  annual_inc_joint  \\\n",
       "0             0.0         AZ       NaN     24000.0               NaN   \n",
       "1             0.0         GA       NaN     30000.0               NaN   \n",
       "2             0.0         IL       NaN     12252.0               NaN   \n",
       "3             0.0         CA       NaN     49200.0               NaN   \n",
       "4             0.0         OR       NaN     80000.0               NaN   \n",
       "\n",
       "  application_type  collection_recovery_fee  collections_12_mths_ex_med  \\\n",
       "0       INDIVIDUAL                     0.00                         0.0   \n",
       "1       INDIVIDUAL                     1.11                         0.0   \n",
       "2       INDIVIDUAL                     0.00                         0.0   \n",
       "3       INDIVIDUAL                     0.00                         0.0   \n",
       "4       INDIVIDUAL                     0.00                         0.0   \n",
       "\n",
       "   delinq_2yrs                                               desc    dti  \\\n",
       "0          0.0    Borrower added on 12/22/11 > I need to upgra...  27.65   \n",
       "1          0.0    Borrower added on 12/22/11 > I plan to use t...   1.00   \n",
       "2          0.0                                                NaN   8.72   \n",
       "3          0.0    Borrower added on 12/21/11 > to pay for prop...  20.00   \n",
       "4          0.0    Borrower added on 12/21/11 > I plan on combi...  17.94   \n",
       "\n",
       "   dti_joint earliest_cr_line emp_length                 emp_title  \\\n",
       "0        NaN         Jan-1985  10+ years                       NaN   \n",
       "1        NaN         Apr-1999   < 1 year                     Ryder   \n",
       "2        NaN         Nov-2001  10+ years                       NaN   \n",
       "3        NaN         Feb-1996  10+ years       AIR RESOURCES BOARD   \n",
       "4        NaN         Jan-1996     1 year  University Medical Group   \n",
       "\n",
       "   funded_amnt  funded_amnt_inv grade home_ownership       id  il_util  \\\n",
       "0       5000.0           4975.0     B           RENT  1077501      NaN   \n",
       "1       2500.0           2500.0     C           RENT  1077430      NaN   \n",
       "2       2400.0           2400.0     C           RENT  1077175      NaN   \n",
       "3      10000.0          10000.0     C           RENT  1076863      NaN   \n",
       "4       3000.0           3000.0     B           RENT  1075358      NaN   \n",
       "\n",
       "  initial_list_status  inq_fi  inq_last_12m  inq_last_6mths  installment  \\\n",
       "0                   f     NaN           NaN             1.0       162.87   \n",
       "1                   f     NaN           NaN             5.0        59.83   \n",
       "2                   f     NaN           NaN             2.0        84.33   \n",
       "3                   f     NaN           NaN             1.0       339.31   \n",
       "4                   f     NaN           NaN             0.0        67.79   \n",
       "\n",
       "   int_rate   issue_d last_credit_pull_d  last_pymnt_amnt last_pymnt_d  \\\n",
       "0     10.65  Dec-2011           Jan-2016           171.62     Jan-2015   \n",
       "1     15.27  Dec-2011           Sep-2013           119.66     Apr-2013   \n",
       "2     15.96  Dec-2011           Jan-2016           649.91     Jun-2014   \n",
       "3     13.49  Dec-2011           Jan-2015           357.48     Jan-2015   \n",
       "4     12.69  Dec-2011           Jan-2016            67.79     Jan-2016   \n",
       "\n",
       "   loan_amnt  loan_status  max_bal_bc  member_id  mths_since_last_delinq  \\\n",
       "0     5000.0   Fully Paid         NaN    1296599                     NaN   \n",
       "1     2500.0  Charged Off         NaN    1314167                     NaN   \n",
       "2     2400.0   Fully Paid         NaN    1313524                     NaN   \n",
       "3    10000.0   Fully Paid         NaN    1277178                    35.0   \n",
       "4     3000.0      Current         NaN    1311748                    38.0   \n",
       "\n",
       "   mths_since_last_major_derog  mths_since_last_record  mths_since_rcnt_il  \\\n",
       "0                          NaN                     NaN                 NaN   \n",
       "1                          NaN                     NaN                 NaN   \n",
       "2                          NaN                     NaN                 NaN   \n",
       "3                          NaN                     NaN                 NaN   \n",
       "4                          NaN                     NaN                 NaN   \n",
       "\n",
       "  next_pymnt_d  open_acc  open_acc_6m  open_il_12m  open_il_24m  open_il_6m  \\\n",
       "0          NaN       3.0          NaN          NaN          NaN         NaN   \n",
       "1          NaN       3.0          NaN          NaN          NaN         NaN   \n",
       "2          NaN       2.0          NaN          NaN          NaN         NaN   \n",
       "3          NaN      10.0          NaN          NaN          NaN         NaN   \n",
       "4     Feb-2016      15.0          NaN          NaN          NaN         NaN   \n",
       "\n",
       "   open_rv_12m  open_rv_24m  out_prncp  out_prncp_inv  policy_code  pub_rec  \\\n",
       "0          NaN          NaN        0.0            0.0          1.0      0.0   \n",
       "1          NaN          NaN        0.0            0.0          1.0      0.0   \n",
       "2          NaN          NaN        0.0            0.0          1.0      0.0   \n",
       "3          NaN          NaN        0.0            0.0          1.0      0.0   \n",
       "4          NaN          NaN      766.9          766.9          1.0      0.0   \n",
       "\n",
       "          purpose pymnt_plan  recoveries  revol_bal  revol_util sub_grade  \\\n",
       "0     credit_card          n        0.00    13648.0        83.7        B2   \n",
       "1             car          n      117.08     1687.0         9.4        C4   \n",
       "2  small_business          n        0.00     2956.0        98.5        C5   \n",
       "3           other          n        0.00     5598.0        21.0        C1   \n",
       "4           other          n        0.00    27783.0        53.9        B5   \n",
       "\n",
       "         term                 title  tot_coll_amt  tot_cur_bal  total_acc  \\\n",
       "0   36 months              Computer           NaN          NaN        9.0   \n",
       "1   60 months                  bike           NaN          NaN        4.0   \n",
       "2   36 months  real estate business           NaN          NaN       10.0   \n",
       "3   36 months              personel           NaN          NaN       37.0   \n",
       "4   60 months              Personal           NaN          NaN       38.0   \n",
       "\n",
       "   total_bal_il  total_cu_tl   total_pymnt  total_pymnt_inv  total_rec_int  \\\n",
       "0           NaN          NaN   5861.071414          5831.78         861.07   \n",
       "1           NaN          NaN   1008.710000          1008.71         435.17   \n",
       "2           NaN          NaN   3003.653644          3003.65         603.65   \n",
       "3           NaN          NaN  12226.302212         12226.30        2209.33   \n",
       "4           NaN          NaN   3242.170000          3242.17        1009.07   \n",
       "\n",
       "   total_rec_late_fee  total_rec_prncp  total_rev_hi_lim  \\\n",
       "0                0.00          5000.00               NaN   \n",
       "1                0.00           456.46               NaN   \n",
       "2                0.00          2400.00               NaN   \n",
       "3               16.97         10000.00               NaN   \n",
       "4                0.00          2233.10               NaN   \n",
       "\n",
       "                                                 url verification_status  \\\n",
       "0  https://www.lendingclub.com/browse/loanDetail....            Verified   \n",
       "1  https://www.lendingclub.com/browse/loanDetail....     Source Verified   \n",
       "2  https://www.lendingclub.com/browse/loanDetail....        Not Verified   \n",
       "3  https://www.lendingclub.com/browse/loanDetail....     Source Verified   \n",
       "4  https://www.lendingclub.com/browse/loanDetail....     Source Verified   \n",
       "\n",
       "  verification_status_joint zip_code  \n",
       "0                       NaN    860xx  \n",
       "1                       NaN    309xx  \n",
       "2                       NaN    606xx  \n",
       "3                       NaN    917xx  \n",
       "4                       NaN    972xx  "
      ]
     },
     "execution_count": 2,
     "metadata": {},
     "output_type": "execute_result"
    }
   ],
   "source": [
    "# Reading csv file into memory\n",
    "df = pd.read_csv(\"loan.csv\", low_memory=False)\n",
    "\n",
    "# Sorting the columns alphabeticaly, for easier comparison with data dictionary excel file\n",
    "df = df.reindex(sorted(df.columns), axis=1)\n",
    "df.head()"
   ]
  },
  {
   "cell_type": "markdown",
   "metadata": {},
   "source": [
    "We have almost 900 000 rows of data, which is a lot. That will be useful later.\n",
    "We also have 74 features. I suspect, that many of them will not be useful.\n",
    "First I will check all the features descriptions, to eliminate those completely irrelevant.\n",
    "\n",
    "The features that are completely irrelevant at the first sight are:\n",
    "**'desc', 'emp_title', 'id', 'member_id', 'title'** and **'url'** \n",
    "We will not be using **'zip_code'** as well, as there is 'state' which contains the same information"
   ]
  },
  {
   "cell_type": "code",
   "execution_count": 3,
   "metadata": {},
   "outputs": [],
   "source": [
    "df = df.drop(['desc', 'emp_title', 'id', 'member_id', 'title', 'url', 'zip_code'], axis=1)"
   ]
  },
  {
   "cell_type": "markdown",
   "metadata": {},
   "source": [
    "## Data Cleaning"
   ]
  },
  {
   "cell_type": "markdown",
   "metadata": {},
   "source": [
    "Now I will check how many features have missing values.\n",
    "Then I will inspect if we can extract some information out of them"
   ]
  },
  {
   "cell_type": "code",
   "execution_count": 4,
   "metadata": {},
   "outputs": [
    {
     "name": "stdout",
     "output_type": "stream",
     "text": [
      "Number of columns with missing values:   37\n",
      "\n"
     ]
    },
    {
     "data": {
      "text/plain": [
       "acc_now_delinq                 0.000033\n",
       "all_util                       0.975916\n",
       "annual_inc                     0.000005\n",
       "annual_inc_joint               0.999424\n",
       "collections_12_mths_ex_med     0.000163\n",
       "delinq_2yrs                    0.000033\n",
       "dti_joint                      0.999426\n",
       "earliest_cr_line               0.000033\n",
       "emp_length                     0.050514\n",
       "il_util                        0.979020\n",
       "inq_fi                         0.975916\n",
       "inq_last_12m                   0.975916\n",
       "inq_last_6mths                 0.000033\n",
       "last_credit_pull_d             0.000060\n",
       "last_pymnt_d                   0.019900\n",
       "max_bal_bc                     0.975916\n",
       "mths_since_last_delinq         0.511971\n",
       "mths_since_last_major_derog    0.750160\n",
       "mths_since_last_record         0.845553\n",
       "mths_since_rcnt_il             0.976549\n",
       "next_pymnt_d                   0.285077\n",
       "open_acc                       0.000033\n",
       "open_acc_6m                    0.975916\n",
       "open_il_12m                    0.975916\n",
       "open_il_24m                    0.975916\n",
       "open_il_6m                     0.975916\n",
       "open_rv_12m                    0.975916\n",
       "open_rv_24m                    0.975916\n",
       "pub_rec                        0.000033\n",
       "revol_util                     0.000566\n",
       "tot_coll_amt                   0.079195\n",
       "tot_cur_bal                    0.079195\n",
       "total_acc                      0.000033\n",
       "total_bal_il                   0.975916\n",
       "total_cu_tl                    0.975916\n",
       "total_rev_hi_lim               0.079195\n",
       "verification_status_joint      0.999424\n",
       "dtype: float64"
      ]
     },
     "execution_count": 4,
     "metadata": {},
     "output_type": "execute_result"
    }
   ],
   "source": [
    "# Checking which colums still have missing values\n",
    "missing_columns = df.columns[df.isnull().mean() != 0]\n",
    "print('Number of columns with missing values:   ' + str(len(missing_columns)) + \"\\n\")\n",
    "df[missing_columns].isnull().mean()"
   ]
  },
  {
   "cell_type": "markdown",
   "metadata": {},
   "source": [
    "I will delete all of features with more than 20% lacking values.\n",
    "Imputing the lacking data would be risky, difficult and time consuming. "
   ]
  },
  {
   "cell_type": "code",
   "execution_count": 5,
   "metadata": {
    "scrolled": true
   },
   "outputs": [
    {
     "data": {
      "text/plain": [
       "acc_now_delinq                0.000033\n",
       "annual_inc                    0.000005\n",
       "collections_12_mths_ex_med    0.000163\n",
       "delinq_2yrs                   0.000033\n",
       "earliest_cr_line              0.000033\n",
       "emp_length                    0.050514\n",
       "inq_last_6mths                0.000033\n",
       "last_credit_pull_d            0.000060\n",
       "last_pymnt_d                  0.019900\n",
       "open_acc                      0.000033\n",
       "pub_rec                       0.000033\n",
       "revol_util                    0.000566\n",
       "tot_coll_amt                  0.079195\n",
       "tot_cur_bal                   0.079195\n",
       "total_acc                     0.000033\n",
       "total_rev_hi_lim              0.079195\n",
       "dtype: float64"
      ]
     },
     "execution_count": 5,
     "metadata": {},
     "output_type": "execute_result"
    }
   ],
   "source": [
    "# Dropping columns which have more than 20% missing values\n",
    "df = df.drop(df.columns[df.isnull().mean() > 0.2], axis=1 )\n",
    "\n",
    "df[df.columns[df.isnull().mean() != 0]].isnull().mean()"
   ]
  },
  {
   "cell_type": "markdown",
   "metadata": {},
   "source": [
    "Some of the features lack very few values. I will remove the lacking records, as our dataset is big enough.\n",
    "It will save me some problems with imputing missing data. "
   ]
  },
  {
   "cell_type": "code",
   "execution_count": 6,
   "metadata": {},
   "outputs": [],
   "source": [
    "# The columns are:\n",
    "cols_to_drop = ['acc_now_delinq', 'annual_inc', 'collections_12_mths_ex_med',\n",
    "       'delinq_2yrs', 'earliest_cr_line', 'inq_last_6mths',\n",
    "       'last_credit_pull_d', 'open_acc', 'pub_rec', 'revol_util', 'total_acc']\n",
    "\n",
    "# Removing rows with missing values\n",
    "df = df.dropna(subset = cols_to_drop)"
   ]
  },
  {
   "cell_type": "markdown",
   "metadata": {},
   "source": [
    "### Imputing missing data"
   ]
  },
  {
   "cell_type": "code",
   "execution_count": 7,
   "metadata": {},
   "outputs": [
    {
     "data": {
      "text/plain": [
       "<matplotlib.axes._subplots.AxesSubplot at 0x22e3b9a65f8>"
      ]
     },
     "execution_count": 7,
     "metadata": {},
     "output_type": "execute_result"
    },
    {
     "data": {
      "image/png": "[encoded data removed]",
      "text/plain": [
       "<Figure size 432x288 with 1 Axes>"
      ]
     },
     "metadata": {},
     "output_type": "display_data"
    }
   ],
   "source": [
    "# Printing features that still lack values\n",
    "df[df.columns[df.isnull().mean() != 0]].isnull().mean().plot(kind='bar')"
   ]
  },
  {
   "cell_type": "markdown",
   "metadata": {},
   "source": [
    "We are left with 5 variables. I will impute missing data. \n",
    "First I will take a look at 'emp_length'. It takes values from 0 to 10"
   ]
  },
  {
   "cell_type": "code",
   "execution_count": 8,
   "metadata": {},
   "outputs": [
    {
     "data": {
      "text/plain": [
       "<matplotlib.axes._subplots.AxesSubplot at 0x22e3ba716d8>"
      ]
     },
     "execution_count": 8,
     "metadata": {},
     "output_type": "execute_result"
    },
    {
     "data": {
      "image/png": "[encoded data removed]",
      "text/plain": [
       "<Figure size 432x288 with 1 Axes>"
      ]
     },
     "metadata": {},
     "output_type": "display_data"
    }
   ],
   "source": [
    "df['emp_length'].value_counts().plot(kind='bar')"
   ]
  },
  {
   "cell_type": "markdown",
   "metadata": {},
   "source": [
    "First I will replace strings with integers. Then I will fill values that are not available with the most common occurence - 10+ years. \n"
   ]
  },
  {
   "cell_type": "code",
   "execution_count": 9,
   "metadata": {},
   "outputs": [],
   "source": [
    "# Replacing string with integers\n",
    "condition = df['emp_length'] == '< 1 year'\n",
    "df.loc[condition, 'emp_length'] = 0\n",
    "\n",
    "condition = df['emp_length'] == '1 year'\n",
    "df.loc[condition, 'emp_length'] = 1\n",
    "\n",
    "condition = df['emp_length'] == '2 years'\n",
    "df.loc[condition, 'emp_length'] = 2\n",
    "\n",
    "condition = df['emp_length'] == '3 years'\n",
    "df.loc[condition, 'emp_length'] = 3\n",
    "\n",
    "condition = df['emp_length'] == '4 years'\n",
    "df.loc[condition, 'emp_length'] = 4\n",
    "\n",
    "condition = df['emp_length'] == '5 years'\n",
    "df.loc[condition, 'emp_length'] = 5\n",
    "\n",
    "condition = df['emp_length'] == '6 years'\n",
    "df.loc[condition, 'emp_length'] = 6\n",
    "\n",
    "condition = df['emp_length'] == '7 years'\n",
    "df.loc[condition, 'emp_length'] = 7\n",
    "\n",
    "condition = df['emp_length'] == '8 years'\n",
    "df.loc[condition, 'emp_length'] = 8\n",
    "\n",
    "condition = df['emp_length'] == '9 years'\n",
    "df.loc[condition, 'emp_length'] = 9\n",
    "\n",
    "condition = df['emp_length'] == '10+ years'\n",
    "df.loc[condition, 'emp_length'] = 10"
   ]
  },
  {
   "cell_type": "markdown",
   "metadata": {},
   "source": [
    "Now I will create sample, which I will pick from, and fill all missing values left with them."
   ]
  },
  {
   "cell_type": "code",
   "execution_count": 10,
   "metadata": {},
   "outputs": [
    {
     "data": {
      "text/plain": [
       "0"
      ]
     },
     "execution_count": 10,
     "metadata": {},
     "output_type": "execute_result"
    }
   ],
   "source": [
    "# Filling missing values\n",
    "df['emp_length'].fillna(10, inplace=True)\n",
    "# Checking if fillna worked properly\n",
    "df['emp_length'].isnull().sum()"
   ]
  },
  {
   "cell_type": "markdown",
   "metadata": {},
   "source": [
    "We will do the same with 'last_pymnt_d'. \n",
    "But first I will convert the dates to numerical values. <br/> I decided to transform dates to time that passed since the last payment (in months)."
   ]
  },
  {
   "cell_type": "code",
   "execution_count": 11,
   "metadata": {},
   "outputs": [
    {
     "data": {
      "text/plain": [
       "<matplotlib.axes._subplots.AxesSubplot at 0x22e3bb33780>"
      ]
     },
     "execution_count": 11,
     "metadata": {},
     "output_type": "execute_result"
    },
    {
     "data": {
      "image/png": "[encoded data removed]",
      "text/plain": [
       "<Figure size 432x288 with 1 Axes>"
      ]
     },
     "metadata": {},
     "output_type": "display_data"
    }
   ],
   "source": [
    "df['last_pymnt_d'].value_counts()[:10].plot(kind='bar')"
   ]
  },
  {
   "cell_type": "code",
   "execution_count": 12,
   "metadata": {},
   "outputs": [
    {
     "data": {
      "text/plain": [
       "<matplotlib.axes._subplots.AxesSubplot at 0x22e3bddab70>"
      ]
     },
     "execution_count": 12,
     "metadata": {},
     "output_type": "execute_result"
    },
    {
     "data": {
      "image/png": "[encoded data removed]",
      "text/plain": [
       "<Figure size 432x288 with 1 Axes>"
      ]
     },
     "metadata": {},
     "output_type": "display_data"
    }
   ],
   "source": [
    "# Creating months dictionary\n",
    "month_dict = {\"Jan\":1,\"Feb\":2,\"Mar\":3,\"Apr\":4, \"May\":5, \"Jun\":6, \"Jul\":7,\"Aug\":8,\"Sep\":9,\"Oct\":10,\"Nov\":11,\"Dec\":12}\n",
    "\n",
    "# Defining transformation function\n",
    "def transform_date(series):\n",
    "        string = str(series)\n",
    "        if series == None or string == 'nan':\n",
    "            return None\n",
    "        year = int(string[-2:])\n",
    "        month_name = string[0:3]\n",
    "        month = month_dict[month_name]\n",
    "        months_passed = None\n",
    "        if month == 1 and year == 16:\n",
    "            months_passed = 0\n",
    "        else:\n",
    "            months_passed = (12 * (15-year)) + (13 - month)\n",
    "        return months_passed\n",
    "   \n",
    "        \n",
    "\n",
    "# Applying transformation to new column\n",
    "df['time_since_last_pymnt'] = df['last_pymnt_d'].apply(transform_date)\n",
    "\n",
    "df['time_since_last_pymnt'].value_counts()[:10].plot(kind='bar')"
   ]
  },
  {
   "cell_type": "markdown",
   "metadata": {},
   "source": [
    "Now I will again fill the missing with most common occurence - 0 months. "
   ]
  },
  {
   "cell_type": "code",
   "execution_count": 13,
   "metadata": {},
   "outputs": [
    {
     "data": {
      "text/plain": [
       "0"
      ]
     },
     "execution_count": 13,
     "metadata": {},
     "output_type": "execute_result"
    }
   ],
   "source": [
    "# Filling missing values\n",
    "df['time_since_last_pymnt'].fillna(0, inplace=True)\n",
    "# Sanity check:\n",
    "df['time_since_last_pymnt'].isnull().sum()"
   ]
  },
  {
   "cell_type": "code",
   "execution_count": 14,
   "metadata": {},
   "outputs": [],
   "source": [
    "# Removing 'last_pymnt_d' column\n",
    "df = df.drop(['last_pymnt_d'], axis=1)"
   ]
  },
  {
   "cell_type": "code",
   "execution_count": 15,
   "metadata": {},
   "outputs": [
    {
     "data": {
      "text/plain": [
       "<matplotlib.axes._subplots.AxesSubplot at 0x22e3c4fe0b8>"
      ]
     },
     "execution_count": 15,
     "metadata": {},
     "output_type": "execute_result"
    },
    {
     "data": {
      "image/png": "[encoded data removed]",
      "text/plain": [
       "<Figure size 432x288 with 1 Axes>"
      ]
     },
     "metadata": {},
     "output_type": "display_data"
    }
   ],
   "source": [
    "df[df.columns[df.isnull().mean() != 0]].isnull().mean().plot(kind='bar')"
   ]
  },
  {
   "cell_type": "markdown",
   "metadata": {},
   "source": [
    "These features are continous. I decided to replace missing values with mean. Simple solutions often work best. "
   ]
  },
  {
   "cell_type": "code",
   "execution_count": 16,
   "metadata": {},
   "outputs": [
    {
     "data": {
      "text/plain": [
       "tot_coll_amt        0.0\n",
       "tot_cur_bal         0.0\n",
       "total_rev_hi_lim    0.0\n",
       "dtype: float64"
      ]
     },
     "execution_count": 16,
     "metadata": {},
     "output_type": "execute_result"
    }
   ],
   "source": [
    "# Calculating mean and filling missing values\n",
    "mean_tot_coll = df['tot_coll_amt'].mean()\n",
    "df['tot_coll_amt'].fillna(mean_tot_coll, inplace=True)\n",
    "\n",
    "# Calculating mean and filling missing values\n",
    "mean_tot_cur_bal = df['tot_cur_bal'].mean()\n",
    "df['tot_cur_bal'].fillna(mean_tot_cur_bal, inplace=True)\n",
    "\n",
    "# Calculating mean and filling missing values\n",
    "mean_total_rev_hi_lim = df['total_rev_hi_lim'].mean()\n",
    "df['total_rev_hi_lim'].fillna(mean_total_rev_hi_lim, inplace=True)\n",
    "\n",
    "# Sanity check #2\n",
    "df[['tot_coll_amt', 'tot_cur_bal', 'total_rev_hi_lim']].isnull().mean()"
   ]
  },
  {
   "cell_type": "markdown",
   "metadata": {},
   "source": [
    "### Our dataset is finally complete.\n",
    "\n",
    "I removed all completely irrelevant features out of the dataset. All the missing values were handled as well. But's not all - let's move on to categorical features. "
   ]
  },
  {
   "cell_type": "markdown",
   "metadata": {},
   "source": [
    "# Dealing with categorical features"
   ]
  },
  {
   "cell_type": "markdown",
   "metadata": {},
   "source": [
    "First I will check how many categorical features we have to deal with."
   ]
  },
  {
   "cell_type": "code",
   "execution_count": 17,
   "metadata": {},
   "outputs": [
    {
     "data": {
      "text/html": [
       "<div>\n",
       "<style scoped>\n",
       "    .dataframe tbody tr th:only-of-type {\n",
       "        vertical-align: middle;\n",
       "    }\n",
       "\n",
       "    .dataframe tbody tr th {\n",
       "        vertical-align: top;\n",
       "    }\n",
       "\n",
       "    .dataframe thead th {\n",
       "        text-align: right;\n",
       "    }\n",
       "</style>\n",
       "<table border=\"1\" class=\"dataframe\">\n",
       "  <thead>\n",
       "    <tr style=\"text-align: right;\">\n",
       "      <th></th>\n",
       "      <th>addr_state</th>\n",
       "      <th>application_type</th>\n",
       "      <th>earliest_cr_line</th>\n",
       "      <th>grade</th>\n",
       "      <th>home_ownership</th>\n",
       "      <th>initial_list_status</th>\n",
       "      <th>issue_d</th>\n",
       "      <th>last_credit_pull_d</th>\n",
       "      <th>loan_status</th>\n",
       "      <th>purpose</th>\n",
       "      <th>pymnt_plan</th>\n",
       "      <th>sub_grade</th>\n",
       "      <th>term</th>\n",
       "      <th>verification_status</th>\n",
       "    </tr>\n",
       "  </thead>\n",
       "  <tbody>\n",
       "    <tr>\n",
       "      <th>0</th>\n",
       "      <td>AZ</td>\n",
       "      <td>INDIVIDUAL</td>\n",
       "      <td>Jan-1985</td>\n",
       "      <td>B</td>\n",
       "      <td>RENT</td>\n",
       "      <td>f</td>\n",
       "      <td>Dec-2011</td>\n",
       "      <td>Jan-2016</td>\n",
       "      <td>Fully Paid</td>\n",
       "      <td>credit_card</td>\n",
       "      <td>n</td>\n",
       "      <td>B2</td>\n",
       "      <td>36 months</td>\n",
       "      <td>Verified</td>\n",
       "    </tr>\n",
       "    <tr>\n",
       "      <th>1</th>\n",
       "      <td>GA</td>\n",
       "      <td>INDIVIDUAL</td>\n",
       "      <td>Apr-1999</td>\n",
       "      <td>C</td>\n",
       "      <td>RENT</td>\n",
       "      <td>f</td>\n",
       "      <td>Dec-2011</td>\n",
       "      <td>Sep-2013</td>\n",
       "      <td>Charged Off</td>\n",
       "      <td>car</td>\n",
       "      <td>n</td>\n",
       "      <td>C4</td>\n",
       "      <td>60 months</td>\n",
       "      <td>Source Verified</td>\n",
       "    </tr>\n",
       "    <tr>\n",
       "      <th>2</th>\n",
       "      <td>IL</td>\n",
       "      <td>INDIVIDUAL</td>\n",
       "      <td>Nov-2001</td>\n",
       "      <td>C</td>\n",
       "      <td>RENT</td>\n",
       "      <td>f</td>\n",
       "      <td>Dec-2011</td>\n",
       "      <td>Jan-2016</td>\n",
       "      <td>Fully Paid</td>\n",
       "      <td>small_business</td>\n",
       "      <td>n</td>\n",
       "      <td>C5</td>\n",
       "      <td>36 months</td>\n",
       "      <td>Not Verified</td>\n",
       "    </tr>\n",
       "    <tr>\n",
       "      <th>3</th>\n",
       "      <td>CA</td>\n",
       "      <td>INDIVIDUAL</td>\n",
       "      <td>Feb-1996</td>\n",
       "      <td>C</td>\n",
       "      <td>RENT</td>\n",
       "      <td>f</td>\n",
       "      <td>Dec-2011</td>\n",
       "      <td>Jan-2015</td>\n",
       "      <td>Fully Paid</td>\n",
       "      <td>other</td>\n",
       "      <td>n</td>\n",
       "      <td>C1</td>\n",
       "      <td>36 months</td>\n",
       "      <td>Source Verified</td>\n",
       "    </tr>\n",
       "    <tr>\n",
       "      <th>4</th>\n",
       "      <td>OR</td>\n",
       "      <td>INDIVIDUAL</td>\n",
       "      <td>Jan-1996</td>\n",
       "      <td>B</td>\n",
       "      <td>RENT</td>\n",
       "      <td>f</td>\n",
       "      <td>Dec-2011</td>\n",
       "      <td>Jan-2016</td>\n",
       "      <td>Current</td>\n",
       "      <td>other</td>\n",
       "      <td>n</td>\n",
       "      <td>B5</td>\n",
       "      <td>60 months</td>\n",
       "      <td>Source Verified</td>\n",
       "    </tr>\n",
       "    <tr>\n",
       "      <th>5</th>\n",
       "      <td>AZ</td>\n",
       "      <td>INDIVIDUAL</td>\n",
       "      <td>Nov-2004</td>\n",
       "      <td>A</td>\n",
       "      <td>RENT</td>\n",
       "      <td>f</td>\n",
       "      <td>Dec-2011</td>\n",
       "      <td>Sep-2015</td>\n",
       "      <td>Fully Paid</td>\n",
       "      <td>wedding</td>\n",
       "      <td>n</td>\n",
       "      <td>A4</td>\n",
       "      <td>36 months</td>\n",
       "      <td>Source Verified</td>\n",
       "    </tr>\n",
       "  </tbody>\n",
       "</table>\n",
       "</div>"
      ],
      "text/plain": [
       "  addr_state application_type earliest_cr_line grade home_ownership  \\\n",
       "0         AZ       INDIVIDUAL         Jan-1985     B           RENT   \n",
       "1         GA       INDIVIDUAL         Apr-1999     C           RENT   \n",
       "2         IL       INDIVIDUAL         Nov-2001     C           RENT   \n",
       "3         CA       INDIVIDUAL         Feb-1996     C           RENT   \n",
       "4         OR       INDIVIDUAL         Jan-1996     B           RENT   \n",
       "5         AZ       INDIVIDUAL         Nov-2004     A           RENT   \n",
       "\n",
       "  initial_list_status   issue_d last_credit_pull_d  loan_status  \\\n",
       "0                   f  Dec-2011           Jan-2016   Fully Paid   \n",
       "1                   f  Dec-2011           Sep-2013  Charged Off   \n",
       "2                   f  Dec-2011           Jan-2016   Fully Paid   \n",
       "3                   f  Dec-2011           Jan-2015   Fully Paid   \n",
       "4                   f  Dec-2011           Jan-2016      Current   \n",
       "5                   f  Dec-2011           Sep-2015   Fully Paid   \n",
       "\n",
       "          purpose pymnt_plan sub_grade        term verification_status  \n",
       "0     credit_card          n        B2   36 months            Verified  \n",
       "1             car          n        C4   60 months     Source Verified  \n",
       "2  small_business          n        C5   36 months        Not Verified  \n",
       "3           other          n        C1   36 months     Source Verified  \n",
       "4           other          n        B5   60 months     Source Verified  \n",
       "5         wedding          n        A4   36 months     Source Verified  "
      ]
     },
     "execution_count": 17,
     "metadata": {},
     "output_type": "execute_result"
    }
   ],
   "source": [
    "df.loc[:5, df.dtypes == object]"
   ]
  },
  {
   "cell_type": "markdown",
   "metadata": {},
   "source": [
    "We are left with 16 categorical features. <br/>\n",
    "I will convert them to integers or binary. <br/>\n",
    "I will inspect each feature in detail, as it is crucial to represent the underlying data the best way possible.\n",
    " \n",
    "As for addr_state I will perform onehot encoding. Probably most of them will be removed as insignificant later, but why not try?"
   ]
  },
  {
   "cell_type": "code",
   "execution_count": 18,
   "metadata": {},
   "outputs": [
    {
     "data": {
      "text/html": [
       "<div>\n",
       "<style scoped>\n",
       "    .dataframe tbody tr th:only-of-type {\n",
       "        vertical-align: middle;\n",
       "    }\n",
       "\n",
       "    .dataframe tbody tr th {\n",
       "        vertical-align: top;\n",
       "    }\n",
       "\n",
       "    .dataframe thead th {\n",
       "        text-align: right;\n",
       "    }\n",
       "</style>\n",
       "<table border=\"1\" class=\"dataframe\">\n",
       "  <thead>\n",
       "    <tr style=\"text-align: right;\">\n",
       "      <th></th>\n",
       "      <th>state_AK</th>\n",
       "      <th>state_AL</th>\n",
       "      <th>state_AR</th>\n",
       "      <th>state_AZ</th>\n",
       "      <th>state_CA</th>\n",
       "      <th>state_CO</th>\n",
       "      <th>state_CT</th>\n",
       "      <th>state_DC</th>\n",
       "      <th>state_DE</th>\n",
       "      <th>state_FL</th>\n",
       "      <th>state_GA</th>\n",
       "      <th>state_HI</th>\n",
       "      <th>state_IA</th>\n",
       "      <th>state_ID</th>\n",
       "      <th>state_IL</th>\n",
       "      <th>state_IN</th>\n",
       "      <th>state_KS</th>\n",
       "      <th>state_KY</th>\n",
       "      <th>state_LA</th>\n",
       "      <th>state_MA</th>\n",
       "      <th>state_MD</th>\n",
       "      <th>state_ME</th>\n",
       "      <th>state_MI</th>\n",
       "      <th>state_MN</th>\n",
       "      <th>state_MO</th>\n",
       "      <th>state_MS</th>\n",
       "      <th>state_MT</th>\n",
       "      <th>state_NC</th>\n",
       "      <th>state_ND</th>\n",
       "      <th>state_NE</th>\n",
       "      <th>state_NH</th>\n",
       "      <th>state_NJ</th>\n",
       "      <th>state_NM</th>\n",
       "      <th>state_NV</th>\n",
       "      <th>state_NY</th>\n",
       "      <th>state_OH</th>\n",
       "      <th>state_OK</th>\n",
       "      <th>state_OR</th>\n",
       "      <th>state_PA</th>\n",
       "      <th>state_RI</th>\n",
       "      <th>state_SC</th>\n",
       "      <th>state_SD</th>\n",
       "      <th>state_TN</th>\n",
       "      <th>state_TX</th>\n",
       "      <th>state_UT</th>\n",
       "      <th>state_VA</th>\n",
       "      <th>state_VT</th>\n",
       "      <th>state_WA</th>\n",
       "      <th>state_WI</th>\n",
       "      <th>state_WV</th>\n",
       "      <th>state_WY</th>\n",
       "    </tr>\n",
       "  </thead>\n",
       "  <tbody>\n",
       "    <tr>\n",
       "      <th>0</th>\n",
       "      <td>0</td>\n",
       "      <td>0</td>\n",
       "      <td>0</td>\n",
       "      <td>1</td>\n",
       "      <td>0</td>\n",
       "      <td>0</td>\n",
       "      <td>0</td>\n",
       "      <td>0</td>\n",
       "      <td>0</td>\n",
       "      <td>0</td>\n",
       "      <td>0</td>\n",
       "      <td>0</td>\n",
       "      <td>0</td>\n",
       "      <td>0</td>\n",
       "      <td>0</td>\n",
       "      <td>0</td>\n",
       "      <td>0</td>\n",
       "      <td>0</td>\n",
       "      <td>0</td>\n",
       "      <td>0</td>\n",
       "      <td>0</td>\n",
       "      <td>0</td>\n",
       "      <td>0</td>\n",
       "      <td>0</td>\n",
       "      <td>0</td>\n",
       "      <td>0</td>\n",
       "      <td>0</td>\n",
       "      <td>0</td>\n",
       "      <td>0</td>\n",
       "      <td>0</td>\n",
       "      <td>0</td>\n",
       "      <td>0</td>\n",
       "      <td>0</td>\n",
       "      <td>0</td>\n",
       "      <td>0</td>\n",
       "      <td>0</td>\n",
       "      <td>0</td>\n",
       "      <td>0</td>\n",
       "      <td>0</td>\n",
       "      <td>0</td>\n",
       "      <td>0</td>\n",
       "      <td>0</td>\n",
       "      <td>0</td>\n",
       "      <td>0</td>\n",
       "      <td>0</td>\n",
       "      <td>0</td>\n",
       "      <td>0</td>\n",
       "      <td>0</td>\n",
       "      <td>0</td>\n",
       "      <td>0</td>\n",
       "      <td>0</td>\n",
       "    </tr>\n",
       "    <tr>\n",
       "      <th>1</th>\n",
       "      <td>0</td>\n",
       "      <td>0</td>\n",
       "      <td>0</td>\n",
       "      <td>0</td>\n",
       "      <td>0</td>\n",
       "      <td>0</td>\n",
       "      <td>0</td>\n",
       "      <td>0</td>\n",
       "      <td>0</td>\n",
       "      <td>0</td>\n",
       "      <td>1</td>\n",
       "      <td>0</td>\n",
       "      <td>0</td>\n",
       "      <td>0</td>\n",
       "      <td>0</td>\n",
       "      <td>0</td>\n",
       "      <td>0</td>\n",
       "      <td>0</td>\n",
       "      <td>0</td>\n",
       "      <td>0</td>\n",
       "      <td>0</td>\n",
       "      <td>0</td>\n",
       "      <td>0</td>\n",
       "      <td>0</td>\n",
       "      <td>0</td>\n",
       "      <td>0</td>\n",
       "      <td>0</td>\n",
       "      <td>0</td>\n",
       "      <td>0</td>\n",
       "      <td>0</td>\n",
       "      <td>0</td>\n",
       "      <td>0</td>\n",
       "      <td>0</td>\n",
       "      <td>0</td>\n",
       "      <td>0</td>\n",
       "      <td>0</td>\n",
       "      <td>0</td>\n",
       "      <td>0</td>\n",
       "      <td>0</td>\n",
       "      <td>0</td>\n",
       "      <td>0</td>\n",
       "      <td>0</td>\n",
       "      <td>0</td>\n",
       "      <td>0</td>\n",
       "      <td>0</td>\n",
       "      <td>0</td>\n",
       "      <td>0</td>\n",
       "      <td>0</td>\n",
       "      <td>0</td>\n",
       "      <td>0</td>\n",
       "      <td>0</td>\n",
       "    </tr>\n",
       "    <tr>\n",
       "      <th>2</th>\n",
       "      <td>0</td>\n",
       "      <td>0</td>\n",
       "      <td>0</td>\n",
       "      <td>0</td>\n",
       "      <td>0</td>\n",
       "      <td>0</td>\n",
       "      <td>0</td>\n",
       "      <td>0</td>\n",
       "      <td>0</td>\n",
       "      <td>0</td>\n",
       "      <td>0</td>\n",
       "      <td>0</td>\n",
       "      <td>0</td>\n",
       "      <td>0</td>\n",
       "      <td>1</td>\n",
       "      <td>0</td>\n",
       "      <td>0</td>\n",
       "      <td>0</td>\n",
       "      <td>0</td>\n",
       "      <td>0</td>\n",
       "      <td>0</td>\n",
       "      <td>0</td>\n",
       "      <td>0</td>\n",
       "      <td>0</td>\n",
       "      <td>0</td>\n",
       "      <td>0</td>\n",
       "      <td>0</td>\n",
       "      <td>0</td>\n",
       "      <td>0</td>\n",
       "      <td>0</td>\n",
       "      <td>0</td>\n",
       "      <td>0</td>\n",
       "      <td>0</td>\n",
       "      <td>0</td>\n",
       "      <td>0</td>\n",
       "      <td>0</td>\n",
       "      <td>0</td>\n",
       "      <td>0</td>\n",
       "      <td>0</td>\n",
       "      <td>0</td>\n",
       "      <td>0</td>\n",
       "      <td>0</td>\n",
       "      <td>0</td>\n",
       "      <td>0</td>\n",
       "      <td>0</td>\n",
       "      <td>0</td>\n",
       "      <td>0</td>\n",
       "      <td>0</td>\n",
       "      <td>0</td>\n",
       "      <td>0</td>\n",
       "      <td>0</td>\n",
       "    </tr>\n",
       "    <tr>\n",
       "      <th>3</th>\n",
       "      <td>0</td>\n",
       "      <td>0</td>\n",
       "      <td>0</td>\n",
       "      <td>0</td>\n",
       "      <td>1</td>\n",
       "      <td>0</td>\n",
       "      <td>0</td>\n",
       "      <td>0</td>\n",
       "      <td>0</td>\n",
       "      <td>0</td>\n",
       "      <td>0</td>\n",
       "      <td>0</td>\n",
       "      <td>0</td>\n",
       "      <td>0</td>\n",
       "      <td>0</td>\n",
       "      <td>0</td>\n",
       "      <td>0</td>\n",
       "      <td>0</td>\n",
       "      <td>0</td>\n",
       "      <td>0</td>\n",
       "      <td>0</td>\n",
       "      <td>0</td>\n",
       "      <td>0</td>\n",
       "      <td>0</td>\n",
       "      <td>0</td>\n",
       "      <td>0</td>\n",
       "      <td>0</td>\n",
       "      <td>0</td>\n",
       "      <td>0</td>\n",
       "      <td>0</td>\n",
       "      <td>0</td>\n",
       "      <td>0</td>\n",
       "      <td>0</td>\n",
       "      <td>0</td>\n",
       "      <td>0</td>\n",
       "      <td>0</td>\n",
       "      <td>0</td>\n",
       "      <td>0</td>\n",
       "      <td>0</td>\n",
       "      <td>0</td>\n",
       "      <td>0</td>\n",
       "      <td>0</td>\n",
       "      <td>0</td>\n",
       "      <td>0</td>\n",
       "      <td>0</td>\n",
       "      <td>0</td>\n",
       "      <td>0</td>\n",
       "      <td>0</td>\n",
       "      <td>0</td>\n",
       "      <td>0</td>\n",
       "      <td>0</td>\n",
       "    </tr>\n",
       "    <tr>\n",
       "      <th>4</th>\n",
       "      <td>0</td>\n",
       "      <td>0</td>\n",
       "      <td>0</td>\n",
       "      <td>0</td>\n",
       "      <td>0</td>\n",
       "      <td>0</td>\n",
       "      <td>0</td>\n",
       "      <td>0</td>\n",
       "      <td>0</td>\n",
       "      <td>0</td>\n",
       "      <td>0</td>\n",
       "      <td>0</td>\n",
       "      <td>0</td>\n",
       "      <td>0</td>\n",
       "      <td>0</td>\n",
       "      <td>0</td>\n",
       "      <td>0</td>\n",
       "      <td>0</td>\n",
       "      <td>0</td>\n",
       "      <td>0</td>\n",
       "      <td>0</td>\n",
       "      <td>0</td>\n",
       "      <td>0</td>\n",
       "      <td>0</td>\n",
       "      <td>0</td>\n",
       "      <td>0</td>\n",
       "      <td>0</td>\n",
       "      <td>0</td>\n",
       "      <td>0</td>\n",
       "      <td>0</td>\n",
       "      <td>0</td>\n",
       "      <td>0</td>\n",
       "      <td>0</td>\n",
       "      <td>0</td>\n",
       "      <td>0</td>\n",
       "      <td>0</td>\n",
       "      <td>0</td>\n",
       "      <td>1</td>\n",
       "      <td>0</td>\n",
       "      <td>0</td>\n",
       "      <td>0</td>\n",
       "      <td>0</td>\n",
       "      <td>0</td>\n",
       "      <td>0</td>\n",
       "      <td>0</td>\n",
       "      <td>0</td>\n",
       "      <td>0</td>\n",
       "      <td>0</td>\n",
       "      <td>0</td>\n",
       "      <td>0</td>\n",
       "      <td>0</td>\n",
       "    </tr>\n",
       "  </tbody>\n",
       "</table>\n",
       "</div>"
      ],
      "text/plain": [
       "   state_AK  state_AL  state_AR  state_AZ  state_CA  state_CO  state_CT  \\\n",
       "0         0         0         0         1         0         0         0   \n",
       "1         0         0         0         0         0         0         0   \n",
       "2         0         0         0         0         0         0         0   \n",
       "3         0         0         0         0         1         0         0   \n",
       "4         0         0         0         0         0         0         0   \n",
       "\n",
       "   state_DC  state_DE  state_FL  state_GA  state_HI  state_IA  state_ID  \\\n",
       "0         0         0         0         0         0         0         0   \n",
       "1         0         0         0         1         0         0         0   \n",
       "2         0         0         0         0         0         0         0   \n",
       "3         0         0         0         0         0         0         0   \n",
       "4         0         0         0         0         0         0         0   \n",
       "\n",
       "   state_IL  state_IN  state_KS  state_KY  state_LA  state_MA  state_MD  \\\n",
       "0         0         0         0         0         0         0         0   \n",
       "1         0         0         0         0         0         0         0   \n",
       "2         1         0         0         0         0         0         0   \n",
       "3         0         0         0         0         0         0         0   \n",
       "4         0         0         0         0         0         0         0   \n",
       "\n",
       "   state_ME  state_MI  state_MN  state_MO  state_MS  state_MT  state_NC  \\\n",
       "0         0         0         0         0         0         0         0   \n",
       "1         0         0         0         0         0         0         0   \n",
       "2         0         0         0         0         0         0         0   \n",
       "3         0         0         0         0         0         0         0   \n",
       "4         0         0         0         0         0         0         0   \n",
       "\n",
       "   state_ND  state_NE  state_NH  state_NJ  state_NM  state_NV  state_NY  \\\n",
       "0         0         0         0         0         0         0         0   \n",
       "1         0         0         0         0         0         0         0   \n",
       "2         0         0         0         0         0         0         0   \n",
       "3         0         0         0         0         0         0         0   \n",
       "4         0         0         0         0         0         0         0   \n",
       "\n",
       "   state_OH  state_OK  state_OR  state_PA  state_RI  state_SC  state_SD  \\\n",
       "0         0         0         0         0         0         0         0   \n",
       "1         0         0         0         0         0         0         0   \n",
       "2         0         0         0         0         0         0         0   \n",
       "3         0         0         0         0         0         0         0   \n",
       "4         0         0         1         0         0         0         0   \n",
       "\n",
       "   state_TN  state_TX  state_UT  state_VA  state_VT  state_WA  state_WI  \\\n",
       "0         0         0         0         0         0         0         0   \n",
       "1         0         0         0         0         0         0         0   \n",
       "2         0         0         0         0         0         0         0   \n",
       "3         0         0         0         0         0         0         0   \n",
       "4         0         0         0         0         0         0         0   \n",
       "\n",
       "   state_WV  state_WY  \n",
       "0         0         0  \n",
       "1         0         0  \n",
       "2         0         0  \n",
       "3         0         0  \n",
       "4         0         0  "
      ]
     },
     "execution_count": 18,
     "metadata": {},
     "output_type": "execute_result"
    }
   ],
   "source": [
    "# Performing OneHotEncoding \n",
    "df = df.join(pd.get_dummies(df['addr_state'], prefix='state'))\n",
    "df.drop('addr_state', axis=1, inplace=True)\n",
    "df.iloc[:5,45:]"
   ]
  },
  {
   "cell_type": "markdown",
   "metadata": {},
   "source": [
    "Looks good. Now let's take a look at 'application_type'."
   ]
  },
  {
   "cell_type": "code",
   "execution_count": 19,
   "metadata": {},
   "outputs": [
    {
     "data": {
      "text/plain": [
       "<matplotlib.axes._subplots.AxesSubplot at 0x22e3be29470>"
      ]
     },
     "execution_count": 19,
     "metadata": {},
     "output_type": "execute_result"
    },
    {
     "data": {
      "image/png": "[encoded data removed]",
      "text/plain": [
       "<Figure size 432x288 with 1 Axes>"
      ]
     },
     "metadata": {},
     "output_type": "display_data"
    }
   ],
   "source": [
    "df['application_type'].value_counts().plot(kind='bar', title='Application type ratio')"
   ]
  },
  {
   "cell_type": "markdown",
   "metadata": {},
   "source": [
    "The feature is very imbalanced, but I will convert it to binary, and if it is not significant it will be removed later."
   ]
  },
  {
   "cell_type": "code",
   "execution_count": 20,
   "metadata": {},
   "outputs": [
    {
     "data": {
      "text/plain": [
       "<matplotlib.axes._subplots.AxesSubplot at 0x22e3be852e8>"
      ]
     },
     "execution_count": 20,
     "metadata": {},
     "output_type": "execute_result"
    },
    {
     "data": {
      "image/png": "[encoded data removed]",
      "text/plain": [
       "<Figure size 432x288 with 1 Axes>"
      ]
     },
     "metadata": {},
     "output_type": "display_data"
    }
   ],
   "source": [
    "# Defining conversion function\n",
    "def binary_conv(value):\n",
    "    \n",
    "    string = str(value).strip()\n",
    "    if string=='JOINT':\n",
    "        return 1\n",
    "    else:\n",
    "        return 0\n",
    "    \n",
    "# Applyting the function and converting to binary\n",
    "df['application_type'] = df['application_type'].apply(binary_conv)\n",
    "df['application_type'].value_counts().plot(kind='bar', title='Application type ratio')"
   ]
  },
  {
   "cell_type": "markdown",
   "metadata": {},
   "source": [
    "For 'earliest_cr_line' I will use the same fuction as before - I will transfrom it to years that passed since"
   ]
  },
  {
   "cell_type": "code",
   "execution_count": 21,
   "metadata": {},
   "outputs": [
    {
     "data": {
      "text/plain": [
       "<matplotlib.axes._subplots.AxesSubplot at 0x22e3beea198>"
      ]
     },
     "execution_count": 21,
     "metadata": {},
     "output_type": "execute_result"
    },
    {
     "data": {
      "image/png": "[encoded data removed]",
      "text/plain": [
       "<Figure size 432x288 with 1 Axes>"
      ]
     },
     "metadata": {},
     "output_type": "display_data"
    }
   ],
   "source": [
    "# Defining transformation function\n",
    "def transform_date(series):\n",
    "    try:\n",
    "        string = str(series)\n",
    "        year = int(string[-2:])\n",
    "        \n",
    "        if year > 16:\n",
    "            years_passed = 100 - year + 16\n",
    "        else:\n",
    "            years_passed = 16 - year\n",
    "        return years_passed\n",
    "    except:\n",
    "        print(series)\n",
    "\n",
    "# Applying the function\n",
    "df['earliest_cr_line'] = df['earliest_cr_line'].apply(transform_date)\n",
    "\n",
    "df['earliest_cr_line'].value_counts()[:8].plot(kind='bar', title='Months sice earliest credit line')"
   ]
  },
  {
   "cell_type": "markdown",
   "metadata": {},
   "source": [
    "Let's take a look at potentially very important feature - grade. It also has a twin feature - sub_grade"
   ]
  },
  {
   "cell_type": "code",
   "execution_count": 22,
   "metadata": {},
   "outputs": [
    {
     "name": "stdout",
     "output_type": "stream",
     "text": [
      "B    254409\n",
      "C    245690\n",
      "A    148125\n",
      "D    139393\n",
      "E     70616\n",
      "F     23010\n",
      "G      5470\n",
      "Name: grade, dtype: int64\n"
     ]
    },
    {
     "data": {
      "text/plain": [
       "B3    56295\n",
       "B4    55590\n",
       "C1    53358\n",
       "C2    52197\n",
       "C3    50132\n",
       "C4    48812\n",
       "B5    48808\n",
       "Name: sub_grade, dtype: int64"
      ]
     },
     "execution_count": 22,
     "metadata": {},
     "output_type": "execute_result"
    }
   ],
   "source": [
    "print(df['grade'].value_counts())\n",
    "df['sub_grade'].value_counts()[:7]"
   ]
  },
  {
   "cell_type": "markdown",
   "metadata": {},
   "source": [
    "Interestingly, subgrade feature contains the same information. <br/>\n",
    "That's why I will drop grade. <br/>\n",
    "I decided to convert subgrades to integers in range <1,35> by the following rule: <br/>\n",
    "\n",
    "\n",
    "A1 - 1<br/>\n",
    "A2 - 2<br/>\n",
    "...<br/>\n",
    "B1 - 6<br/>\n",
    "...<br/>\n",
    "G5  - 35<br/>"
   ]
  },
  {
   "cell_type": "code",
   "execution_count": 23,
   "metadata": {},
   "outputs": [
    {
     "data": {
      "text/plain": [
       "8     56295\n",
       "9     55590\n",
       "11    53358\n",
       "12    52197\n",
       "13    50132\n",
       "Name: sub_grade, dtype: int64"
      ]
     },
     "execution_count": 23,
     "metadata": {},
     "output_type": "execute_result"
    }
   ],
   "source": [
    "# Dropping grade column\n",
    "df.drop('grade', axis=1, inplace=True)\n",
    "\n",
    "# Dictionary with alphabet - number transitions\n",
    "alpha_dict = {'A': 0, 'B': 5, 'C': 10, 'D': 15, 'E': 20, 'F': 25, 'G': 30}\n",
    "\n",
    "# Defining transformation function\n",
    "def alpha_transform(series):\n",
    "    \n",
    "    string = str(series)\n",
    "    number = alpha_dict[string[0]] + int(string[1])\n",
    "\n",
    "    return number\n",
    "\n",
    "# Applying transformation function\n",
    "df['sub_grade'] = df['sub_grade'].apply(alpha_transform)\n",
    "df['sub_grade'].value_counts()[:5]"
   ]
  },
  {
   "cell_type": "markdown",
   "metadata": {},
   "source": [
    "Now, let's take a look at 'home_ownership'"
   ]
  },
  {
   "cell_type": "code",
   "execution_count": 24,
   "metadata": {},
   "outputs": [
    {
     "data": {
      "text/plain": [
       "<matplotlib.axes._subplots.AxesSubplot at 0x22e3beeabe0>"
      ]
     },
     "execution_count": 24,
     "metadata": {},
     "output_type": "execute_result"
    },
    {
     "data": {
      "image/png": "[encoded data removed]",
      "text/plain": [
       "<Figure size 432x288 with 1 Axes>"
      ]
     },
     "metadata": {},
     "output_type": "display_data"
    }
   ],
   "source": [
    "df['home_ownership'].value_counts().plot(kind='bar', title='Home ownership class ratio')"
   ]
  },
  {
   "cell_type": "markdown",
   "metadata": {},
   "source": [
    "In this case I will perform one hot encoding again. I suspect that there may be important mappings hidden, even if the feature is strongly imbalance."
   ]
  },
  {
   "cell_type": "code",
   "execution_count": 25,
   "metadata": {},
   "outputs": [
    {
     "data": {
      "text/plain": [
       "<matplotlib.axes._subplots.AxesSubplot at 0x22e3bfaa7b8>"
      ]
     },
     "execution_count": 25,
     "metadata": {},
     "output_type": "execute_result"
    },
    {
     "data": {
      "image/png": "[encoded data removed]",
      "text/plain": [
       "<Figure size 432x288 with 1 Axes>"
      ]
     },
     "metadata": {},
     "output_type": "display_data"
    }
   ],
   "source": [
    "# I will convert all ANY values to OTHER first - they seem to represent the same:\n",
    "def home_transform(series):\n",
    "    string = str(series)\n",
    "    if string == 'ANY':\n",
    "        return 'OTHER'\n",
    "    else: return series\n",
    "\n",
    "# Apply transformation function\n",
    "df['home_ownership'] = df['home_ownership'].apply(home_transform)\n",
    "df['home_ownership'].value_counts().plot(kind='bar', title='Home ownership class ratio')"
   ]
  },
  {
   "cell_type": "code",
   "execution_count": 26,
   "metadata": {},
   "outputs": [
    {
     "data": {
      "text/html": [
       "<div>\n",
       "<style scoped>\n",
       "    .dataframe tbody tr th:only-of-type {\n",
       "        vertical-align: middle;\n",
       "    }\n",
       "\n",
       "    .dataframe tbody tr th {\n",
       "        vertical-align: top;\n",
       "    }\n",
       "\n",
       "    .dataframe thead th {\n",
       "        text-align: right;\n",
       "    }\n",
       "</style>\n",
       "<table border=\"1\" class=\"dataframe\">\n",
       "  <thead>\n",
       "    <tr style=\"text-align: right;\">\n",
       "      <th></th>\n",
       "      <th>home_MORTGAGE</th>\n",
       "      <th>home_NONE</th>\n",
       "      <th>home_OTHER</th>\n",
       "      <th>home_OWN</th>\n",
       "      <th>home_RENT</th>\n",
       "    </tr>\n",
       "  </thead>\n",
       "  <tbody>\n",
       "    <tr>\n",
       "      <th>0</th>\n",
       "      <td>0</td>\n",
       "      <td>0</td>\n",
       "      <td>0</td>\n",
       "      <td>0</td>\n",
       "      <td>1</td>\n",
       "    </tr>\n",
       "    <tr>\n",
       "      <th>1</th>\n",
       "      <td>0</td>\n",
       "      <td>0</td>\n",
       "      <td>0</td>\n",
       "      <td>0</td>\n",
       "      <td>1</td>\n",
       "    </tr>\n",
       "    <tr>\n",
       "      <th>2</th>\n",
       "      <td>0</td>\n",
       "      <td>0</td>\n",
       "      <td>0</td>\n",
       "      <td>0</td>\n",
       "      <td>1</td>\n",
       "    </tr>\n",
       "    <tr>\n",
       "      <th>3</th>\n",
       "      <td>0</td>\n",
       "      <td>0</td>\n",
       "      <td>0</td>\n",
       "      <td>0</td>\n",
       "      <td>1</td>\n",
       "    </tr>\n",
       "    <tr>\n",
       "      <th>4</th>\n",
       "      <td>0</td>\n",
       "      <td>0</td>\n",
       "      <td>0</td>\n",
       "      <td>0</td>\n",
       "      <td>1</td>\n",
       "    </tr>\n",
       "  </tbody>\n",
       "</table>\n",
       "</div>"
      ],
      "text/plain": [
       "   home_MORTGAGE  home_NONE  home_OTHER  home_OWN  home_RENT\n",
       "0              0          0           0         0          1\n",
       "1              0          0           0         0          1\n",
       "2              0          0           0         0          1\n",
       "3              0          0           0         0          1\n",
       "4              0          0           0         0          1"
      ]
     },
     "execution_count": 26,
     "metadata": {},
     "output_type": "execute_result"
    }
   ],
   "source": [
    "# Performing one hot encoding\n",
    "df = df.join(pd.get_dummies(df['home_ownership'], prefix='home'))\n",
    "df.drop('home_ownership', axis=1, inplace=True)\n",
    "df.iloc[:5, -5:]"
   ]
  },
  {
   "cell_type": "code",
   "execution_count": 27,
   "metadata": {},
   "outputs": [
    {
     "data": {
      "text/plain": [
       "<matplotlib.axes._subplots.AxesSubplot at 0x22e3bff1128>"
      ]
     },
     "execution_count": 27,
     "metadata": {},
     "output_type": "execute_result"
    },
    {
     "data": {
      "image/png": "[encoded data removed]",
      "text/plain": [
       "<Figure size 432x288 with 1 Axes>"
      ]
     },
     "metadata": {},
     "output_type": "display_data"
    }
   ],
   "source": [
    "df['initial_list_status'].value_counts().plot(kind='bar', title='Initial list status class ratio')"
   ]
  },
  {
   "cell_type": "markdown",
   "metadata": {},
   "source": [
    "In case of initial_list_status I will convert it to binary"
   ]
  },
  {
   "cell_type": "code",
   "execution_count": 28,
   "metadata": {},
   "outputs": [
    {
     "data": {
      "text/plain": [
       "<matplotlib.axes._subplots.AxesSubplot at 0x22e3c05dba8>"
      ]
     },
     "execution_count": 28,
     "metadata": {},
     "output_type": "execute_result"
    },
    {
     "data": {
      "image/png": "[encoded data removed]",
      "text/plain": [
       "<Figure size 432x288 with 1 Axes>"
      ]
     },
     "metadata": {},
     "output_type": "display_data"
    }
   ],
   "source": [
    "# Defining transformation function\n",
    "def fw_transform(series):\n",
    "    string = str(series)\n",
    "    if string == 'f':\n",
    "        return 1\n",
    "    else:\n",
    "        return 0\n",
    "\n",
    "# Applying transformation function \n",
    "df['initial_list_status'] = df['initial_list_status'].apply(fw_transform)\n",
    "df['initial_list_status'].value_counts().plot(kind='bar', title='Initial list status class ratio')   "
   ]
  },
  {
   "cell_type": "code",
   "execution_count": 29,
   "metadata": {
    "scrolled": true
   },
   "outputs": [
    {
     "data": {
      "text/html": [
       "<div>\n",
       "<style scoped>\n",
       "    .dataframe tbody tr th:only-of-type {\n",
       "        vertical-align: middle;\n",
       "    }\n",
       "\n",
       "    .dataframe tbody tr th {\n",
       "        vertical-align: top;\n",
       "    }\n",
       "\n",
       "    .dataframe thead th {\n",
       "        text-align: right;\n",
       "    }\n",
       "</style>\n",
       "<table border=\"1\" class=\"dataframe\">\n",
       "  <thead>\n",
       "    <tr style=\"text-align: right;\">\n",
       "      <th></th>\n",
       "      <th>last_credit_pull_d</th>\n",
       "      <th>issue_d</th>\n",
       "    </tr>\n",
       "  </thead>\n",
       "  <tbody>\n",
       "    <tr>\n",
       "      <th>0</th>\n",
       "      <td>Jan-2016</td>\n",
       "      <td>Dec-2011</td>\n",
       "    </tr>\n",
       "    <tr>\n",
       "      <th>1</th>\n",
       "      <td>Sep-2013</td>\n",
       "      <td>Dec-2011</td>\n",
       "    </tr>\n",
       "    <tr>\n",
       "      <th>2</th>\n",
       "      <td>Jan-2016</td>\n",
       "      <td>Dec-2011</td>\n",
       "    </tr>\n",
       "    <tr>\n",
       "      <th>3</th>\n",
       "      <td>Jan-2015</td>\n",
       "      <td>Dec-2011</td>\n",
       "    </tr>\n",
       "    <tr>\n",
       "      <th>4</th>\n",
       "      <td>Jan-2016</td>\n",
       "      <td>Dec-2011</td>\n",
       "    </tr>\n",
       "  </tbody>\n",
       "</table>\n",
       "</div>"
      ],
      "text/plain": [
       "  last_credit_pull_d   issue_d\n",
       "0           Jan-2016  Dec-2011\n",
       "1           Sep-2013  Dec-2011\n",
       "2           Jan-2016  Dec-2011\n",
       "3           Jan-2015  Dec-2011\n",
       "4           Jan-2016  Dec-2011"
      ]
     },
     "execution_count": 29,
     "metadata": {},
     "output_type": "execute_result"
    }
   ],
   "source": [
    "df[['last_credit_pull_d', 'issue_d']].head()"
   ]
  },
  {
   "cell_type": "markdown",
   "metadata": {},
   "source": [
    "Now I will convert last_credit_pull_d and issue_d to months that have passed since. (as I already did before)"
   ]
  },
  {
   "cell_type": "code",
   "execution_count": 30,
   "metadata": {},
   "outputs": [
    {
     "data": {
      "text/html": [
       "<div>\n",
       "<style scoped>\n",
       "    .dataframe tbody tr th:only-of-type {\n",
       "        vertical-align: middle;\n",
       "    }\n",
       "\n",
       "    .dataframe tbody tr th {\n",
       "        vertical-align: top;\n",
       "    }\n",
       "\n",
       "    .dataframe thead th {\n",
       "        text-align: right;\n",
       "    }\n",
       "</style>\n",
       "<table border=\"1\" class=\"dataframe\">\n",
       "  <thead>\n",
       "    <tr style=\"text-align: right;\">\n",
       "      <th></th>\n",
       "      <th>last_credit_pull_d</th>\n",
       "      <th>issue_d</th>\n",
       "    </tr>\n",
       "  </thead>\n",
       "  <tbody>\n",
       "    <tr>\n",
       "      <th>0</th>\n",
       "      <td>0</td>\n",
       "      <td>49</td>\n",
       "    </tr>\n",
       "    <tr>\n",
       "      <th>1</th>\n",
       "      <td>28</td>\n",
       "      <td>49</td>\n",
       "    </tr>\n",
       "    <tr>\n",
       "      <th>2</th>\n",
       "      <td>0</td>\n",
       "      <td>49</td>\n",
       "    </tr>\n",
       "    <tr>\n",
       "      <th>3</th>\n",
       "      <td>12</td>\n",
       "      <td>49</td>\n",
       "    </tr>\n",
       "    <tr>\n",
       "      <th>4</th>\n",
       "      <td>0</td>\n",
       "      <td>49</td>\n",
       "    </tr>\n",
       "  </tbody>\n",
       "</table>\n",
       "</div>"
      ],
      "text/plain": [
       "   last_credit_pull_d  issue_d\n",
       "0                   0       49\n",
       "1                  28       49\n",
       "2                   0       49\n",
       "3                  12       49\n",
       "4                   0       49"
      ]
     },
     "execution_count": 30,
     "metadata": {},
     "output_type": "execute_result"
    }
   ],
   "source": [
    "# Transformation dictionary\n",
    "month_dict = {\"Jan\":1,\"Feb\":2,\"Mar\":3,\"Apr\":4, \"May\":5, \"Jun\":6, \"Jul\":7,\"Aug\":8,\"Sep\":9,\"Oct\":10,\"Nov\":11,\"Dec\":12}\n",
    "\n",
    "# Defining transformation function\n",
    "def date_transform(series):\n",
    "        \n",
    "        series = str(series)\n",
    "        year = int(series[-2:])\n",
    "        month_name = series[0:3]\n",
    "        try:\n",
    "            month = month_dict[month_name]\n",
    "        except:\n",
    "            month = 0\n",
    "            \n",
    "        months_passed = None\n",
    "        if month == 1 and year == 16:\n",
    "            return 0\n",
    "        else:\n",
    "            return (12 * (15-year)) + (13 - month)\n",
    "\n",
    "# Applying transformation function\n",
    "df['last_credit_pull_d'] = df['last_credit_pull_d'].apply(date_transform)\n",
    "df['issue_d'] = df['issue_d'].apply(date_transform)\n",
    "\n",
    "df[['last_credit_pull_d', 'issue_d']].head()"
   ]
  },
  {
   "cell_type": "markdown",
   "metadata": {},
   "source": [
    "Now let's convert crucial feature for us - our label 'loan_status'."
   ]
  },
  {
   "cell_type": "code",
   "execution_count": 31,
   "metadata": {},
   "outputs": [
    {
     "data": {
      "text/plain": [
       "<matplotlib.axes._subplots.AxesSubplot at 0x22e3c09fd30>"
      ]
     },
     "execution_count": 31,
     "metadata": {},
     "output_type": "execute_result"
    },
    {
     "data": {
      "image/png": "[encoded data removed]",
      "text/plain": [
       "<Figure size 432x288 with 1 Axes>"
      ]
     },
     "metadata": {},
     "output_type": "display_data"
    }
   ],
   "source": [
    "df['loan_status'].value_counts().plot(kind='bar', title='Loan status class ratio')"
   ]
  },
  {
   "cell_type": "code",
   "execution_count": 32,
   "metadata": {},
   "outputs": [
    {
     "data": {
      "text/plain": [
       "<matplotlib.axes._subplots.AxesSubplot at 0x22e3c12a320>"
      ]
     },
     "execution_count": 32,
     "metadata": {},
     "output_type": "execute_result"
    },
    {
     "data": {
      "image/png": "[encoded data removed]",
      "text/plain": [
       "<Figure size 432x288 with 1 Axes>"
      ]
     },
     "metadata": {},
     "output_type": "display_data"
    }
   ],
   "source": [
    "# Converting loan_status as stated in task description\n",
    "loan_status_list = ['Charged off',\n",
    "                    'Default',\n",
    "                    'Does not meet the credit policy. Status: Charged Off',\n",
    "                    'Late (31-120 days)']\n",
    "\n",
    "def loan_status_transform(loan_status):\n",
    "    loan_status = str(loan_status)\n",
    "    if loan_status in loan_status_list:\n",
    "        return 1\n",
    "    else:\n",
    "        return 0\n",
    "\n",
    "# Applying transformation function\n",
    "df['loan_status'] = df['loan_status'].apply(loan_status_transform)\n",
    "df['loan_status'].value_counts().plot(kind='bar', title='Loan status class ratio')               "
   ]
  },
  {
   "cell_type": "markdown",
   "metadata": {},
   "source": [
    "We already see that we have a serious imbalance in our data.\n",
    "But for now let's focus on the last features which are not numeric."
   ]
  },
  {
   "cell_type": "code",
   "execution_count": 33,
   "metadata": {},
   "outputs": [
    {
     "data": {
      "text/plain": [
       "<matplotlib.axes._subplots.AxesSubplot at 0x22e3c178c50>"
      ]
     },
     "execution_count": 33,
     "metadata": {},
     "output_type": "execute_result"
    },
    {
     "data": {
      "image/png": "[encoded data removed]",
      "text/plain": [
       "<Figure size 432x288 with 1 Axes>"
      ]
     },
     "metadata": {},
     "output_type": "display_data"
    }
   ],
   "source": [
    "df['purpose'].value_counts().plot(kind='bar', title='Purpose class ratio')"
   ]
  },
  {
   "cell_type": "markdown",
   "metadata": {},
   "source": [
    "In this case I will perform OneHotEncoding as well. "
   ]
  },
  {
   "cell_type": "code",
   "execution_count": 34,
   "metadata": {},
   "outputs": [
    {
     "data": {
      "text/html": [
       "<div>\n",
       "<style scoped>\n",
       "    .dataframe tbody tr th:only-of-type {\n",
       "        vertical-align: middle;\n",
       "    }\n",
       "\n",
       "    .dataframe tbody tr th {\n",
       "        vertical-align: top;\n",
       "    }\n",
       "\n",
       "    .dataframe thead th {\n",
       "        text-align: right;\n",
       "    }\n",
       "</style>\n",
       "<table border=\"1\" class=\"dataframe\">\n",
       "  <thead>\n",
       "    <tr style=\"text-align: right;\">\n",
       "      <th></th>\n",
       "      <th>purpose_car</th>\n",
       "      <th>purpose_credit_card</th>\n",
       "      <th>purpose_debt_consolidation</th>\n",
       "      <th>purpose_educational</th>\n",
       "      <th>purpose_home_improvement</th>\n",
       "      <th>purpose_house</th>\n",
       "      <th>purpose_major_purchase</th>\n",
       "      <th>purpose_medical</th>\n",
       "      <th>purpose_moving</th>\n",
       "      <th>purpose_other</th>\n",
       "      <th>purpose_renewable_energy</th>\n",
       "      <th>purpose_small_business</th>\n",
       "      <th>purpose_vacation</th>\n",
       "      <th>purpose_wedding</th>\n",
       "    </tr>\n",
       "  </thead>\n",
       "  <tbody>\n",
       "    <tr>\n",
       "      <th>0</th>\n",
       "      <td>0</td>\n",
       "      <td>1</td>\n",
       "      <td>0</td>\n",
       "      <td>0</td>\n",
       "      <td>0</td>\n",
       "      <td>0</td>\n",
       "      <td>0</td>\n",
       "      <td>0</td>\n",
       "      <td>0</td>\n",
       "      <td>0</td>\n",
       "      <td>0</td>\n",
       "      <td>0</td>\n",
       "      <td>0</td>\n",
       "      <td>0</td>\n",
       "    </tr>\n",
       "    <tr>\n",
       "      <th>1</th>\n",
       "      <td>1</td>\n",
       "      <td>0</td>\n",
       "      <td>0</td>\n",
       "      <td>0</td>\n",
       "      <td>0</td>\n",
       "      <td>0</td>\n",
       "      <td>0</td>\n",
       "      <td>0</td>\n",
       "      <td>0</td>\n",
       "      <td>0</td>\n",
       "      <td>0</td>\n",
       "      <td>0</td>\n",
       "      <td>0</td>\n",
       "      <td>0</td>\n",
       "    </tr>\n",
       "    <tr>\n",
       "      <th>2</th>\n",
       "      <td>0</td>\n",
       "      <td>0</td>\n",
       "      <td>0</td>\n",
       "      <td>0</td>\n",
       "      <td>0</td>\n",
       "      <td>0</td>\n",
       "      <td>0</td>\n",
       "      <td>0</td>\n",
       "      <td>0</td>\n",
       "      <td>0</td>\n",
       "      <td>0</td>\n",
       "      <td>1</td>\n",
       "      <td>0</td>\n",
       "      <td>0</td>\n",
       "    </tr>\n",
       "    <tr>\n",
       "      <th>3</th>\n",
       "      <td>0</td>\n",
       "      <td>0</td>\n",
       "      <td>0</td>\n",
       "      <td>0</td>\n",
       "      <td>0</td>\n",
       "      <td>0</td>\n",
       "      <td>0</td>\n",
       "      <td>0</td>\n",
       "      <td>0</td>\n",
       "      <td>1</td>\n",
       "      <td>0</td>\n",
       "      <td>0</td>\n",
       "      <td>0</td>\n",
       "      <td>0</td>\n",
       "    </tr>\n",
       "    <tr>\n",
       "      <th>4</th>\n",
       "      <td>0</td>\n",
       "      <td>0</td>\n",
       "      <td>0</td>\n",
       "      <td>0</td>\n",
       "      <td>0</td>\n",
       "      <td>0</td>\n",
       "      <td>0</td>\n",
       "      <td>0</td>\n",
       "      <td>0</td>\n",
       "      <td>1</td>\n",
       "      <td>0</td>\n",
       "      <td>0</td>\n",
       "      <td>0</td>\n",
       "      <td>0</td>\n",
       "    </tr>\n",
       "  </tbody>\n",
       "</table>\n",
       "</div>"
      ],
      "text/plain": [
       "   purpose_car  purpose_credit_card  purpose_debt_consolidation  \\\n",
       "0            0                    1                           0   \n",
       "1            1                    0                           0   \n",
       "2            0                    0                           0   \n",
       "3            0                    0                           0   \n",
       "4            0                    0                           0   \n",
       "\n",
       "   purpose_educational  purpose_home_improvement  purpose_house  \\\n",
       "0                    0                         0              0   \n",
       "1                    0                         0              0   \n",
       "2                    0                         0              0   \n",
       "3                    0                         0              0   \n",
       "4                    0                         0              0   \n",
       "\n",
       "   purpose_major_purchase  purpose_medical  purpose_moving  purpose_other  \\\n",
       "0                       0                0               0              0   \n",
       "1                       0                0               0              0   \n",
       "2                       0                0               0              0   \n",
       "3                       0                0               0              1   \n",
       "4                       0                0               0              1   \n",
       "\n",
       "   purpose_renewable_energy  purpose_small_business  purpose_vacation  \\\n",
       "0                         0                       0                 0   \n",
       "1                         0                       0                 0   \n",
       "2                         0                       1                 0   \n",
       "3                         0                       0                 0   \n",
       "4                         0                       0                 0   \n",
       "\n",
       "   purpose_wedding  \n",
       "0                0  \n",
       "1                0  \n",
       "2                0  \n",
       "3                0  \n",
       "4                0  "
      ]
     },
     "execution_count": 34,
     "metadata": {},
     "output_type": "execute_result"
    }
   ],
   "source": [
    "# OneHotEncoding\n",
    "df = df.join(pd.get_dummies(df['purpose'], prefix='purpose'))\n",
    "df.drop('purpose', axis=1, inplace=True)\n",
    "df.iloc[:5,-14:]"
   ]
  },
  {
   "cell_type": "code",
   "execution_count": 35,
   "metadata": {},
   "outputs": [
    {
     "data": {
      "text/plain": [
       "<matplotlib.axes._subplots.AxesSubplot at 0x22e3c1f5400>"
      ]
     },
     "execution_count": 35,
     "metadata": {},
     "output_type": "execute_result"
    },
    {
     "data": {
      "image/png": "[encoded data removed]",
      "text/plain": [
       "<Figure size 432x288 with 1 Axes>"
      ]
     },
     "metadata": {},
     "output_type": "display_data"
    }
   ],
   "source": [
    "df['pymnt_plan'].value_counts().plot(kind='bar', title='Payment plan class ratio')"
   ]
  },
  {
   "cell_type": "markdown",
   "metadata": {},
   "source": [
    "In case of payment plan only 10 values are of the opposite class. That is to little to keep this feature."
   ]
  },
  {
   "cell_type": "code",
   "execution_count": 36,
   "metadata": {},
   "outputs": [],
   "source": [
    "# Dropping pymnt_plan\n",
    "df.drop(\"pymnt_plan\", inplace=True, axis=1)"
   ]
  },
  {
   "cell_type": "code",
   "execution_count": null,
   "metadata": {},
   "outputs": [],
   "source": [
    "df['term'].value_counts().plot(kind='bar', title='Term class ratio')"
   ]
  },
  {
   "cell_type": "markdown",
   "metadata": {},
   "source": [
    "Looking at term it is obvious, to convert it to binary."
   ]
  },
  {
   "cell_type": "code",
   "execution_count": 37,
   "metadata": {},
   "outputs": [
    {
     "data": {
      "text/plain": [
       "<matplotlib.axes._subplots.AxesSubplot at 0x22e3c25b2e8>"
      ]
     },
     "execution_count": 37,
     "metadata": {},
     "output_type": "execute_result"
    },
    {
     "data": {
      "image/png": "[encoded data removed]",
      "text/plain": [
       "<Figure size 432x288 with 1 Axes>"
      ]
     },
     "metadata": {},
     "output_type": "display_data"
    }
   ],
   "source": [
    "# Defining transformation function\n",
    "def term_transform(term):\n",
    "\n",
    "    term = str(term)\n",
    "    if term == \" 60 months\":\n",
    "        return 1\n",
    "    else:\n",
    "        return 0\n",
    "    \n",
    "# Applying transformation function\n",
    "df['term'] = df['term'].apply(term_transform)\n",
    "df['term'].value_counts().plot(kind='bar', title='Term class ratio')"
   ]
  },
  {
   "cell_type": "code",
   "execution_count": 38,
   "metadata": {},
   "outputs": [
    {
     "data": {
      "text/plain": [
       "<matplotlib.axes._subplots.AxesSubplot at 0x22e3c2ab828>"
      ]
     },
     "execution_count": 38,
     "metadata": {},
     "output_type": "execute_result"
    },
    {
     "data": {
      "image/png": "[encoded data removed]",
      "text/plain": [
       "<Figure size 432x288 with 1 Axes>"
      ]
     },
     "metadata": {},
     "output_type": "display_data"
    }
   ],
   "source": [
    "df['verification_status'].value_counts().plot(kind='bar', title='Verification status class ratio')"
   ]
  },
  {
   "cell_type": "markdown",
   "metadata": {},
   "source": [
    "I will also convert Verified and Source Verified to one class - '1' in this case.\n",
    "They seem to be very simmilar - in case of possibility to ask data provider this could be verified."
   ]
  },
  {
   "cell_type": "code",
   "execution_count": 39,
   "metadata": {},
   "outputs": [
    {
     "data": {
      "text/plain": [
       "<matplotlib.axes._subplots.AxesSubplot at 0x22e3c31a5f8>"
      ]
     },
     "execution_count": 39,
     "metadata": {},
     "output_type": "execute_result"
    },
    {
     "data": {
      "image/png": "[encoded data removed]",
      "text/plain": [
       "<Figure size 432x288 with 1 Axes>"
      ]
     },
     "metadata": {},
     "output_type": "display_data"
    }
   ],
   "source": [
    "# Defining transformation function\n",
    "def verification_transform(verif):\n",
    "\n",
    "    verif = str(verif)\n",
    "    if verif == \"Not Verified\":\n",
    "        return 0\n",
    "    else:\n",
    "        return 1\n",
    "    \n",
    "# Applying transformation function\n",
    "df['verification_status'] = df['verification_status'].apply(verification_transform)\n",
    "df['verification_status'].value_counts().plot(kind='bar', title='Verification status class ratio')"
   ]
  },
  {
   "cell_type": "code",
   "execution_count": 40,
   "metadata": {},
   "outputs": [
    {
     "name": "stdout",
     "output_type": "stream",
     "text": [
      "<class 'pandas.core.frame.DataFrame'>\n",
      "Int64Index: 886713 entries, 0 to 887378\n",
      "Columns: 111 entries, acc_now_delinq to purpose_wedding\n",
      "dtypes: float64(31), int64(10), uint8(70)\n",
      "memory usage: 383.3 MB\n"
     ]
    }
   ],
   "source": [
    "df.info()"
   ]
  },
  {
   "cell_type": "markdown",
   "metadata": {},
   "source": [
    "### And that's it. \n",
    "We are left only with numerical values and our dataset is complete. \n",
    "\n",
    "Before feeding it to any models I will test their importance - I didn't do in depth analysis of the particular features, but the chi2 test should do the job."
   ]
  },
  {
   "cell_type": "markdown",
   "metadata": {},
   "source": [
    "## Removing features based on chi2"
   ]
  },
  {
   "cell_type": "markdown",
   "metadata": {},
   "source": [
    "Here I remove redundant features. After several tests I decided to remove all features that have p-values lower than 0.01. This way I got the best results for logistic regression and random forest. "
   ]
  },
  {
   "cell_type": "code",
   "execution_count": 41,
   "metadata": {},
   "outputs": [
    {
     "data": {
      "text/plain": [
       "array([ True,  True, False,  True,  True,  True,  True,  True,  True,\n",
       "        True,  True,  True,  True,  True,  True,  True,  True,  True,\n",
       "        True,  True,  True,  True, False,  True,  True,  True,  True,\n",
       "        True,  True,  True,  True, False,  True,  True,  True,  True,\n",
       "        True,  True,  True,  True, False, False, False, False, False,\n",
       "        True,  True,  True, False,  True, False,  True, False, False,\n",
       "        True, False,  True, False, False, False, False,  True, False,\n",
       "       False,  True, False, False, False, False, False,  True, False,\n",
       "       False,  True,  True, False,  True,  True, False, False, False,\n",
       "       False, False, False, False, False, False,  True, False, False,\n",
       "       False,  True, False, False, False,  True,  True,  True,  True,\n",
       "       False, False, False, False, False,  True, False, False,  True,\n",
       "       False,  True])"
      ]
     },
     "execution_count": 41,
     "metadata": {},
     "output_type": "execute_result"
    }
   ],
   "source": [
    "# Splitting to X and y to perform chi2 test\n",
    "X = df.drop('loan_status', axis=1)\n",
    "y  = df['loan_status']\n",
    "\n",
    "# Performing chi2 test\n",
    "_, chi2_pvalues = chi2(X, y)\n",
    "\n",
    "\n",
    "# Creating filter to select rows with p-value less than 0.01\n",
    "chi2_filter = chi2_pvalues < 0.01\n",
    "chi2_filter"
   ]
  },
  {
   "cell_type": "code",
   "execution_count": 43,
   "metadata": {},
   "outputs": [
    {
     "name": "stdout",
     "output_type": "stream",
     "text": [
      "<class 'pandas.core.frame.DataFrame'>\n",
      "Int64Index: 886713 entries, 0 to 887378\n",
      "Data columns (total 61 columns):\n",
      "acc_now_delinq                886713 non-null float64\n",
      "annual_inc                    886713 non-null float64\n",
      "collection_recovery_fee       886713 non-null float64\n",
      "collections_12_mths_ex_med    886713 non-null float64\n",
      "delinq_2yrs                   886713 non-null float64\n",
      "dti                           886713 non-null float64\n",
      "earliest_cr_line              886713 non-null int64\n",
      "emp_length                    886713 non-null int64\n",
      "funded_amnt                   886713 non-null float64\n",
      "funded_amnt_inv               886713 non-null float64\n",
      "initial_list_status           886713 non-null int64\n",
      "inq_last_6mths                886713 non-null float64\n",
      "installment                   886713 non-null float64\n",
      "int_rate                      886713 non-null float64\n",
      "issue_d                       886713 non-null int64\n",
      "last_credit_pull_d            886713 non-null int64\n",
      "last_pymnt_amnt               886713 non-null float64\n",
      "loan_amnt                     886713 non-null float64\n",
      "open_acc                      886713 non-null float64\n",
      "out_prncp                     886713 non-null float64\n",
      "out_prncp_inv                 886713 non-null float64\n",
      "pub_rec                       886713 non-null float64\n",
      "recoveries                    886713 non-null float64\n",
      "revol_bal                     886713 non-null float64\n",
      "revol_util                    886713 non-null float64\n",
      "sub_grade                     886713 non-null int64\n",
      "term                          886713 non-null int64\n",
      "tot_coll_amt                  886713 non-null float64\n",
      "tot_cur_bal                   886713 non-null float64\n",
      "total_pymnt                   886713 non-null float64\n",
      "total_pymnt_inv               886713 non-null float64\n",
      "total_rec_int                 886713 non-null float64\n",
      "total_rec_late_fee            886713 non-null float64\n",
      "total_rec_prncp               886713 non-null float64\n",
      "total_rev_hi_lim              886713 non-null float64\n",
      "verification_status           886713 non-null int64\n",
      "time_since_last_pymnt         886713 non-null float64\n",
      "state_CO                      886713 non-null uint8\n",
      "state_CT                      886713 non-null uint8\n",
      "state_DC                      886713 non-null uint8\n",
      "state_FL                      886713 non-null uint8\n",
      "state_HI                      886713 non-null uint8\n",
      "state_IL                      886713 non-null uint8\n",
      "state_KS                      886713 non-null uint8\n",
      "state_ME                      886713 non-null uint8\n",
      "state_MO                      886713 non-null uint8\n",
      "state_NH                      886713 non-null uint8\n",
      "state_NV                      886713 non-null uint8\n",
      "state_NY                      886713 non-null uint8\n",
      "state_OK                      886713 non-null uint8\n",
      "state_OR                      886713 non-null uint8\n",
      "state_WA                      886713 non-null uint8\n",
      "home_MORTGAGE                 886713 non-null uint8\n",
      "home_RENT                     886713 non-null uint8\n",
      "purpose_car                   886713 non-null uint8\n",
      "purpose_credit_card           886713 non-null uint8\n",
      "purpose_debt_consolidation    886713 non-null uint8\n",
      "purpose_moving                886713 non-null uint8\n",
      "purpose_small_business        886713 non-null uint8\n",
      "purpose_wedding               886713 non-null uint8\n",
      "loan_status                   886713 non-null int64\n",
      "dtypes: float64(29), int64(9), uint8(23)\n",
      "memory usage: 323.3 MB\n"
     ]
    }
   ],
   "source": [
    "# Applying created filter to X\n",
    "chi2_filtered_cols = X.columns[chi2_filter]\n",
    "X = X[chi2_filtered_cols]\n",
    "\n",
    "# Converting X and y back to df\n",
    "X['loan_status'] = y \n",
    "df = X\n",
    "df.info()"
   ]
  },
  {
   "cell_type": "markdown",
   "metadata": {},
   "source": [
    "Above we can see all information about our final dataset. We are left with 60 features and one label. "
   ]
  },
  {
   "cell_type": "markdown",
   "metadata": {},
   "source": [
    "# Creating test and train datasets"
   ]
  },
  {
   "cell_type": "markdown",
   "metadata": {},
   "source": [
    "### Sampling test dataset\n",
    "Our data is highly imbalanced. That is why we have to make sure, that positive/negative class ratio is the same in testing and full dataset. \n",
    "\n",
    "I will extract 30% of minority class and 30% of majority class into test df. This will be our final testing dataset (with the same ratio of default/non_default as out full data). I will leave it only for testing - no models will be trained on it. \n"
   ]
  },
  {
   "cell_type": "code",
   "execution_count": 48,
   "metadata": {},
   "outputs": [
    {
     "name": "stdout",
     "output_type": "stream",
     "text": [
      "AxesSubplot(0.125,0.125;0.775x0.755)\n",
      "0    262174\n",
      "1      3839\n",
      "Name: loan_status, dtype: int64\n",
      "(266013, 61)\n"
     ]
    },
    {
     "data": {
      "image/png": "[encoded data removed]",
      "text/plain": [
       "<Figure size 432x288 with 1 Axes>"
      ]
     },
     "metadata": {},
     "output_type": "display_data"
    }
   ],
   "source": [
    "# Selecting randolmy 30% of minority class indicies\n",
    "minority_class = df[df['loan_status'] == 1].index\n",
    "minority_class_count = int(len(minority_class) * 0.3)\n",
    "random_minority_indicies = np.random.choice(minority_class, minority_class_count, replace=False)\n",
    "\n",
    "# Selecting randolmy 30% of majority class indicies\n",
    "majority_class = df[df['loan_status'] == 0].index\n",
    "majority_class_count = int(len(majority_class) * 0.3)\n",
    "random_majority_indicies = np.random.choice(majority_class, majority_class_count, replace=False)\n",
    "\n",
    "# Creating final test set and removing picked indicies from df\n",
    "test_set_indicies = np.concatenate([random_majority_indicies,random_minority_indicies])\n",
    "test_set = df.loc[test_set_indicies]\n",
    "\n",
    "# Shuffling all rows\n",
    "test_set = test_set.sample(frac=1, random_state=42)\n",
    "\n",
    "print(test_set['loan_status'].value_counts().plot(kind='bar', title='Testing set ratio'))\n",
    "print(test_set['loan_status'].value_counts())\n",
    "# Our final test set:\n",
    "y_test = test_set['loan_status']\n",
    "X_test = test_set.drop('loan_status', axis=1)\n",
    "print(test_set.shape)"
   ]
  },
  {
   "cell_type": "code",
   "execution_count": 46,
   "metadata": {},
   "outputs": [
    {
     "data": {
      "text/plain": [
       "<matplotlib.axes._subplots.AxesSubplot at 0x22e3c3745f8>"
      ]
     },
     "execution_count": 46,
     "metadata": {},
     "output_type": "execute_result"
    },
    {
     "data": {
      "image/png": "[encoded data removed]",
      "text/plain": [
       "<Figure size 432x288 with 1 Axes>"
      ]
     },
     "metadata": {},
     "output_type": "display_data"
    }
   ],
   "source": [
    "# Removing test set samples from df and shuffling it (just a good practice)\n",
    "train_set = df.drop(test_set_indicies).sample(frac=1, random_state=42)\n",
    "train_set['loan_status'].value_counts().plot(kind='bar', title='Training set ratio')"
   ]
  },
  {
   "cell_type": "code",
   "execution_count": 47,
   "metadata": {},
   "outputs": [
    {
     "data": {
      "text/plain": [
       "(620700, 60)"
      ]
     },
     "execution_count": 47,
     "metadata": {},
     "output_type": "execute_result"
    }
   ],
   "source": [
    "# Our train set:\n",
    "y_train = train_set['loan_status']\n",
    "X_train = train_set.drop('loan_status', axis=1)\n",
    "X_train.shape"
   ]
  },
  {
   "cell_type": "markdown",
   "metadata": {},
   "source": [
    "### Undersampling train set"
   ]
  },
  {
   "cell_type": "markdown",
   "metadata": {},
   "source": [
    "Now I have seperate training set. It has the same ratio of positive/negative instances as our testing set. However I have to deal with a strong imbalance in the dataset. <br/>\n",
    "I decided to perform undersampling and oversampling. Later I will compare results of training models on the different datasets. Oversampling can be simply done by adding a parameter to scikitlearn models. Here I will create undersampled training dataset. "
   ]
  },
  {
   "cell_type": "code",
   "execution_count": 50,
   "metadata": {},
   "outputs": [
    {
     "name": "stdout",
     "output_type": "stream",
     "text": [
      "AxesSubplot(0.125,0.125;0.775x0.755)\n",
      "(17920, 61)\n"
     ]
    },
    {
     "data": {
      "image/png": "[encoded data removed]",
      "text/plain": [
       "<Figure size 432x288 with 1 Axes>"
      ]
     },
     "metadata": {},
     "output_type": "display_data"
    }
   ],
   "source": [
    "# Perforiming undersampling on our training set\n",
    "minority_class_count = len(train_set[train_set['loan_status'] == 1])\n",
    "majority_class = train_set[train_set['loan_status'] == 0].index\n",
    "\n",
    "# Out of majority class pick randomly as many samples as minority_class_count\n",
    "random_majority_indices = np.random.choice(majority_class, minority_class_count, replace=False)\n",
    "minority_indices = train_set[train_set['loan_status'] == 1].index\n",
    "under_sample_indices = np.concatenate([minority_indices,random_majority_indices])\n",
    "under_sampled = train_set.loc[under_sample_indices].sample(frac=1)\n",
    "\n",
    "# Checking the structure of under sampled data\n",
    "print(under_sampled['loan_status'].value_counts().plot(kind='bar', title='Undersampled dataset ratio'))\n",
    "\n",
    "print(under_sampled.shape)\n",
    "# Splitting undersampled data\n",
    "y_under = under_sampled['loan_status']\n",
    "under_sampled.drop('loan_status', inplace=True, axis=1)\n",
    "X_under = under_sampled"
   ]
  },
  {
   "cell_type": "markdown",
   "metadata": {},
   "source": [
    "# Building Models"
   ]
  },
  {
   "cell_type": "markdown",
   "metadata": {},
   "source": [
    "We have finnaly finished preparing our data! \n"
   ]
  },
  {
   "cell_type": "markdown",
   "metadata": {},
   "source": [
    "### Logistic Regression \n",
    "\n",
    "First I will create simple logistic regression model. It is interpretable and plain solution, which should be a good starting point in evaluating other models. I will plot ROC and calculate AUC for models trained on all 3 datasets: <br/>\n",
    "1. LogReg_imbalanced - model trained on original imbalanced training data\n",
    "2. LogReg_undersample - model trained on undersampled smaller dataset\n",
    "3. LogReg_oversample - model trained on imbalanced data but with sklearn's class_weight='balanced' parameter. Under the hood this is just oversampling the minority. "
   ]
  },
  {
   "cell_type": "markdown",
   "metadata": {},
   "source": [
    "#### Imbalanced"
   ]
  },
  {
   "cell_type": "code",
   "execution_count": 52,
   "metadata": {},
   "outputs": [],
   "source": [
    "# Training simple logistic regression model on normal, imbalanced data\n",
    "LogReg_imbalanced = LogisticRegression()\n",
    "LogReg_imbalanced = LogReg_imbalanced.fit(X_train, y_train)"
   ]
  },
  {
   "cell_type": "code",
   "execution_count": 53,
   "metadata": {},
   "outputs": [
    {
     "data": {
      "image/png": "[encoded data removed]",
      "text/plain": [
       "<Figure size 432x288 with 1 Axes>"
      ]
     },
     "metadata": {},
     "output_type": "display_data"
    }
   ],
   "source": [
    "# Calculating probabilities for X_test\n",
    "proba_list = LogReg_imbalanced.predict_proba(X_test)\n",
    "probabilities = []\n",
    "\n",
    "# Adding probabilities to probability list\n",
    "for proba in proba_list:\n",
    "    probabilities.append(proba[1])\n",
    "\n",
    "# Calculating ROC curve and AUC score\n",
    "fpr, tpr, _ = roc_curve(y_test, probabilities)   \n",
    "roc_auc_imbalanced = str(roc_auc_score(y_test, probabilities))\n",
    "\n",
    "\n",
    "# Plotting ROC curve for imbalanced data\n",
    "plt.figure(1)\n",
    "plt.plot(fpr, tpr, lw=1, label='ROC (AUC = {})'.format(roc_auc_imbalanced[:5]))\n",
    "plt.xlabel('False positive rate')\n",
    "plt.xlim([-0.05, 1.05])\n",
    "plt.ylim([-0.05, 1.05])\n",
    "plt.plot([0, 1], [0, 1], '--', color=(0.6, 0.6, 0.6), label='Luck')\n",
    "plt.ylabel('True positive rate')\n",
    "plt.title('ROC curve - LogReg trained on imbalanced data')\n",
    "plt.legend(loc=\"lower right\")\n",
    "plt.show()"
   ]
  },
  {
   "cell_type": "markdown",
   "metadata": {},
   "source": [
    "#### Undersampled"
   ]
  },
  {
   "cell_type": "code",
   "execution_count": 54,
   "metadata": {},
   "outputs": [],
   "source": [
    "# Initializina LogReg model and fitting it to undersampled data\n",
    "LogReg_undersample = LogisticRegression()\n",
    "LogReg_undersample = LogReg_undersample.fit(X_under, y_under)"
   ]
  },
  {
   "cell_type": "code",
   "execution_count": 55,
   "metadata": {},
   "outputs": [
    {
     "data": {
      "image/png": "[encoded data removed]",
      "text/plain": [
       "<Figure size 432x288 with 1 Axes>"
      ]
     },
     "metadata": {},
     "output_type": "display_data"
    }
   ],
   "source": [
    "# Calculating probabilities for X_test\n",
    "proba_list = LogReg_undersample.predict_proba(X_test)\n",
    "probabilities = []\n",
    "\n",
    "# Adding probabilities to probability list\n",
    "for proba in proba_list:\n",
    "    probabilities.append(proba[1])\n",
    "\n",
    "# Calculating ROC curve and AUC score\n",
    "fpr, tpr, _ = roc_curve(y_test, probabilities)   \n",
    "roc_auc_undersampled = str(roc_auc_score(y_test, probabilities))\n",
    "\n",
    "\n",
    "# Plotting ROC curve for undersampled data\n",
    "plt.figure(1)\n",
    "plt.plot(fpr, tpr, lw=1, label='ROC (AUC = {})'.format(roc_auc_undersampled[:5]))\n",
    "plt.xlabel('False positive rate')\n",
    "plt.xlim([-0.05, 1.05])\n",
    "plt.ylim([-0.05, 1.05])\n",
    "plt.plot([0, 1], [0, 1], '--', color=(0.6, 0.6, 0.6), label='Luck')\n",
    "plt.ylabel('True positive rate')\n",
    "plt.title('ROC curve - LogReg trained on undersampled data')\n",
    "plt.legend(loc=\"lower right\")\n",
    "plt.show()"
   ]
  },
  {
   "cell_type": "markdown",
   "metadata": {},
   "source": [
    "#### Oversampled (with 'balanced' Logistic Regression parameter - implicit oversampling)"
   ]
  },
  {
   "cell_type": "code",
   "execution_count": 56,
   "metadata": {},
   "outputs": [],
   "source": [
    "# Initializina LogReg model and fitting it to oversampled data\n",
    "LogReg_oversample = LogisticRegression(class_weight='balanced')\n",
    "LogReg_oversample = LogReg_oversample.fit(X_train, y_train)"
   ]
  },
  {
   "cell_type": "code",
   "execution_count": 57,
   "metadata": {},
   "outputs": [
    {
     "data": {
      "image/png": "[encoded data removed]",
      "text/plain": [
       "<Figure size 432x288 with 1 Axes>"
      ]
     },
     "metadata": {},
     "output_type": "display_data"
    }
   ],
   "source": [
    "# Calculating probabilities for X_test\n",
    "proba_list = LogReg_oversample.predict_proba(X_test)\n",
    "probabilities = []\n",
    "\n",
    "# Adding probabilities to probability list\n",
    "for proba in proba_list:\n",
    "    probabilities.append(proba[1])\n",
    "\n",
    "# Calculating ROC curve and AUC score\n",
    "fpr, tpr, _ = roc_curve(y_test, probabilities)   \n",
    "roc_auc_oversampled = str(roc_auc_score(y_test, probabilities))\n",
    "\n",
    "# Plotting ROC curve for imbalanced data\n",
    "plt.figure(1)\n",
    "plt.plot(fpr, tpr, lw=1, label='ROC (AUC = {})'.format(roc_auc_oversampled[:5]))\n",
    "plt.xlabel('False positive rate')\n",
    "plt.xlim([-0.05, 1.05])\n",
    "plt.ylim([-0.05, 1.05])\n",
    "plt.plot([0, 1], [0, 1], '--', color=(0.6, 0.6, 0.6), label='Luck')\n",
    "plt.ylabel('True positive rate')\n",
    "plt.title('ROC curve - LogReg trained on oversampled data')\n",
    "plt.legend(loc=\"lower right\")\n",
    "plt.show()"
   ]
  },
  {
   "cell_type": "markdown",
   "metadata": {},
   "source": [
    "Logistic regression trianed on imbalanced data performed worst. It only confirmed that the training dataset should be balanced. <br/>\n",
    "Both oversampled and undersampled model performed reasonably well with AUC scores of **0.864 for undersampled** data and  **0.807 for oversampled** data. As our results I got with undersampled data are the best, I will stick to it for further analysis."
   ]
  },
  {
   "cell_type": "markdown",
   "metadata": {},
   "source": [
    "# Random Forest"
   ]
  },
  {
   "cell_type": "markdown",
   "metadata": {},
   "source": [
    "Now I will create Random Forest Model. Random Forests are among the most popular and best performing methods for classification tasks."
   ]
  },
  {
   "cell_type": "markdown",
   "metadata": {},
   "source": [
    "#### Undersampled data"
   ]
  },
  {
   "cell_type": "code",
   "execution_count": 58,
   "metadata": {},
   "outputs": [
    {
     "data": {
      "text/plain": [
       "RandomForestClassifier(bootstrap=True, class_weight=None, criterion='gini',\n",
       "            max_depth=None, max_features='auto', max_leaf_nodes=None,\n",
       "            min_impurity_decrease=0.0, min_impurity_split=None,\n",
       "            min_samples_leaf=1, min_samples_split=2,\n",
       "            min_weight_fraction_leaf=0.0, n_estimators=10, n_jobs=1,\n",
       "            oob_score=False, random_state=0, verbose=0, warm_start=False)"
      ]
     },
     "execution_count": 58,
     "metadata": {},
     "output_type": "execute_result"
    }
   ],
   "source": [
    "# Initializina Random Forest model and fitting it to undersampled data\n",
    "RandForest_undersampled = RandomForestClassifier(random_state=0)\n",
    "RandForest_undersampled.fit(X_under, y_under)"
   ]
  },
  {
   "cell_type": "code",
   "execution_count": 59,
   "metadata": {},
   "outputs": [
    {
     "data": {
      "image/png": "[encoded data removed]",
      "text/plain": [
       "<Figure size 432x288 with 1 Axes>"
      ]
     },
     "metadata": {},
     "output_type": "display_data"
    }
   ],
   "source": [
    "# Calculating probabilities for X_test\n",
    "proba_list = RandForest_undersampled.predict_proba(X_test)\n",
    "probabilities = []\n",
    "\n",
    "for proba in proba_list:\n",
    "    probabilities.append(proba[1])\n",
    "\n",
    "# Calculating ROC curve and AUC score \n",
    "fpr, tpr, _ = roc_curve(y_test, probabilities)   \n",
    "roc_auc_undersampled = str(roc_auc_score(y_test, probabilities))\n",
    "\n",
    "# Plotting ROC curve for undersampled data\n",
    "plt.figure(1)\n",
    "plt.plot(fpr, tpr, lw=1, label='ROC (AUC = {})'.format(roc_auc_undersampled[:5]))\n",
    "plt.xlabel('False positive rate')\n",
    "plt.xlim([-0.05, 1.05])\n",
    "plt.ylim([-0.05, 1.05])\n",
    "plt.plot([0, 1], [0, 1], '--', color=(0.6, 0.6, 0.6), label='Luck')\n",
    "plt.ylabel('True positive rate')\n",
    "plt.title('ROC curve - Random Forest on undersampled data')\n",
    "plt.legend(loc=\"lower right\")\n",
    "plt.show()"
   ]
  },
  {
   "cell_type": "markdown",
   "metadata": {},
   "source": [
    "We are getting insanely good AUC scores for training on undersampled data: 0.992."
   ]
  },
  {
   "cell_type": "markdown",
   "metadata": {},
   "source": [
    "# Gradient Boosting Machine - XGBoost"
   ]
  },
  {
   "cell_type": "markdown",
   "metadata": {},
   "source": [
    "Now I will check, how good at distinguishing our classes is Extreme Gradient Boosting Model - XGBoost. "
   ]
  },
  {
   "cell_type": "code",
   "execution_count": 62,
   "metadata": {},
   "outputs": [
    {
     "data": {
      "text/plain": [
       "XGBClassifier(base_score=0.5, booster='gbtree', colsample_bylevel=1,\n",
       "       colsample_bytree=1, gamma=0, learning_rate=0.1, max_delta_step=0,\n",
       "       max_depth=3, min_child_weight=1, missing=None, n_estimators=100,\n",
       "       n_jobs=1, nthread=None, objective='binary:logistic', random_state=0,\n",
       "       reg_alpha=0, reg_lambda=1, scale_pos_weight=1, seed=42, silent=True,\n",
       "       subsample=1)"
      ]
     },
     "execution_count": 62,
     "metadata": {},
     "output_type": "execute_result"
    }
   ],
   "source": [
    "# Initializing XGBoost model\n",
    "XGB = XGBClassifier(seed=42)\n",
    "# Fitting undersampled training data\n",
    "XGB.fit(X_under, y_under)"
   ]
  },
  {
   "cell_type": "code",
   "execution_count": 63,
   "metadata": {},
   "outputs": [
    {
     "data": {
      "image/png": "[encoded data removed]",
      "text/plain": [
       "<Figure size 432x288 with 1 Axes>"
      ]
     },
     "metadata": {},
     "output_type": "display_data"
    }
   ],
   "source": [
    "# Calculate probabilieties for X_test\n",
    "proba_list = XGB.predict_proba(X_test)\n",
    "probabilities = []\n",
    "\n",
    "for proba in proba_list:\n",
    "    probabilities.append(proba[1])\n",
    "\n",
    "# Calculating ROC curve and AUC score\n",
    "fpr, tpr, _ = roc_curve(y_test, probabilities)   \n",
    "roc_auc_undersampled = str(roc_auc_score(y_test, probabilities))\n",
    "\n",
    "# Plotting ROC curve for imbalanced data\n",
    "plt.figure(1)\n",
    "plt.plot(fpr, tpr, lw=1, label='ROC (AUC = {})'.format(roc_auc_undersampled[:5]))\n",
    "plt.xlabel('False positive rate')\n",
    "plt.xlim([-0.05, 1.05])\n",
    "plt.ylim([-0.05, 1.05])\n",
    "plt.plot([0, 1], [0, 1], '--', color=(0.6, 0.6, 0.6), label='Luck')\n",
    "plt.ylabel('True positive rate')\n",
    "plt.title('ROC curve - XGBoost trainded on undersampled data')\n",
    "plt.legend(loc=\"lower right\")\n",
    "plt.show()"
   ]
  },
  {
   "cell_type": "markdown",
   "metadata": {},
   "source": [
    "# Summary\n",
    "The metric that is considered crucial in this task is Area Under ROC Curve. In case of default prediction with thousands of clients we want to maximize the True Positive Rate, but at the same time we want the False Positive Rate to be as little as possible - we don't want to reject clients. That is why model with the highest AUC ROC is picked.\n",
    "\n",
    "\n",
    "Out of three models logistic regression performed the worst. It performance was reasonable with AUC of 0.864, but it seems that we have enough information in our data build a far better model. \n",
    "\n",
    "Random forest scored nearly a perfect score with AUC of .992 It means that randomly chosen positive class sample would have higher probability than negative class in 99,2% of our test observations. \n",
    "\n",
    "XGBoost algorithm seems to also tap on the information Random Forest captures and resulted an AUC of 0.987. The margin is very small, but on this given test set Random Forest performed better.  \n",
    "\n",
    "That is why **Random Forest** model is proposed. \n",
    "\n"
   ]
  }
 ],
 "metadata": {
  "kernelspec": {
   "display_name": "Python 3",
   "language": "python",
   "name": "python3"
  },
  "language_info": {
   "codemirror_mode": {
    "name": "ipython",
    "version": 3
   },
   "file_extension": ".py",
   "mimetype": "text/x-python",
   "name": "python",
   "nbconvert_exporter": "python",
   "pygments_lexer": "ipython3",
   "version": "3.6.5"
  }
 },
 "nbformat": 4,
 "nbformat_minor": 2
}
