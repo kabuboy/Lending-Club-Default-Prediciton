{
 "cells": [
  {
   "cell_type": "markdown",
   "metadata": {},
   "source": [
    "# Lending Club Data Default Prediction\n",
    "\n",
    "#### Antoni Szczepanik,  03.06.2018"
   ]
  },
  {
   "cell_type": "markdown",
   "metadata": {},
   "source": [
    "Loan.csv is available at  https://www.kaggle.com/wendykan/lending-club-loan-data/data#loan.csv"
   ]
  },
  {
   "cell_type": "code",
   "execution_count": 1,
   "metadata": {},
   "outputs": [],
   "source": [
    "# Data manipulation\n",
    "import pandas as pd\n",
    "import numpy as np\n",
    "\n",
    "# Visualisation\n",
    "import matplotlib.pyplot as plt\n",
    "\n",
    "# Machine learning\n",
    "from sklearn.feature_selection import chi2\n",
    "\n",
    "# Initializing seed for reliability\n",
    "np.random.seed(42)\n",
    "# Setting display option to see all columns\n",
    "pd.set_option('display.max_columns', None)"
   ]
  },
  {
   "cell_type": "markdown",
   "metadata": {},
   "source": [
    "## Removing features based on chi2"
   ]
  },
  {
   "cell_type": "markdown",
   "metadata": {},
   "source": [
    "Here I remove redundant features. After several tests I decided to remove all features that have p-values lower than 0.01. This way I got the best results for logistic regression and random forest. "
   ]
  },
  {
   "cell_type": "code",
   "execution_count": 2,
   "metadata": {},
   "outputs": [
    {
     "name": "stderr",
     "output_type": "stream",
     "text": [
      "c:\\users\\user\\appdata\\local\\programs\\python\\python37\\lib\\site-packages\\ipykernel_launcher.py:12: RuntimeWarning: invalid value encountered in less\n",
      "  if sys.path[0] == '':\n"
     ]
    },
    {
     "data": {
      "text/plain": [
       "array([ True,  True,  True,  True,  True,  True,  True,  True,  True,\n",
       "        True,  True, False,  True,  True,  True, False,  True,  True,\n",
       "        True,  True,  True,  True,  True,  True, False, False, False,\n",
       "       False,  True, False, False, False, False, False, False, False,\n",
       "       False, False, False, False, False, False, False, False, False,\n",
       "       False, False, False, False,  True, False, False,  True, False,\n",
       "       False, False, False, False, False, False, False, False, False,\n",
       "       False, False, False, False, False, False, False, False, False,\n",
       "       False, False, False, False, False, False, False, False, False,\n",
       "        True,  True, False, False, False, False, False, False, False,\n",
       "       False, False, False, False])"
      ]
     },
     "execution_count": 2,
     "metadata": {},
     "output_type": "execute_result"
    }
   ],
   "source": [
    "df = pd.read_csv('data/2.data_cleaned.csv')\n",
    "# Splitting to X and y to perform chi2 test\n",
    "df.drop(['Unnamed: 0', 'Unnamed: 0.1', 'issue_d', 'time_since_last_pymnt', 'total_rec_late_fee'], axis=1, inplace=True)\n",
    "X = df.drop('loan_status', axis=1)\n",
    "y  = df['loan_status']\n",
    "\n",
    "# Performing chi2 test\n",
    "_, chi2_pvalues = chi2(X, y)\n",
    "\n",
    "\n",
    "# Creating filter to select rows with p-value less than 0.01\n",
    "chi2_filter = chi2_pvalues < 0.01\n",
    "chi2_filter"
   ]
  },
  {
   "cell_type": "code",
   "execution_count": 3,
   "metadata": {},
   "outputs": [
    {
     "name": "stdout",
     "output_type": "stream",
     "text": [
      "<class 'pandas.core.frame.DataFrame'>\n",
      "RangeIndex: 887440 entries, 0 to 887439\n",
      "Data columns (total 28 columns):\n",
      "collection_recovery_fee       887440 non-null float64\n",
      "emp_length                    887440 non-null int64\n",
      "funded_amnt                   887440 non-null int64\n",
      "funded_amnt_inv               887440 non-null float64\n",
      "initial_list_status           887440 non-null int64\n",
      "installment                   887440 non-null float64\n",
      "int_rate                      887440 non-null float64\n",
      "last_pymnt_amnt               887440 non-null float64\n",
      "loan_amnt                     887440 non-null int64\n",
      "out_prncp                     887440 non-null float64\n",
      "out_prncp_inv                 887440 non-null float64\n",
      "recoveries                    887440 non-null float64\n",
      "revol_bal                     887440 non-null int64\n",
      "sub_grade                     887440 non-null int64\n",
      "tot_coll_amt                  887440 non-null float64\n",
      "tot_cur_bal                   887440 non-null float64\n",
      "total_pymnt                   887440 non-null float64\n",
      "total_pymnt_inv               887440 non-null float64\n",
      "total_rec_int                 887440 non-null float64\n",
      "total_rec_prncp               887440 non-null float64\n",
      "total_rev_hi_lim              887440 non-null float64\n",
      "verification_status           887440 non-null int64\n",
      "state_CA                      887440 non-null int64\n",
      "state_MS                      887440 non-null int64\n",
      "state_ND                      887440 non-null int64\n",
      "purpose_credit_card           887440 non-null int64\n",
      "purpose_debt_consolidation    887440 non-null int64\n",
      "loan_status                   887440 non-null int64\n",
      "dtypes: float64(15), int64(13)\n",
      "memory usage: 189.6 MB\n"
     ]
    }
   ],
   "source": [
    "# Applying created filter to X\n",
    "chi2_filtered_cols = X.columns[chi2_filter]\n",
    "X = X[chi2_filtered_cols]\n",
    "\n",
    "# Converting X and y back to df\n",
    "X['loan_status'] = y \n",
    "df = X\n",
    "df.info()\n",
    "df.to_csv('data/3.data_selected_features.csv', sep=',')"
   ]
  }
 ],
 "metadata": {
  "kernelspec": {
   "display_name": "Python 3",
   "language": "python",
   "name": "python3"
  },
  "language_info": {
   "codemirror_mode": {
    "name": "ipython",
    "version": 3
   },
   "file_extension": ".py",
   "mimetype": "text/x-python",
   "name": "python",
   "nbconvert_exporter": "python",
   "pygments_lexer": "ipython3",
   "version": "3.7.0"
  }
 },
 "nbformat": 4,
 "nbformat_minor": 2
}
