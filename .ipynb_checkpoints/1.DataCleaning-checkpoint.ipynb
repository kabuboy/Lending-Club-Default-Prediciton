{
 "cells": [
  {
   "cell_type": "markdown",
   "metadata": {},
   "source": [
    "# Lending Club Data Default Prediction\n",
    "\n",
    "#### Antoni Szczepanik,  03.06.2018"
   ]
  },
  {
   "cell_type": "markdown",
   "metadata": {},
   "source": [
    "Loan.csv is available at  https://www.kaggle.com/wendykan/lending-club-loan-data/data#loan.csv"
   ]
  },
  {
   "cell_type": "code",
   "execution_count": 1,
   "metadata": {},
   "outputs": [
    {
     "name": "stderr",
     "output_type": "stream",
     "text": [
      "c:\\users\\user\\appdata\\local\\programs\\python\\python37\\lib\\site-packages\\sklearn\\ensemble\\weight_boosting.py:29: DeprecationWarning: numpy.core.umath_tests is an internal NumPy module and should not be imported. It will be removed in a future NumPy release.\n",
      "  from numpy.core.umath_tests import inner1d\n"
     ]
    }
   ],
   "source": [
    "# Data manipulation\n",
    "import pandas as pd\n",
    "import numpy as np\n",
    "\n",
    "# Visualisation\n",
    "import matplotlib.pyplot as plt\n",
    "\n",
    "# Machine learning\n",
    "from sklearn.metrics import roc_curve, roc_auc_score\n",
    "from sklearn.feature_selection import chi2\n",
    "from sklearn.linear_model import LogisticRegression\n",
    "from sklearn.ensemble import RandomForestClassifier\n",
    "from xgboost import XGBClassifier\n",
    "\n",
    "# Initializing seed for reliability\n",
    "np.random.seed(42)\n",
    "# Setting display option to see all columns\n",
    "pd.set_option('display.max_columns', None)"
   ]
  },
  {
   "cell_type": "markdown",
   "metadata": {},
   "source": [
    "# Data preprocessing"
   ]
  },
  {
   "cell_type": "markdown",
   "metadata": {},
   "source": [
    "### First look at the data"
   ]
  },
  {
   "cell_type": "code",
   "execution_count": 2,
   "metadata": {
    "scrolled": false
   },
   "outputs": [
    {
     "data": {
      "text/html": [
       "<div>\n",
       "<style scoped>\n",
       "    .dataframe tbody tr th:only-of-type {\n",
       "        vertical-align: middle;\n",
       "    }\n",
       "\n",
       "    .dataframe tbody tr th {\n",
       "        vertical-align: top;\n",
       "    }\n",
       "\n",
       "    .dataframe thead th {\n",
       "        text-align: right;\n",
       "    }\n",
       "</style>\n",
       "<table border=\"1\" class=\"dataframe\">\n",
       "  <thead>\n",
       "    <tr style=\"text-align: right;\">\n",
       "      <th></th>\n",
       "      <th>Unnamed: 0</th>\n",
       "      <th>acc_now_delinq</th>\n",
       "      <th>acc_open_past_24mths</th>\n",
       "      <th>addr_state</th>\n",
       "      <th>all_util</th>\n",
       "      <th>annual_inc</th>\n",
       "      <th>annual_inc_joint</th>\n",
       "      <th>application_type</th>\n",
       "      <th>avg_cur_bal</th>\n",
       "      <th>bc_open_to_buy</th>\n",
       "      <th>bc_util</th>\n",
       "      <th>chargeoff_within_12_mths</th>\n",
       "      <th>collection_recovery_fee</th>\n",
       "      <th>collections_12_mths_ex_med</th>\n",
       "      <th>debt_settlement_flag</th>\n",
       "      <th>debt_settlement_flag_date</th>\n",
       "      <th>deferral_term</th>\n",
       "      <th>delinq_2yrs</th>\n",
       "      <th>delinq_amnt</th>\n",
       "      <th>desc</th>\n",
       "      <th>disbursement_method</th>\n",
       "      <th>dti</th>\n",
       "      <th>dti_joint</th>\n",
       "      <th>earliest_cr_line</th>\n",
       "      <th>emp_length</th>\n",
       "      <th>emp_title</th>\n",
       "      <th>funded_amnt</th>\n",
       "      <th>funded_amnt_inv</th>\n",
       "      <th>grade</th>\n",
       "      <th>hardship_amount</th>\n",
       "      <th>hardship_dpd</th>\n",
       "      <th>hardship_end_date</th>\n",
       "      <th>hardship_flag</th>\n",
       "      <th>hardship_last_payment_amount</th>\n",
       "      <th>hardship_length</th>\n",
       "      <th>hardship_loan_status</th>\n",
       "      <th>hardship_payoff_balance_amount</th>\n",
       "      <th>hardship_reason</th>\n",
       "      <th>hardship_start_date</th>\n",
       "      <th>hardship_status</th>\n",
       "      <th>hardship_type</th>\n",
       "      <th>home_ownership</th>\n",
       "      <th>id</th>\n",
       "      <th>il_util</th>\n",
       "      <th>initial_list_status</th>\n",
       "      <th>inq_fi</th>\n",
       "      <th>inq_last_12m</th>\n",
       "      <th>inq_last_6mths</th>\n",
       "      <th>installment</th>\n",
       "      <th>int_rate</th>\n",
       "      <th>issue_d</th>\n",
       "      <th>last_credit_pull_d</th>\n",
       "      <th>last_pymnt_amnt</th>\n",
       "      <th>last_pymnt_d</th>\n",
       "      <th>loan_amnt</th>\n",
       "      <th>loan_status</th>\n",
       "      <th>max_bal_bc</th>\n",
       "      <th>member_id</th>\n",
       "      <th>mo_sin_old_il_acct</th>\n",
       "      <th>mo_sin_old_rev_tl_op</th>\n",
       "      <th>mo_sin_rcnt_rev_tl_op</th>\n",
       "      <th>mo_sin_rcnt_tl</th>\n",
       "      <th>mort_acc</th>\n",
       "      <th>mths_since_last_delinq</th>\n",
       "      <th>mths_since_last_major_derog</th>\n",
       "      <th>mths_since_last_record</th>\n",
       "      <th>mths_since_rcnt_il</th>\n",
       "      <th>mths_since_recent_bc</th>\n",
       "      <th>mths_since_recent_bc_dlq</th>\n",
       "      <th>mths_since_recent_inq</th>\n",
       "      <th>mths_since_recent_revol_delinq</th>\n",
       "      <th>next_pymnt_d</th>\n",
       "      <th>num_accts_ever_120_pd</th>\n",
       "      <th>num_actv_bc_tl</th>\n",
       "      <th>num_actv_rev_tl</th>\n",
       "      <th>num_bc_sats</th>\n",
       "      <th>num_bc_tl</th>\n",
       "      <th>num_il_tl</th>\n",
       "      <th>num_op_rev_tl</th>\n",
       "      <th>num_rev_accts</th>\n",
       "      <th>num_rev_tl_bal_gt_0</th>\n",
       "      <th>num_sats</th>\n",
       "      <th>num_tl_120dpd_2m</th>\n",
       "      <th>num_tl_30dpd</th>\n",
       "      <th>num_tl_90g_dpd_24m</th>\n",
       "      <th>num_tl_op_past_12m</th>\n",
       "      <th>open_acc</th>\n",
       "      <th>open_acc_6m</th>\n",
       "      <th>open_act_il</th>\n",
       "      <th>open_il_12m</th>\n",
       "      <th>open_il_24m</th>\n",
       "      <th>open_rv_12m</th>\n",
       "      <th>open_rv_24m</th>\n",
       "      <th>orig_projected_additional_accrued_interest</th>\n",
       "      <th>out_prncp</th>\n",
       "      <th>out_prncp_inv</th>\n",
       "      <th>payment_plan_start_date</th>\n",
       "      <th>pct_tl_nvr_dlq</th>\n",
       "      <th>percent_bc_gt_75</th>\n",
       "      <th>policy_code</th>\n",
       "      <th>pub_rec</th>\n",
       "      <th>pub_rec_bankruptcies</th>\n",
       "      <th>purpose</th>\n",
       "      <th>pymnt_plan</th>\n",
       "      <th>recoveries</th>\n",
       "      <th>revol_bal</th>\n",
       "      <th>revol_bal_joint</th>\n",
       "      <th>revol_util</th>\n",
       "      <th>sec_app_chargeoff_within_12_mths</th>\n",
       "      <th>sec_app_collections_12_mths_ex_med</th>\n",
       "      <th>sec_app_earliest_cr_line</th>\n",
       "      <th>sec_app_inq_last_6mths</th>\n",
       "      <th>sec_app_mort_acc</th>\n",
       "      <th>sec_app_mths_since_last_major_derog</th>\n",
       "      <th>sec_app_num_rev_accts</th>\n",
       "      <th>sec_app_open_acc</th>\n",
       "      <th>sec_app_open_act_il</th>\n",
       "      <th>sec_app_revol_util</th>\n",
       "      <th>settlement_amount</th>\n",
       "      <th>settlement_date</th>\n",
       "      <th>settlement_percentage</th>\n",
       "      <th>settlement_status</th>\n",
       "      <th>settlement_term</th>\n",
       "      <th>sub_grade</th>\n",
       "      <th>tax_liens</th>\n",
       "      <th>term</th>\n",
       "      <th>title</th>\n",
       "      <th>tot_coll_amt</th>\n",
       "      <th>tot_cur_bal</th>\n",
       "      <th>tot_hi_cred_lim</th>\n",
       "      <th>total_acc</th>\n",
       "      <th>total_bal_ex_mort</th>\n",
       "      <th>total_bal_il</th>\n",
       "      <th>total_bc_limit</th>\n",
       "      <th>total_cu_tl</th>\n",
       "      <th>total_il_high_credit_limit</th>\n",
       "      <th>total_pymnt</th>\n",
       "      <th>total_pymnt_inv</th>\n",
       "      <th>total_rec_int</th>\n",
       "      <th>total_rec_late_fee</th>\n",
       "      <th>total_rec_prncp</th>\n",
       "      <th>total_rev_hi_lim</th>\n",
       "      <th>url</th>\n",
       "      <th>verification_status</th>\n",
       "      <th>verification_status_joint</th>\n",
       "      <th>zip_code</th>\n",
       "    </tr>\n",
       "  </thead>\n",
       "  <tbody>\n",
       "    <tr>\n",
       "      <th>0</th>\n",
       "      <td>929649</td>\n",
       "      <td>0.0</td>\n",
       "      <td>4.0</td>\n",
       "      <td>SD</td>\n",
       "      <td>29.0</td>\n",
       "      <td>65000.0</td>\n",
       "      <td>NaN</td>\n",
       "      <td>Individual</td>\n",
       "      <td>9733.0</td>\n",
       "      <td>57830.0</td>\n",
       "      <td>27.1</td>\n",
       "      <td>0.0</td>\n",
       "      <td>0.0000</td>\n",
       "      <td>0.0</td>\n",
       "      <td>N</td>\n",
       "      <td>NaN</td>\n",
       "      <td>NaN</td>\n",
       "      <td>1.0</td>\n",
       "      <td>0.0</td>\n",
       "      <td>NaN</td>\n",
       "      <td>Cash</td>\n",
       "      <td>16.06</td>\n",
       "      <td>NaN</td>\n",
       "      <td>Dec-1999</td>\n",
       "      <td>10+ years</td>\n",
       "      <td>Engineer</td>\n",
       "      <td>24700</td>\n",
       "      <td>24700.0</td>\n",
       "      <td>C</td>\n",
       "      <td>NaN</td>\n",
       "      <td>NaN</td>\n",
       "      <td>NaN</td>\n",
       "      <td>N</td>\n",
       "      <td>NaN</td>\n",
       "      <td>NaN</td>\n",
       "      <td>NaN</td>\n",
       "      <td>NaN</td>\n",
       "      <td>NaN</td>\n",
       "      <td>NaN</td>\n",
       "      <td>NaN</td>\n",
       "      <td>NaN</td>\n",
       "      <td>MORTGAGE</td>\n",
       "      <td>NaN</td>\n",
       "      <td>73.0</td>\n",
       "      <td>w</td>\n",
       "      <td>0.0</td>\n",
       "      <td>6.0</td>\n",
       "      <td>4.0</td>\n",
       "      <td>820.28</td>\n",
       "      <td>11.99</td>\n",
       "      <td>2015-12-01</td>\n",
       "      <td>Feb-2019</td>\n",
       "      <td>926.35</td>\n",
       "      <td>Jun-2016</td>\n",
       "      <td>24700</td>\n",
       "      <td>Fully Paid</td>\n",
       "      <td>6472.0</td>\n",
       "      <td>NaN</td>\n",
       "      <td>113.0</td>\n",
       "      <td>192.0</td>\n",
       "      <td>2.0</td>\n",
       "      <td>2.0</td>\n",
       "      <td>4.0</td>\n",
       "      <td>6.0</td>\n",
       "      <td>NaN</td>\n",
       "      <td>NaN</td>\n",
       "      <td>19.0</td>\n",
       "      <td>2.0</td>\n",
       "      <td>NaN</td>\n",
       "      <td>0.0</td>\n",
       "      <td>6.0</td>\n",
       "      <td>NaN</td>\n",
       "      <td>0.0</td>\n",
       "      <td>5.0</td>\n",
       "      <td>5.0</td>\n",
       "      <td>13.0</td>\n",
       "      <td>17.0</td>\n",
       "      <td>6.0</td>\n",
       "      <td>20.0</td>\n",
       "      <td>27.0</td>\n",
       "      <td>5.0</td>\n",
       "      <td>22.0</td>\n",
       "      <td>0.0</td>\n",
       "      <td>0.0</td>\n",
       "      <td>0.0</td>\n",
       "      <td>2.0</td>\n",
       "      <td>22.0</td>\n",
       "      <td>1.0</td>\n",
       "      <td>1.0</td>\n",
       "      <td>0.0</td>\n",
       "      <td>1.0</td>\n",
       "      <td>2.0</td>\n",
       "      <td>3.0</td>\n",
       "      <td>NaN</td>\n",
       "      <td>0.00</td>\n",
       "      <td>0.00</td>\n",
       "      <td>NaN</td>\n",
       "      <td>97.4</td>\n",
       "      <td>7.7</td>\n",
       "      <td>1</td>\n",
       "      <td>0.0</td>\n",
       "      <td>0.0</td>\n",
       "      <td>small_business</td>\n",
       "      <td>n</td>\n",
       "      <td>0.00</td>\n",
       "      <td>21470</td>\n",
       "      <td>NaN</td>\n",
       "      <td>19.2</td>\n",
       "      <td>NaN</td>\n",
       "      <td>NaN</td>\n",
       "      <td>NaN</td>\n",
       "      <td>NaN</td>\n",
       "      <td>NaN</td>\n",
       "      <td>NaN</td>\n",
       "      <td>NaN</td>\n",
       "      <td>NaN</td>\n",
       "      <td>NaN</td>\n",
       "      <td>NaN</td>\n",
       "      <td>NaN</td>\n",
       "      <td>NaN</td>\n",
       "      <td>NaN</td>\n",
       "      <td>NaN</td>\n",
       "      <td>NaN</td>\n",
       "      <td>C1</td>\n",
       "      <td>0.0</td>\n",
       "      <td>36 months</td>\n",
       "      <td>Business</td>\n",
       "      <td>0.0</td>\n",
       "      <td>204396.0</td>\n",
       "      <td>314017.0</td>\n",
       "      <td>38.0</td>\n",
       "      <td>39475.0</td>\n",
       "      <td>18005.0</td>\n",
       "      <td>79300.0</td>\n",
       "      <td>0.0</td>\n",
       "      <td>24667.0</td>\n",
       "      <td>25679.660000</td>\n",
       "      <td>25679.66</td>\n",
       "      <td>979.66</td>\n",
       "      <td>0.0</td>\n",
       "      <td>24700.00</td>\n",
       "      <td>111800.0</td>\n",
       "      <td>NaN</td>\n",
       "      <td>Not Verified</td>\n",
       "      <td>NaN</td>\n",
       "      <td>577xx</td>\n",
       "    </tr>\n",
       "    <tr>\n",
       "      <th>1</th>\n",
       "      <td>929650</td>\n",
       "      <td>0.0</td>\n",
       "      <td>0.0</td>\n",
       "      <td>AL</td>\n",
       "      <td>60.0</td>\n",
       "      <td>106000.0</td>\n",
       "      <td>NaN</td>\n",
       "      <td>Individual</td>\n",
       "      <td>37486.0</td>\n",
       "      <td>12875.0</td>\n",
       "      <td>67.2</td>\n",
       "      <td>0.0</td>\n",
       "      <td>863.6508</td>\n",
       "      <td>0.0</td>\n",
       "      <td>N</td>\n",
       "      <td>NaN</td>\n",
       "      <td>NaN</td>\n",
       "      <td>0.0</td>\n",
       "      <td>0.0</td>\n",
       "      <td>NaN</td>\n",
       "      <td>Cash</td>\n",
       "      <td>17.36</td>\n",
       "      <td>NaN</td>\n",
       "      <td>Apr-2002</td>\n",
       "      <td>7 years</td>\n",
       "      <td>Lieutenant</td>\n",
       "      <td>35000</td>\n",
       "      <td>35000.0</td>\n",
       "      <td>C</td>\n",
       "      <td>NaN</td>\n",
       "      <td>NaN</td>\n",
       "      <td>NaN</td>\n",
       "      <td>N</td>\n",
       "      <td>NaN</td>\n",
       "      <td>NaN</td>\n",
       "      <td>NaN</td>\n",
       "      <td>NaN</td>\n",
       "      <td>NaN</td>\n",
       "      <td>NaN</td>\n",
       "      <td>NaN</td>\n",
       "      <td>NaN</td>\n",
       "      <td>MORTGAGE</td>\n",
       "      <td>NaN</td>\n",
       "      <td>43.0</td>\n",
       "      <td>w</td>\n",
       "      <td>0.0</td>\n",
       "      <td>0.0</td>\n",
       "      <td>0.0</td>\n",
       "      <td>794.21</td>\n",
       "      <td>12.88</td>\n",
       "      <td>2015-12-01</td>\n",
       "      <td>Feb-2019</td>\n",
       "      <td>794.21</td>\n",
       "      <td>Nov-2017</td>\n",
       "      <td>35000</td>\n",
       "      <td>Charged Off</td>\n",
       "      <td>9701.0</td>\n",
       "      <td>NaN</td>\n",
       "      <td>135.0</td>\n",
       "      <td>164.0</td>\n",
       "      <td>38.0</td>\n",
       "      <td>35.0</td>\n",
       "      <td>4.0</td>\n",
       "      <td>NaN</td>\n",
       "      <td>NaN</td>\n",
       "      <td>NaN</td>\n",
       "      <td>35.0</td>\n",
       "      <td>38.0</td>\n",
       "      <td>NaN</td>\n",
       "      <td>NaN</td>\n",
       "      <td>NaN</td>\n",
       "      <td>NaN</td>\n",
       "      <td>0.0</td>\n",
       "      <td>3.0</td>\n",
       "      <td>4.0</td>\n",
       "      <td>3.0</td>\n",
       "      <td>6.0</td>\n",
       "      <td>13.0</td>\n",
       "      <td>4.0</td>\n",
       "      <td>10.0</td>\n",
       "      <td>4.0</td>\n",
       "      <td>8.0</td>\n",
       "      <td>0.0</td>\n",
       "      <td>0.0</td>\n",
       "      <td>0.0</td>\n",
       "      <td>0.0</td>\n",
       "      <td>8.0</td>\n",
       "      <td>0.0</td>\n",
       "      <td>3.0</td>\n",
       "      <td>0.0</td>\n",
       "      <td>0.0</td>\n",
       "      <td>0.0</td>\n",
       "      <td>0.0</td>\n",
       "      <td>NaN</td>\n",
       "      <td>0.00</td>\n",
       "      <td>0.00</td>\n",
       "      <td>NaN</td>\n",
       "      <td>100.0</td>\n",
       "      <td>0.0</td>\n",
       "      <td>1</td>\n",
       "      <td>0.0</td>\n",
       "      <td>0.0</td>\n",
       "      <td>debt_consolidation</td>\n",
       "      <td>n</td>\n",
       "      <td>4798.06</td>\n",
       "      <td>39055</td>\n",
       "      <td>NaN</td>\n",
       "      <td>72.1</td>\n",
       "      <td>NaN</td>\n",
       "      <td>NaN</td>\n",
       "      <td>NaN</td>\n",
       "      <td>NaN</td>\n",
       "      <td>NaN</td>\n",
       "      <td>NaN</td>\n",
       "      <td>NaN</td>\n",
       "      <td>NaN</td>\n",
       "      <td>NaN</td>\n",
       "      <td>NaN</td>\n",
       "      <td>NaN</td>\n",
       "      <td>NaN</td>\n",
       "      <td>NaN</td>\n",
       "      <td>NaN</td>\n",
       "      <td>NaN</td>\n",
       "      <td>C2</td>\n",
       "      <td>0.0</td>\n",
       "      <td>60 months</td>\n",
       "      <td>Debt consolidation</td>\n",
       "      <td>0.0</td>\n",
       "      <td>299890.0</td>\n",
       "      <td>366974.0</td>\n",
       "      <td>27.0</td>\n",
       "      <td>55067.0</td>\n",
       "      <td>16012.0</td>\n",
       "      <td>39200.0</td>\n",
       "      <td>4.0</td>\n",
       "      <td>36981.0</td>\n",
       "      <td>22208.070000</td>\n",
       "      <td>22208.07</td>\n",
       "      <td>7086.13</td>\n",
       "      <td>0.0</td>\n",
       "      <td>10323.88</td>\n",
       "      <td>54200.0</td>\n",
       "      <td>NaN</td>\n",
       "      <td>Source Verified</td>\n",
       "      <td>NaN</td>\n",
       "      <td>351xx</td>\n",
       "    </tr>\n",
       "    <tr>\n",
       "      <th>2</th>\n",
       "      <td>929651</td>\n",
       "      <td>0.0</td>\n",
       "      <td>3.0</td>\n",
       "      <td>MD</td>\n",
       "      <td>41.0</td>\n",
       "      <td>70000.0</td>\n",
       "      <td>NaN</td>\n",
       "      <td>Individual</td>\n",
       "      <td>1835.0</td>\n",
       "      <td>18527.0</td>\n",
       "      <td>44.0</td>\n",
       "      <td>0.0</td>\n",
       "      <td>1784.7000</td>\n",
       "      <td>0.0</td>\n",
       "      <td>Y</td>\n",
       "      <td>Nov-2017</td>\n",
       "      <td>NaN</td>\n",
       "      <td>0.0</td>\n",
       "      <td>0.0</td>\n",
       "      <td>NaN</td>\n",
       "      <td>Cash</td>\n",
       "      <td>16.90</td>\n",
       "      <td>NaN</td>\n",
       "      <td>Jun-2001</td>\n",
       "      <td>10+ years</td>\n",
       "      <td>Facilities Coordinator</td>\n",
       "      <td>20000</td>\n",
       "      <td>20000.0</td>\n",
       "      <td>C</td>\n",
       "      <td>NaN</td>\n",
       "      <td>NaN</td>\n",
       "      <td>NaN</td>\n",
       "      <td>N</td>\n",
       "      <td>NaN</td>\n",
       "      <td>NaN</td>\n",
       "      <td>NaN</td>\n",
       "      <td>NaN</td>\n",
       "      <td>NaN</td>\n",
       "      <td>NaN</td>\n",
       "      <td>NaN</td>\n",
       "      <td>NaN</td>\n",
       "      <td>OWN</td>\n",
       "      <td>NaN</td>\n",
       "      <td>37.0</td>\n",
       "      <td>w</td>\n",
       "      <td>0.0</td>\n",
       "      <td>0.0</td>\n",
       "      <td>0.0</td>\n",
       "      <td>465.27</td>\n",
       "      <td>13.99</td>\n",
       "      <td>2015-12-01</td>\n",
       "      <td>Aug-2018</td>\n",
       "      <td>465.27</td>\n",
       "      <td>Jan-2017</td>\n",
       "      <td>20000</td>\n",
       "      <td>Charged Off</td>\n",
       "      <td>4367.0</td>\n",
       "      <td>NaN</td>\n",
       "      <td>46.0</td>\n",
       "      <td>174.0</td>\n",
       "      <td>5.0</td>\n",
       "      <td>5.0</td>\n",
       "      <td>0.0</td>\n",
       "      <td>33.0</td>\n",
       "      <td>69.0</td>\n",
       "      <td>NaN</td>\n",
       "      <td>43.0</td>\n",
       "      <td>6.0</td>\n",
       "      <td>NaN</td>\n",
       "      <td>13.0</td>\n",
       "      <td>NaN</td>\n",
       "      <td>NaN</td>\n",
       "      <td>1.0</td>\n",
       "      <td>6.0</td>\n",
       "      <td>11.0</td>\n",
       "      <td>9.0</td>\n",
       "      <td>19.0</td>\n",
       "      <td>2.0</td>\n",
       "      <td>19.0</td>\n",
       "      <td>32.0</td>\n",
       "      <td>11.0</td>\n",
       "      <td>20.0</td>\n",
       "      <td>0.0</td>\n",
       "      <td>0.0</td>\n",
       "      <td>0.0</td>\n",
       "      <td>2.0</td>\n",
       "      <td>20.0</td>\n",
       "      <td>2.0</td>\n",
       "      <td>1.0</td>\n",
       "      <td>0.0</td>\n",
       "      <td>0.0</td>\n",
       "      <td>2.0</td>\n",
       "      <td>3.0</td>\n",
       "      <td>NaN</td>\n",
       "      <td>0.00</td>\n",
       "      <td>0.00</td>\n",
       "      <td>NaN</td>\n",
       "      <td>94.3</td>\n",
       "      <td>44.4</td>\n",
       "      <td>1</td>\n",
       "      <td>0.0</td>\n",
       "      <td>0.0</td>\n",
       "      <td>debt_consolidation</td>\n",
       "      <td>n</td>\n",
       "      <td>9915.00</td>\n",
       "      <td>31200</td>\n",
       "      <td>NaN</td>\n",
       "      <td>42.0</td>\n",
       "      <td>NaN</td>\n",
       "      <td>NaN</td>\n",
       "      <td>NaN</td>\n",
       "      <td>NaN</td>\n",
       "      <td>NaN</td>\n",
       "      <td>NaN</td>\n",
       "      <td>NaN</td>\n",
       "      <td>NaN</td>\n",
       "      <td>NaN</td>\n",
       "      <td>NaN</td>\n",
       "      <td>9915.0</td>\n",
       "      <td>Sep-2017</td>\n",
       "      <td>55.0</td>\n",
       "      <td>COMPLETE</td>\n",
       "      <td>1.0</td>\n",
       "      <td>C4</td>\n",
       "      <td>0.0</td>\n",
       "      <td>60 months</td>\n",
       "      <td>Debt consolidation</td>\n",
       "      <td>0.0</td>\n",
       "      <td>34856.0</td>\n",
       "      <td>84200.0</td>\n",
       "      <td>35.0</td>\n",
       "      <td>34856.0</td>\n",
       "      <td>3656.0</td>\n",
       "      <td>33100.0</td>\n",
       "      <td>1.0</td>\n",
       "      <td>10000.0</td>\n",
       "      <td>15473.020000</td>\n",
       "      <td>15473.02</td>\n",
       "      <td>2592.85</td>\n",
       "      <td>0.0</td>\n",
       "      <td>2965.17</td>\n",
       "      <td>74200.0</td>\n",
       "      <td>NaN</td>\n",
       "      <td>Source Verified</td>\n",
       "      <td>NaN</td>\n",
       "      <td>210xx</td>\n",
       "    </tr>\n",
       "    <tr>\n",
       "      <th>3</th>\n",
       "      <td>929652</td>\n",
       "      <td>0.0</td>\n",
       "      <td>5.0</td>\n",
       "      <td>RI</td>\n",
       "      <td>62.0</td>\n",
       "      <td>145000.0</td>\n",
       "      <td>NaN</td>\n",
       "      <td>Individual</td>\n",
       "      <td>39020.0</td>\n",
       "      <td>2822.0</td>\n",
       "      <td>81.6</td>\n",
       "      <td>0.0</td>\n",
       "      <td>0.0000</td>\n",
       "      <td>0.0</td>\n",
       "      <td>N</td>\n",
       "      <td>NaN</td>\n",
       "      <td>NaN</td>\n",
       "      <td>0.0</td>\n",
       "      <td>0.0</td>\n",
       "      <td>NaN</td>\n",
       "      <td>Cash</td>\n",
       "      <td>12.28</td>\n",
       "      <td>NaN</td>\n",
       "      <td>Feb-2004</td>\n",
       "      <td>10+ years</td>\n",
       "      <td>President</td>\n",
       "      <td>20000</td>\n",
       "      <td>20000.0</td>\n",
       "      <td>C</td>\n",
       "      <td>NaN</td>\n",
       "      <td>NaN</td>\n",
       "      <td>NaN</td>\n",
       "      <td>N</td>\n",
       "      <td>NaN</td>\n",
       "      <td>NaN</td>\n",
       "      <td>NaN</td>\n",
       "      <td>NaN</td>\n",
       "      <td>NaN</td>\n",
       "      <td>NaN</td>\n",
       "      <td>NaN</td>\n",
       "      <td>NaN</td>\n",
       "      <td>MORTGAGE</td>\n",
       "      <td>NaN</td>\n",
       "      <td>43.0</td>\n",
       "      <td>w</td>\n",
       "      <td>1.0</td>\n",
       "      <td>6.0</td>\n",
       "      <td>0.0</td>\n",
       "      <td>672.73</td>\n",
       "      <td>12.88</td>\n",
       "      <td>2015-12-01</td>\n",
       "      <td>Feb-2019</td>\n",
       "      <td>672.73</td>\n",
       "      <td>Dec-2018</td>\n",
       "      <td>20000</td>\n",
       "      <td>Late (31-120 days)</td>\n",
       "      <td>4627.0</td>\n",
       "      <td>NaN</td>\n",
       "      <td>79.0</td>\n",
       "      <td>142.0</td>\n",
       "      <td>4.0</td>\n",
       "      <td>2.0</td>\n",
       "      <td>5.0</td>\n",
       "      <td>NaN</td>\n",
       "      <td>NaN</td>\n",
       "      <td>NaN</td>\n",
       "      <td>2.0</td>\n",
       "      <td>27.0</td>\n",
       "      <td>NaN</td>\n",
       "      <td>1.0</td>\n",
       "      <td>NaN</td>\n",
       "      <td>Mar-2019</td>\n",
       "      <td>0.0</td>\n",
       "      <td>4.0</td>\n",
       "      <td>6.0</td>\n",
       "      <td>5.0</td>\n",
       "      <td>8.0</td>\n",
       "      <td>5.0</td>\n",
       "      <td>7.0</td>\n",
       "      <td>11.0</td>\n",
       "      <td>6.0</td>\n",
       "      <td>12.0</td>\n",
       "      <td>0.0</td>\n",
       "      <td>0.0</td>\n",
       "      <td>0.0</td>\n",
       "      <td>3.0</td>\n",
       "      <td>12.0</td>\n",
       "      <td>2.0</td>\n",
       "      <td>3.0</td>\n",
       "      <td>1.0</td>\n",
       "      <td>2.0</td>\n",
       "      <td>2.0</td>\n",
       "      <td>3.0</td>\n",
       "      <td>NaN</td>\n",
       "      <td>672.76</td>\n",
       "      <td>672.76</td>\n",
       "      <td>NaN</td>\n",
       "      <td>100.0</td>\n",
       "      <td>75.0</td>\n",
       "      <td>1</td>\n",
       "      <td>0.0</td>\n",
       "      <td>0.0</td>\n",
       "      <td>debt_consolidation</td>\n",
       "      <td>n</td>\n",
       "      <td>0.00</td>\n",
       "      <td>22551</td>\n",
       "      <td>NaN</td>\n",
       "      <td>80.2</td>\n",
       "      <td>NaN</td>\n",
       "      <td>NaN</td>\n",
       "      <td>NaN</td>\n",
       "      <td>NaN</td>\n",
       "      <td>NaN</td>\n",
       "      <td>NaN</td>\n",
       "      <td>NaN</td>\n",
       "      <td>NaN</td>\n",
       "      <td>NaN</td>\n",
       "      <td>NaN</td>\n",
       "      <td>NaN</td>\n",
       "      <td>NaN</td>\n",
       "      <td>NaN</td>\n",
       "      <td>NaN</td>\n",
       "      <td>NaN</td>\n",
       "      <td>C2</td>\n",
       "      <td>0.0</td>\n",
       "      <td>36 months</td>\n",
       "      <td>Debt consolidation</td>\n",
       "      <td>0.0</td>\n",
       "      <td>429218.0</td>\n",
       "      <td>472759.0</td>\n",
       "      <td>21.0</td>\n",
       "      <td>32486.0</td>\n",
       "      <td>9935.0</td>\n",
       "      <td>13500.0</td>\n",
       "      <td>0.0</td>\n",
       "      <td>23259.0</td>\n",
       "      <td>23509.770000</td>\n",
       "      <td>23509.77</td>\n",
       "      <td>4182.53</td>\n",
       "      <td>0.0</td>\n",
       "      <td>19327.24</td>\n",
       "      <td>28500.0</td>\n",
       "      <td>NaN</td>\n",
       "      <td>Not Verified</td>\n",
       "      <td>NaN</td>\n",
       "      <td>029xx</td>\n",
       "    </tr>\n",
       "    <tr>\n",
       "      <th>4</th>\n",
       "      <td>929653</td>\n",
       "      <td>0.0</td>\n",
       "      <td>5.0</td>\n",
       "      <td>WI</td>\n",
       "      <td>75.0</td>\n",
       "      <td>39000.0</td>\n",
       "      <td>NaN</td>\n",
       "      <td>Individual</td>\n",
       "      <td>5032.0</td>\n",
       "      <td>578.0</td>\n",
       "      <td>93.4</td>\n",
       "      <td>0.0</td>\n",
       "      <td>0.0000</td>\n",
       "      <td>0.0</td>\n",
       "      <td>N</td>\n",
       "      <td>NaN</td>\n",
       "      <td>NaN</td>\n",
       "      <td>0.0</td>\n",
       "      <td>0.0</td>\n",
       "      <td>NaN</td>\n",
       "      <td>Cash</td>\n",
       "      <td>18.00</td>\n",
       "      <td>NaN</td>\n",
       "      <td>Aug-2001</td>\n",
       "      <td>10+ years</td>\n",
       "      <td>accts payable</td>\n",
       "      <td>14025</td>\n",
       "      <td>14025.0</td>\n",
       "      <td>D</td>\n",
       "      <td>NaN</td>\n",
       "      <td>NaN</td>\n",
       "      <td>NaN</td>\n",
       "      <td>N</td>\n",
       "      <td>NaN</td>\n",
       "      <td>NaN</td>\n",
       "      <td>NaN</td>\n",
       "      <td>NaN</td>\n",
       "      <td>NaN</td>\n",
       "      <td>NaN</td>\n",
       "      <td>NaN</td>\n",
       "      <td>NaN</td>\n",
       "      <td>MORTGAGE</td>\n",
       "      <td>NaN</td>\n",
       "      <td>NaN</td>\n",
       "      <td>w</td>\n",
       "      <td>0.0</td>\n",
       "      <td>2.0</td>\n",
       "      <td>1.0</td>\n",
       "      <td>359.90</td>\n",
       "      <td>18.49</td>\n",
       "      <td>2015-12-01</td>\n",
       "      <td>Feb-2019</td>\n",
       "      <td>12764.01</td>\n",
       "      <td>Dec-2016</td>\n",
       "      <td>14025</td>\n",
       "      <td>Fully Paid</td>\n",
       "      <td>4879.0</td>\n",
       "      <td>NaN</td>\n",
       "      <td>138.0</td>\n",
       "      <td>172.0</td>\n",
       "      <td>2.0</td>\n",
       "      <td>2.0</td>\n",
       "      <td>3.0</td>\n",
       "      <td>NaN</td>\n",
       "      <td>NaN</td>\n",
       "      <td>NaN</td>\n",
       "      <td>91.0</td>\n",
       "      <td>2.0</td>\n",
       "      <td>NaN</td>\n",
       "      <td>2.0</td>\n",
       "      <td>NaN</td>\n",
       "      <td>NaN</td>\n",
       "      <td>0.0</td>\n",
       "      <td>3.0</td>\n",
       "      <td>11.0</td>\n",
       "      <td>3.0</td>\n",
       "      <td>3.0</td>\n",
       "      <td>4.0</td>\n",
       "      <td>11.0</td>\n",
       "      <td>13.0</td>\n",
       "      <td>11.0</td>\n",
       "      <td>12.0</td>\n",
       "      <td>0.0</td>\n",
       "      <td>0.0</td>\n",
       "      <td>0.0</td>\n",
       "      <td>2.0</td>\n",
       "      <td>12.0</td>\n",
       "      <td>1.0</td>\n",
       "      <td>0.0</td>\n",
       "      <td>0.0</td>\n",
       "      <td>0.0</td>\n",
       "      <td>2.0</td>\n",
       "      <td>5.0</td>\n",
       "      <td>NaN</td>\n",
       "      <td>0.00</td>\n",
       "      <td>0.00</td>\n",
       "      <td>NaN</td>\n",
       "      <td>100.0</td>\n",
       "      <td>66.7</td>\n",
       "      <td>1</td>\n",
       "      <td>0.0</td>\n",
       "      <td>0.0</td>\n",
       "      <td>debt_consolidation</td>\n",
       "      <td>n</td>\n",
       "      <td>0.00</td>\n",
       "      <td>15646</td>\n",
       "      <td>NaN</td>\n",
       "      <td>74.9</td>\n",
       "      <td>NaN</td>\n",
       "      <td>NaN</td>\n",
       "      <td>NaN</td>\n",
       "      <td>NaN</td>\n",
       "      <td>NaN</td>\n",
       "      <td>NaN</td>\n",
       "      <td>NaN</td>\n",
       "      <td>NaN</td>\n",
       "      <td>NaN</td>\n",
       "      <td>NaN</td>\n",
       "      <td>NaN</td>\n",
       "      <td>NaN</td>\n",
       "      <td>NaN</td>\n",
       "      <td>NaN</td>\n",
       "      <td>NaN</td>\n",
       "      <td>D5</td>\n",
       "      <td>0.0</td>\n",
       "      <td>60 months</td>\n",
       "      <td>Debt consolidation</td>\n",
       "      <td>0.0</td>\n",
       "      <td>60381.0</td>\n",
       "      <td>72286.0</td>\n",
       "      <td>21.0</td>\n",
       "      <td>15646.0</td>\n",
       "      <td>0.0</td>\n",
       "      <td>8800.0</td>\n",
       "      <td>0.0</td>\n",
       "      <td>0.0</td>\n",
       "      <td>16341.390792</td>\n",
       "      <td>16341.39</td>\n",
       "      <td>2316.39</td>\n",
       "      <td>0.0</td>\n",
       "      <td>14025.00</td>\n",
       "      <td>20900.0</td>\n",
       "      <td>NaN</td>\n",
       "      <td>Verified</td>\n",
       "      <td>NaN</td>\n",
       "      <td>546xx</td>\n",
       "    </tr>\n",
       "  </tbody>\n",
       "</table>\n",
       "</div>"
      ],
      "text/plain": [
       "   Unnamed: 0  acc_now_delinq  acc_open_past_24mths addr_state  all_util  \\\n",
       "0      929649             0.0                   4.0         SD      29.0   \n",
       "1      929650             0.0                   0.0         AL      60.0   \n",
       "2      929651             0.0                   3.0         MD      41.0   \n",
       "3      929652             0.0                   5.0         RI      62.0   \n",
       "4      929653             0.0                   5.0         WI      75.0   \n",
       "\n",
       "   annual_inc  annual_inc_joint application_type  avg_cur_bal  bc_open_to_buy  \\\n",
       "0     65000.0               NaN       Individual       9733.0         57830.0   \n",
       "1    106000.0               NaN       Individual      37486.0         12875.0   \n",
       "2     70000.0               NaN       Individual       1835.0         18527.0   \n",
       "3    145000.0               NaN       Individual      39020.0          2822.0   \n",
       "4     39000.0               NaN       Individual       5032.0           578.0   \n",
       "\n",
       "   bc_util  chargeoff_within_12_mths  collection_recovery_fee  \\\n",
       "0     27.1                       0.0                   0.0000   \n",
       "1     67.2                       0.0                 863.6508   \n",
       "2     44.0                       0.0                1784.7000   \n",
       "3     81.6                       0.0                   0.0000   \n",
       "4     93.4                       0.0                   0.0000   \n",
       "\n",
       "   collections_12_mths_ex_med debt_settlement_flag debt_settlement_flag_date  \\\n",
       "0                         0.0                    N                       NaN   \n",
       "1                         0.0                    N                       NaN   \n",
       "2                         0.0                    Y                  Nov-2017   \n",
       "3                         0.0                    N                       NaN   \n",
       "4                         0.0                    N                       NaN   \n",
       "\n",
       "   deferral_term  delinq_2yrs  delinq_amnt desc disbursement_method    dti  \\\n",
       "0            NaN          1.0          0.0  NaN                Cash  16.06   \n",
       "1            NaN          0.0          0.0  NaN                Cash  17.36   \n",
       "2            NaN          0.0          0.0  NaN                Cash  16.90   \n",
       "3            NaN          0.0          0.0  NaN                Cash  12.28   \n",
       "4            NaN          0.0          0.0  NaN                Cash  18.00   \n",
       "\n",
       "   dti_joint earliest_cr_line emp_length               emp_title  funded_amnt  \\\n",
       "0        NaN         Dec-1999  10+ years                Engineer        24700   \n",
       "1        NaN         Apr-2002    7 years             Lieutenant         35000   \n",
       "2        NaN         Jun-2001  10+ years  Facilities Coordinator        20000   \n",
       "3        NaN         Feb-2004  10+ years               President        20000   \n",
       "4        NaN         Aug-2001  10+ years           accts payable        14025   \n",
       "\n",
       "   funded_amnt_inv grade  hardship_amount  hardship_dpd hardship_end_date  \\\n",
       "0          24700.0     C              NaN           NaN               NaN   \n",
       "1          35000.0     C              NaN           NaN               NaN   \n",
       "2          20000.0     C              NaN           NaN               NaN   \n",
       "3          20000.0     C              NaN           NaN               NaN   \n",
       "4          14025.0     D              NaN           NaN               NaN   \n",
       "\n",
       "  hardship_flag  hardship_last_payment_amount  hardship_length  \\\n",
       "0             N                           NaN              NaN   \n",
       "1             N                           NaN              NaN   \n",
       "2             N                           NaN              NaN   \n",
       "3             N                           NaN              NaN   \n",
       "4             N                           NaN              NaN   \n",
       "\n",
       "  hardship_loan_status  hardship_payoff_balance_amount hardship_reason  \\\n",
       "0                  NaN                             NaN             NaN   \n",
       "1                  NaN                             NaN             NaN   \n",
       "2                  NaN                             NaN             NaN   \n",
       "3                  NaN                             NaN             NaN   \n",
       "4                  NaN                             NaN             NaN   \n",
       "\n",
       "  hardship_start_date hardship_status hardship_type home_ownership  id  \\\n",
       "0                 NaN             NaN           NaN       MORTGAGE NaN   \n",
       "1                 NaN             NaN           NaN       MORTGAGE NaN   \n",
       "2                 NaN             NaN           NaN            OWN NaN   \n",
       "3                 NaN             NaN           NaN       MORTGAGE NaN   \n",
       "4                 NaN             NaN           NaN       MORTGAGE NaN   \n",
       "\n",
       "   il_util initial_list_status  inq_fi  inq_last_12m  inq_last_6mths  \\\n",
       "0     73.0                   w     0.0           6.0             4.0   \n",
       "1     43.0                   w     0.0           0.0             0.0   \n",
       "2     37.0                   w     0.0           0.0             0.0   \n",
       "3     43.0                   w     1.0           6.0             0.0   \n",
       "4      NaN                   w     0.0           2.0             1.0   \n",
       "\n",
       "   installment  int_rate     issue_d last_credit_pull_d  last_pymnt_amnt  \\\n",
       "0       820.28     11.99  2015-12-01           Feb-2019           926.35   \n",
       "1       794.21     12.88  2015-12-01           Feb-2019           794.21   \n",
       "2       465.27     13.99  2015-12-01           Aug-2018           465.27   \n",
       "3       672.73     12.88  2015-12-01           Feb-2019           672.73   \n",
       "4       359.90     18.49  2015-12-01           Feb-2019         12764.01   \n",
       "\n",
       "  last_pymnt_d  loan_amnt         loan_status  max_bal_bc  member_id  \\\n",
       "0     Jun-2016      24700          Fully Paid      6472.0        NaN   \n",
       "1     Nov-2017      35000         Charged Off      9701.0        NaN   \n",
       "2     Jan-2017      20000         Charged Off      4367.0        NaN   \n",
       "3     Dec-2018      20000  Late (31-120 days)      4627.0        NaN   \n",
       "4     Dec-2016      14025          Fully Paid      4879.0        NaN   \n",
       "\n",
       "   mo_sin_old_il_acct  mo_sin_old_rev_tl_op  mo_sin_rcnt_rev_tl_op  \\\n",
       "0               113.0                 192.0                    2.0   \n",
       "1               135.0                 164.0                   38.0   \n",
       "2                46.0                 174.0                    5.0   \n",
       "3                79.0                 142.0                    4.0   \n",
       "4               138.0                 172.0                    2.0   \n",
       "\n",
       "   mo_sin_rcnt_tl  mort_acc  mths_since_last_delinq  \\\n",
       "0             2.0       4.0                     6.0   \n",
       "1            35.0       4.0                     NaN   \n",
       "2             5.0       0.0                    33.0   \n",
       "3             2.0       5.0                     NaN   \n",
       "4             2.0       3.0                     NaN   \n",
       "\n",
       "   mths_since_last_major_derog  mths_since_last_record  mths_since_rcnt_il  \\\n",
       "0                          NaN                     NaN                19.0   \n",
       "1                          NaN                     NaN                35.0   \n",
       "2                         69.0                     NaN                43.0   \n",
       "3                          NaN                     NaN                 2.0   \n",
       "4                          NaN                     NaN                91.0   \n",
       "\n",
       "   mths_since_recent_bc  mths_since_recent_bc_dlq  mths_since_recent_inq  \\\n",
       "0                   2.0                       NaN                    0.0   \n",
       "1                  38.0                       NaN                    NaN   \n",
       "2                   6.0                       NaN                   13.0   \n",
       "3                  27.0                       NaN                    1.0   \n",
       "4                   2.0                       NaN                    2.0   \n",
       "\n",
       "   mths_since_recent_revol_delinq next_pymnt_d  num_accts_ever_120_pd  \\\n",
       "0                             6.0          NaN                    0.0   \n",
       "1                             NaN          NaN                    0.0   \n",
       "2                             NaN          NaN                    1.0   \n",
       "3                             NaN     Mar-2019                    0.0   \n",
       "4                             NaN          NaN                    0.0   \n",
       "\n",
       "   num_actv_bc_tl  num_actv_rev_tl  num_bc_sats  num_bc_tl  num_il_tl  \\\n",
       "0             5.0              5.0         13.0       17.0        6.0   \n",
       "1             3.0              4.0          3.0        6.0       13.0   \n",
       "2             6.0             11.0          9.0       19.0        2.0   \n",
       "3             4.0              6.0          5.0        8.0        5.0   \n",
       "4             3.0             11.0          3.0        3.0        4.0   \n",
       "\n",
       "   num_op_rev_tl  num_rev_accts  num_rev_tl_bal_gt_0  num_sats  \\\n",
       "0           20.0           27.0                  5.0      22.0   \n",
       "1            4.0           10.0                  4.0       8.0   \n",
       "2           19.0           32.0                 11.0      20.0   \n",
       "3            7.0           11.0                  6.0      12.0   \n",
       "4           11.0           13.0                 11.0      12.0   \n",
       "\n",
       "   num_tl_120dpd_2m  num_tl_30dpd  num_tl_90g_dpd_24m  num_tl_op_past_12m  \\\n",
       "0               0.0           0.0                 0.0                 2.0   \n",
       "1               0.0           0.0                 0.0                 0.0   \n",
       "2               0.0           0.0                 0.0                 2.0   \n",
       "3               0.0           0.0                 0.0                 3.0   \n",
       "4               0.0           0.0                 0.0                 2.0   \n",
       "\n",
       "   open_acc  open_acc_6m  open_act_il  open_il_12m  open_il_24m  open_rv_12m  \\\n",
       "0      22.0          1.0          1.0          0.0          1.0          2.0   \n",
       "1       8.0          0.0          3.0          0.0          0.0          0.0   \n",
       "2      20.0          2.0          1.0          0.0          0.0          2.0   \n",
       "3      12.0          2.0          3.0          1.0          2.0          2.0   \n",
       "4      12.0          1.0          0.0          0.0          0.0          2.0   \n",
       "\n",
       "   open_rv_24m  orig_projected_additional_accrued_interest  out_prncp  \\\n",
       "0          3.0                                         NaN       0.00   \n",
       "1          0.0                                         NaN       0.00   \n",
       "2          3.0                                         NaN       0.00   \n",
       "3          3.0                                         NaN     672.76   \n",
       "4          5.0                                         NaN       0.00   \n",
       "\n",
       "   out_prncp_inv payment_plan_start_date  pct_tl_nvr_dlq  percent_bc_gt_75  \\\n",
       "0           0.00                     NaN            97.4               7.7   \n",
       "1           0.00                     NaN           100.0               0.0   \n",
       "2           0.00                     NaN            94.3              44.4   \n",
       "3         672.76                     NaN           100.0              75.0   \n",
       "4           0.00                     NaN           100.0              66.7   \n",
       "\n",
       "   policy_code  pub_rec  pub_rec_bankruptcies             purpose pymnt_plan  \\\n",
       "0            1      0.0                   0.0      small_business          n   \n",
       "1            1      0.0                   0.0  debt_consolidation          n   \n",
       "2            1      0.0                   0.0  debt_consolidation          n   \n",
       "3            1      0.0                   0.0  debt_consolidation          n   \n",
       "4            1      0.0                   0.0  debt_consolidation          n   \n",
       "\n",
       "   recoveries  revol_bal  revol_bal_joint  revol_util  \\\n",
       "0        0.00      21470              NaN        19.2   \n",
       "1     4798.06      39055              NaN        72.1   \n",
       "2     9915.00      31200              NaN        42.0   \n",
       "3        0.00      22551              NaN        80.2   \n",
       "4        0.00      15646              NaN        74.9   \n",
       "\n",
       "   sec_app_chargeoff_within_12_mths  sec_app_collections_12_mths_ex_med  \\\n",
       "0                               NaN                                 NaN   \n",
       "1                               NaN                                 NaN   \n",
       "2                               NaN                                 NaN   \n",
       "3                               NaN                                 NaN   \n",
       "4                               NaN                                 NaN   \n",
       "\n",
       "   sec_app_earliest_cr_line  sec_app_inq_last_6mths  sec_app_mort_acc  \\\n",
       "0                       NaN                     NaN               NaN   \n",
       "1                       NaN                     NaN               NaN   \n",
       "2                       NaN                     NaN               NaN   \n",
       "3                       NaN                     NaN               NaN   \n",
       "4                       NaN                     NaN               NaN   \n",
       "\n",
       "   sec_app_mths_since_last_major_derog  sec_app_num_rev_accts  \\\n",
       "0                                  NaN                    NaN   \n",
       "1                                  NaN                    NaN   \n",
       "2                                  NaN                    NaN   \n",
       "3                                  NaN                    NaN   \n",
       "4                                  NaN                    NaN   \n",
       "\n",
       "   sec_app_open_acc  sec_app_open_act_il  sec_app_revol_util  \\\n",
       "0               NaN                  NaN                 NaN   \n",
       "1               NaN                  NaN                 NaN   \n",
       "2               NaN                  NaN                 NaN   \n",
       "3               NaN                  NaN                 NaN   \n",
       "4               NaN                  NaN                 NaN   \n",
       "\n",
       "   settlement_amount settlement_date  settlement_percentage settlement_status  \\\n",
       "0                NaN             NaN                    NaN               NaN   \n",
       "1                NaN             NaN                    NaN               NaN   \n",
       "2             9915.0        Sep-2017                   55.0          COMPLETE   \n",
       "3                NaN             NaN                    NaN               NaN   \n",
       "4                NaN             NaN                    NaN               NaN   \n",
       "\n",
       "   settlement_term sub_grade  tax_liens        term               title  \\\n",
       "0              NaN        C1        0.0   36 months            Business   \n",
       "1              NaN        C2        0.0   60 months  Debt consolidation   \n",
       "2              1.0        C4        0.0   60 months  Debt consolidation   \n",
       "3              NaN        C2        0.0   36 months  Debt consolidation   \n",
       "4              NaN        D5        0.0   60 months  Debt consolidation   \n",
       "\n",
       "   tot_coll_amt  tot_cur_bal  tot_hi_cred_lim  total_acc  total_bal_ex_mort  \\\n",
       "0           0.0     204396.0         314017.0       38.0            39475.0   \n",
       "1           0.0     299890.0         366974.0       27.0            55067.0   \n",
       "2           0.0      34856.0          84200.0       35.0            34856.0   \n",
       "3           0.0     429218.0         472759.0       21.0            32486.0   \n",
       "4           0.0      60381.0          72286.0       21.0            15646.0   \n",
       "\n",
       "   total_bal_il  total_bc_limit  total_cu_tl  total_il_high_credit_limit  \\\n",
       "0       18005.0         79300.0          0.0                     24667.0   \n",
       "1       16012.0         39200.0          4.0                     36981.0   \n",
       "2        3656.0         33100.0          1.0                     10000.0   \n",
       "3        9935.0         13500.0          0.0                     23259.0   \n",
       "4           0.0          8800.0          0.0                         0.0   \n",
       "\n",
       "    total_pymnt  total_pymnt_inv  total_rec_int  total_rec_late_fee  \\\n",
       "0  25679.660000         25679.66         979.66                 0.0   \n",
       "1  22208.070000         22208.07        7086.13                 0.0   \n",
       "2  15473.020000         15473.02        2592.85                 0.0   \n",
       "3  23509.770000         23509.77        4182.53                 0.0   \n",
       "4  16341.390792         16341.39        2316.39                 0.0   \n",
       "\n",
       "   total_rec_prncp  total_rev_hi_lim  url verification_status  \\\n",
       "0         24700.00          111800.0  NaN        Not Verified   \n",
       "1         10323.88           54200.0  NaN     Source Verified   \n",
       "2          2965.17           74200.0  NaN     Source Verified   \n",
       "3         19327.24           28500.0  NaN        Not Verified   \n",
       "4         14025.00           20900.0  NaN            Verified   \n",
       "\n",
       "  verification_status_joint zip_code  \n",
       "0                       NaN    577xx  \n",
       "1                       NaN    351xx  \n",
       "2                       NaN    210xx  \n",
       "3                       NaN    029xx  \n",
       "4                       NaN    546xx  "
      ]
     },
     "execution_count": 2,
     "metadata": {},
     "output_type": "execute_result"
    }
   ],
   "source": [
    "# Reading csv file into memory\n",
    "df = pd.read_csv(\"data/data_raw.csv\", low_memory=False)\n",
    "\n",
    "# Sorting the columns alphabeticaly, for easier comparison with data dictionary excel file\n",
    "df = df.reindex(sorted(df.columns), axis=1)\n",
    "df.head()"
   ]
  },
  {
   "cell_type": "markdown",
   "metadata": {},
   "source": [
    "We have almost 900 000 rows of data, which is a lot. That will be useful later.\n",
    "We also have 74 features. I suspect, that many of them will not be useful.\n",
    "First I will check all the features descriptions, to eliminate those completely irrelevant.\n",
    "\n",
    "The features that are completely irrelevant at the first sight are:\n",
    "**'desc', 'emp_title', 'id', 'member_id', 'title'** and **'url'** \n",
    "We will not be using **'zip_code'** as well, as there is 'state' which contains the same information"
   ]
  },
  {
   "cell_type": "code",
   "execution_count": 3,
   "metadata": {},
   "outputs": [],
   "source": [
    "df = df.drop(['desc', 'emp_title', 'id', 'member_id', 'title', 'url', 'zip_code'], axis=1)"
   ]
  },
  {
   "cell_type": "markdown",
   "metadata": {},
   "source": [
    "## Data Cleaning"
   ]
  },
  {
   "cell_type": "markdown",
   "metadata": {},
   "source": [
    "Now I will check how many features have missing values.\n",
    "Then I will inspect if we can extract some information out of them"
   ]
  },
  {
   "cell_type": "code",
   "execution_count": 4,
   "metadata": {},
   "outputs": [
    {
     "name": "stdout",
     "output_type": "stream",
     "text": [
      "Number of columns with missing values:   106\n",
      "\n"
     ]
    },
    {
     "data": {
      "text/plain": [
       "acc_now_delinq                         0.000033\n",
       "acc_open_past_24mths                   0.056376\n",
       "all_util                               0.975917\n",
       "annual_inc                             0.000005\n",
       "annual_inc_joint                       0.999424\n",
       "avg_cur_bal                            0.079203\n",
       "bc_open_to_buy                         0.065320\n",
       "bc_util                                0.065903\n",
       "chargeoff_within_12_mths               0.000163\n",
       "collections_12_mths_ex_med             0.000163\n",
       "debt_settlement_flag_date              0.979970\n",
       "deferral_term                          0.996466\n",
       "delinq_2yrs                            0.000033\n",
       "delinq_amnt                            0.000033\n",
       "dti                                    0.000002\n",
       "dti_joint                              0.999426\n",
       "earliest_cr_line                       0.000033\n",
       "emp_length                             0.050522\n",
       "hardship_amount                        0.996466\n",
       "hardship_dpd                           0.996466\n",
       "hardship_end_date                      0.996466\n",
       "hardship_last_payment_amount           0.996466\n",
       "hardship_length                        0.996466\n",
       "hardship_loan_status                   0.996466\n",
       "hardship_payoff_balance_amount         0.996466\n",
       "hardship_reason                        0.996466\n",
       "hardship_start_date                    0.996466\n",
       "hardship_status                        0.996466\n",
       "hardship_type                          0.996466\n",
       "il_util                                0.979022\n",
       "                                         ...   \n",
       "pub_rec_bankruptcies                   0.001538\n",
       "revol_bal_joint                        1.000000\n",
       "revol_util                             0.000566\n",
       "sec_app_chargeoff_within_12_mths       1.000000\n",
       "sec_app_collections_12_mths_ex_med     1.000000\n",
       "sec_app_earliest_cr_line               1.000000\n",
       "sec_app_inq_last_6mths                 1.000000\n",
       "sec_app_mort_acc                       1.000000\n",
       "sec_app_mths_since_last_major_derog    1.000000\n",
       "sec_app_num_rev_accts                  1.000000\n",
       "sec_app_open_acc                       1.000000\n",
       "sec_app_open_act_il                    1.000000\n",
       "sec_app_revol_util                     1.000000\n",
       "settlement_amount                      0.979970\n",
       "settlement_date                        0.979970\n",
       "settlement_percentage                  0.979970\n",
       "settlement_status                      0.979970\n",
       "settlement_term                        0.979970\n",
       "tax_liens                              0.000118\n",
       "tot_coll_amt                           0.079190\n",
       "tot_cur_bal                            0.079190\n",
       "tot_hi_cred_lim                        0.079190\n",
       "total_acc                              0.000033\n",
       "total_bal_ex_mort                      0.056376\n",
       "total_bal_il                           0.975917\n",
       "total_bc_limit                         0.056376\n",
       "total_cu_tl                            0.975917\n",
       "total_il_high_credit_limit             0.079190\n",
       "total_rev_hi_lim                       0.079190\n",
       "verification_status_joint              0.999424\n",
       "Length: 106, dtype: float64"
      ]
     },
     "execution_count": 4,
     "metadata": {},
     "output_type": "execute_result"
    }
   ],
   "source": [
    "# Checking which colums still have missing values\n",
    "missing_columns = df.columns[df.isnull().mean() != 0]\n",
    "print('Number of columns with missing values:   ' + str(len(missing_columns)) + \"\\n\")\n",
    "df[missing_columns].isnull().mean()"
   ]
  },
  {
   "cell_type": "markdown",
   "metadata": {},
   "source": [
    "I will delete all of features with more than 20% lacking values.\n",
    "Imputing the lacking data would be risky, difficult and time consuming. "
   ]
  },
  {
   "cell_type": "code",
   "execution_count": 5,
   "metadata": {
    "scrolled": true
   },
   "outputs": [
    {
     "data": {
      "text/plain": [
       "acc_now_delinq                0.000033\n",
       "acc_open_past_24mths          0.056376\n",
       "annual_inc                    0.000005\n",
       "avg_cur_bal                   0.079203\n",
       "bc_open_to_buy                0.065320\n",
       "bc_util                       0.065903\n",
       "chargeoff_within_12_mths      0.000163\n",
       "collections_12_mths_ex_med    0.000163\n",
       "delinq_2yrs                   0.000033\n",
       "delinq_amnt                   0.000033\n",
       "dti                           0.000002\n",
       "earliest_cr_line              0.000033\n",
       "emp_length                    0.050522\n",
       "inq_last_6mths                0.000033\n",
       "last_credit_pull_d            0.000053\n",
       "last_pymnt_d                  0.000755\n",
       "mo_sin_old_il_acct            0.107987\n",
       "mo_sin_old_rev_tl_op          0.079191\n",
       "mo_sin_rcnt_rev_tl_op         0.079191\n",
       "mo_sin_rcnt_tl                0.079190\n",
       "mort_acc                      0.056376\n",
       "mths_since_recent_bc          0.064688\n",
       "mths_since_recent_inq         0.154032\n",
       "num_accts_ever_120_pd         0.079190\n",
       "num_actv_bc_tl                0.079190\n",
       "num_actv_rev_tl               0.079190\n",
       "num_bc_sats                   0.066021\n",
       "num_bc_tl                     0.079190\n",
       "num_il_tl                     0.079190\n",
       "num_op_rev_tl                 0.079190\n",
       "num_rev_accts                 0.079191\n",
       "num_rev_tl_bal_gt_0           0.079190\n",
       "num_sats                      0.066021\n",
       "num_tl_120dpd_2m              0.110004\n",
       "num_tl_30dpd                  0.079190\n",
       "num_tl_90g_dpd_24m            0.079190\n",
       "num_tl_op_past_12m            0.079190\n",
       "open_acc                      0.000033\n",
       "pct_tl_nvr_dlq                0.079362\n",
       "percent_bc_gt_75              0.065761\n",
       "pub_rec                       0.000033\n",
       "pub_rec_bankruptcies          0.001538\n",
       "revol_util                    0.000566\n",
       "tax_liens                     0.000118\n",
       "tot_coll_amt                  0.079190\n",
       "tot_cur_bal                   0.079190\n",
       "tot_hi_cred_lim               0.079190\n",
       "total_acc                     0.000033\n",
       "total_bal_ex_mort             0.056376\n",
       "total_bc_limit                0.056376\n",
       "total_il_high_credit_limit    0.079190\n",
       "total_rev_hi_lim              0.079190\n",
       "dtype: float64"
      ]
     },
     "execution_count": 5,
     "metadata": {},
     "output_type": "execute_result"
    }
   ],
   "source": [
    "# Dropping columns which have more than 20% missing values\n",
    "df = df.drop(df.columns[df.isnull().mean() > 0.2], axis=1 )\n",
    "\n",
    "df[df.columns[df.isnull().mean() != 0]].isnull().mean()"
   ]
  },
  {
   "cell_type": "markdown",
   "metadata": {},
   "source": [
    "Some of the features lack very few values. I will remove the lacking records, as our dataset is big enough.\n",
    "It will save me some problems with imputing missing data. "
   ]
  },
  {
   "cell_type": "code",
   "execution_count": 6,
   "metadata": {},
   "outputs": [],
   "source": [
    "# The columns are:\n",
    "cols_to_drop = ['acc_now_delinq', 'acc_open_past_24mths', 'annual_inc', 'avg_cur_bal',\n",
    "       'bc_open_to_buy', 'bc_util', 'chargeoff_within_12_mths',\n",
    "       'collections_12_mths_ex_med', 'delinq_2yrs', 'delinq_amnt', 'dti',\n",
    "       'earliest_cr_line', 'inq_last_6mths',\n",
    "       'last_credit_pull_d', 'mo_sin_old_il_acct',\n",
    "       'mo_sin_old_rev_tl_op', 'mo_sin_rcnt_rev_tl_op', 'mo_sin_rcnt_tl',\n",
    "       'mort_acc', 'mths_since_recent_bc', 'mths_since_recent_inq',\n",
    "       'num_accts_ever_120_pd', 'num_actv_bc_tl', 'num_actv_rev_tl',\n",
    "       'num_bc_sats', 'num_bc_tl', 'num_il_tl', 'num_op_rev_tl',\n",
    "       'num_rev_accts', 'num_rev_tl_bal_gt_0', 'num_sats', 'num_tl_120dpd_2m',\n",
    "       'num_tl_30dpd', 'num_tl_90g_dpd_24m', 'num_tl_op_past_12m', 'open_acc',\n",
    "       'pct_tl_nvr_dlq', 'percent_bc_gt_75', 'pub_rec', 'pub_rec_bankruptcies',\n",
    "       'revol_util', 'tax_liens',\n",
    "       'tot_hi_cred_lim', 'total_acc', 'total_bal_ex_mort', 'total_bc_limit',\n",
    "       'total_il_high_credit_limit', 'debt_settlement_flag', 'disbursement_method', 'hardship_flag']\n",
    "\n",
    "# Removing rows with missing values\n",
    "df = df.drop(cols_to_drop, axis=1)"
   ]
  },
  {
   "cell_type": "markdown",
   "metadata": {},
   "source": [
    "### Imputing missing data"
   ]
  },
  {
   "cell_type": "code",
   "execution_count": 7,
   "metadata": {},
   "outputs": [
    {
     "data": {
      "text/plain": [
       "<matplotlib.axes._subplots.AxesSubplot at 0x26ce7b677b8>"
      ]
     },
     "execution_count": 7,
     "metadata": {},
     "output_type": "execute_result"
    },
    {
     "data": {
      "image/png": "[encoded data removed]",
      "text/plain": [
       "<Figure size 432x288 with 1 Axes>"
      ]
     },
     "metadata": {
      "needs_background": "light"
     },
     "output_type": "display_data"
    }
   ],
   "source": [
    "# Printing features that still lack values\n",
    "df[df.columns[df.isnull().mean() != 0]].isnull().mean().plot(kind='bar')"
   ]
  },
  {
   "cell_type": "markdown",
   "metadata": {},
   "source": [
    "We are left with 5 variables. I will impute missing data. \n",
    "First I will take a look at 'emp_length'. It takes values from 0 to 10"
   ]
  },
  {
   "cell_type": "code",
   "execution_count": 8,
   "metadata": {},
   "outputs": [
    {
     "data": {
      "text/plain": [
       "<matplotlib.axes._subplots.AxesSubplot at 0x26cabaec390>"
      ]
     },
     "execution_count": 8,
     "metadata": {},
     "output_type": "execute_result"
    },
    {
     "data": {
      "image/png": "[encoded data removed]",
      "text/plain": [
       "<Figure size 432x288 with 1 Axes>"
      ]
     },
     "metadata": {
      "needs_background": "light"
     },
     "output_type": "display_data"
    }
   ],
   "source": [
    "df['emp_length'].value_counts().plot(kind='bar')"
   ]
  },
  {
   "cell_type": "markdown",
   "metadata": {},
   "source": [
    "First I will replace strings with integers. Then I will fill values that are not available with the most common occurence - 10+ years. \n"
   ]
  },
  {
   "cell_type": "code",
   "execution_count": 9,
   "metadata": {},
   "outputs": [],
   "source": [
    "# Replacing string with integers\n",
    "condition = df['emp_length'] == '< 1 year'\n",
    "df.loc[condition, 'emp_length'] = 0\n",
    "\n",
    "condition = df['emp_length'] == '1 year'\n",
    "df.loc[condition, 'emp_length'] = 1\n",
    "\n",
    "condition = df['emp_length'] == '2 years'\n",
    "df.loc[condition, 'emp_length'] = 2\n",
    "\n",
    "condition = df['emp_length'] == '3 years'\n",
    "df.loc[condition, 'emp_length'] = 3\n",
    "\n",
    "condition = df['emp_length'] == '4 years'\n",
    "df.loc[condition, 'emp_length'] = 4\n",
    "\n",
    "condition = df['emp_length'] == '5 years'\n",
    "df.loc[condition, 'emp_length'] = 5\n",
    "\n",
    "condition = df['emp_length'] == '6 years'\n",
    "df.loc[condition, 'emp_length'] = 6\n",
    "\n",
    "condition = df['emp_length'] == '7 years'\n",
    "df.loc[condition, 'emp_length'] = 7\n",
    "\n",
    "condition = df['emp_length'] == '8 years'\n",
    "df.loc[condition, 'emp_length'] = 8\n",
    "\n",
    "condition = df['emp_length'] == '9 years'\n",
    "df.loc[condition, 'emp_length'] = 9\n",
    "\n",
    "condition = df['emp_length'] == '10+ years'\n",
    "df.loc[condition, 'emp_length'] = 10"
   ]
  },
  {
   "cell_type": "markdown",
   "metadata": {},
   "source": [
    "Now I will create sample, which I will pick from, and fill all missing values left with them."
   ]
  },
  {
   "cell_type": "code",
   "execution_count": 10,
   "metadata": {},
   "outputs": [
    {
     "data": {
      "text/plain": [
       "0"
      ]
     },
     "execution_count": 10,
     "metadata": {},
     "output_type": "execute_result"
    }
   ],
   "source": [
    "# Filling missing values\n",
    "df['emp_length'].fillna(10, inplace=True)\n",
    "# Checking if fillna worked properly\n",
    "df['emp_length'].isnull().sum()"
   ]
  },
  {
   "cell_type": "markdown",
   "metadata": {},
   "source": [
    "We will do the same with 'last_pymnt_d'. \n",
    "But first I will convert the dates to numerical values. <br/> I decided to transform dates to time that passed since the last payment (in months)."
   ]
  },
  {
   "cell_type": "code",
   "execution_count": 11,
   "metadata": {},
   "outputs": [
    {
     "data": {
      "text/plain": [
       "<matplotlib.axes._subplots.AxesSubplot at 0x26cabba49b0>"
      ]
     },
     "execution_count": 11,
     "metadata": {},
     "output_type": "execute_result"
    },
    {
     "data": {
      "image/png": "[encoded data removed]",
      "text/plain": [
       "<Figure size 432x288 with 1 Axes>"
      ]
     },
     "metadata": {
      "needs_background": "light"
     },
     "output_type": "display_data"
    }
   ],
   "source": [
    "df['last_pymnt_d'].value_counts()[:10].plot(kind='bar')"
   ]
  },
  {
   "cell_type": "code",
   "execution_count": 12,
   "metadata": {},
   "outputs": [
    {
     "data": {
      "text/plain": [
       "<matplotlib.axes._subplots.AxesSubplot at 0x26cacc0f860>"
      ]
     },
     "execution_count": 12,
     "metadata": {},
     "output_type": "execute_result"
    },
    {
     "data": {
      "image/png": "[encoded data removed]",
      "text/plain": [
       "<Figure size 432x288 with 1 Axes>"
      ]
     },
     "metadata": {
      "needs_background": "light"
     },
     "output_type": "display_data"
    }
   ],
   "source": [
    "# Creating months dictionary\n",
    "month_dict = {\"Jan\":1,\"Feb\":2,\"Mar\":3,\"Apr\":4, \"May\":5, \"Jun\":6, \"Jul\":7,\"Aug\":8,\"Sep\":9,\"Oct\":10,\"Nov\":11,\"Dec\":12}\n",
    "\n",
    "# Defining transformation function\n",
    "def transform_date(series):\n",
    "        string = str(series)\n",
    "        if series == None or string == 'nan':\n",
    "            return None\n",
    "        year = int(string[-2:])\n",
    "        month_name = string[0:3]\n",
    "        month = month_dict[month_name]\n",
    "        months_passed = None\n",
    "        if month == 1 and year == 16:\n",
    "            months_passed = 0\n",
    "        else:\n",
    "            months_passed = (12 * (15-year)) + (13 - month)\n",
    "        return months_passed\n",
    "   \n",
    "        \n",
    "\n",
    "# Applying transformation to new column\n",
    "df['time_since_last_pymnt'] = df['last_pymnt_d'].apply(transform_date)\n",
    "\n",
    "df['time_since_last_pymnt'].value_counts()[:10].plot(kind='bar')"
   ]
  },
  {
   "cell_type": "markdown",
   "metadata": {},
   "source": [
    "Now I will again fill the missing with most common occurence - 0 months. "
   ]
  },
  {
   "cell_type": "code",
   "execution_count": 13,
   "metadata": {},
   "outputs": [
    {
     "data": {
      "text/plain": [
       "0"
      ]
     },
     "execution_count": 13,
     "metadata": {},
     "output_type": "execute_result"
    }
   ],
   "source": [
    "# Filling missing values\n",
    "df['time_since_last_pymnt'].fillna(0, inplace=True)\n",
    "# Sanity check:\n",
    "df['time_since_last_pymnt'].isnull().sum()"
   ]
  },
  {
   "cell_type": "code",
   "execution_count": 14,
   "metadata": {},
   "outputs": [],
   "source": [
    "# Removing 'last_pymnt_d' column\n",
    "df = df.drop(['last_pymnt_d'], axis=1)"
   ]
  },
  {
   "cell_type": "code",
   "execution_count": 15,
   "metadata": {},
   "outputs": [
    {
     "data": {
      "text/plain": [
       "<matplotlib.axes._subplots.AxesSubplot at 0x26cb32069e8>"
      ]
     },
     "execution_count": 15,
     "metadata": {},
     "output_type": "execute_result"
    },
    {
     "data": {
      "image/png": "[encoded data removed]",
      "text/plain": [
       "<Figure size 432x288 with 1 Axes>"
      ]
     },
     "metadata": {
      "needs_background": "light"
     },
     "output_type": "display_data"
    }
   ],
   "source": [
    "df[df.columns[df.isnull().mean() != 0]].isnull().mean().plot(kind='bar')"
   ]
  },
  {
   "cell_type": "markdown",
   "metadata": {},
   "source": [
    "These features are continous. I decided to replace missing values with mean. Simple solutions often work best. "
   ]
  },
  {
   "cell_type": "code",
   "execution_count": 16,
   "metadata": {},
   "outputs": [
    {
     "data": {
      "text/plain": [
       "tot_coll_amt        0.0\n",
       "tot_cur_bal         0.0\n",
       "total_rev_hi_lim    0.0\n",
       "dtype: float64"
      ]
     },
     "execution_count": 16,
     "metadata": {},
     "output_type": "execute_result"
    }
   ],
   "source": [
    "# Calculating mean and filling missing values\n",
    "mean_tot_coll = df['tot_coll_amt'].mean()\n",
    "df['tot_coll_amt'].fillna(mean_tot_coll, inplace=True)\n",
    "\n",
    "# Calculating mean and filling missing values\n",
    "mean_tot_cur_bal = df['tot_cur_bal'].mean()\n",
    "df['tot_cur_bal'].fillna(mean_tot_cur_bal, inplace=True)\n",
    "\n",
    "# Calculating mean and filling missing values\n",
    "mean_total_rev_hi_lim = df['total_rev_hi_lim'].mean()\n",
    "df['total_rev_hi_lim'].fillna(mean_total_rev_hi_lim, inplace=True)\n",
    "\n",
    "# Sanity check #2\n",
    "df[['tot_coll_amt', 'tot_cur_bal', 'total_rev_hi_lim']].isnull().mean()"
   ]
  },
  {
   "cell_type": "markdown",
   "metadata": {},
   "source": [
    "### Our dataset is finally complete.\n",
    "\n",
    "I removed all completely irrelevant features out of the dataset. All the missing values were handled as well. But's not all - let's move on to categorical features. "
   ]
  },
  {
   "cell_type": "markdown",
   "metadata": {},
   "source": [
    "# Dealing with categorical features"
   ]
  },
  {
   "cell_type": "markdown",
   "metadata": {},
   "source": [
    "First I will check how many categorical features we have to deal with."
   ]
  },
  {
   "cell_type": "code",
   "execution_count": 17,
   "metadata": {},
   "outputs": [
    {
     "data": {
      "text/html": [
       "<div>\n",
       "<style scoped>\n",
       "    .dataframe tbody tr th:only-of-type {\n",
       "        vertical-align: middle;\n",
       "    }\n",
       "\n",
       "    .dataframe tbody tr th {\n",
       "        vertical-align: top;\n",
       "    }\n",
       "\n",
       "    .dataframe thead th {\n",
       "        text-align: right;\n",
       "    }\n",
       "</style>\n",
       "<table border=\"1\" class=\"dataframe\">\n",
       "  <thead>\n",
       "    <tr style=\"text-align: right;\">\n",
       "      <th></th>\n",
       "      <th>addr_state</th>\n",
       "      <th>application_type</th>\n",
       "      <th>grade</th>\n",
       "      <th>home_ownership</th>\n",
       "      <th>initial_list_status</th>\n",
       "      <th>issue_d</th>\n",
       "      <th>loan_status</th>\n",
       "      <th>purpose</th>\n",
       "      <th>pymnt_plan</th>\n",
       "      <th>sub_grade</th>\n",
       "      <th>term</th>\n",
       "      <th>verification_status</th>\n",
       "    </tr>\n",
       "  </thead>\n",
       "  <tbody>\n",
       "    <tr>\n",
       "      <th>0</th>\n",
       "      <td>SD</td>\n",
       "      <td>Individual</td>\n",
       "      <td>C</td>\n",
       "      <td>MORTGAGE</td>\n",
       "      <td>w</td>\n",
       "      <td>2015-12-01</td>\n",
       "      <td>Fully Paid</td>\n",
       "      <td>small_business</td>\n",
       "      <td>n</td>\n",
       "      <td>C1</td>\n",
       "      <td>36 months</td>\n",
       "      <td>Not Verified</td>\n",
       "    </tr>\n",
       "    <tr>\n",
       "      <th>1</th>\n",
       "      <td>AL</td>\n",
       "      <td>Individual</td>\n",
       "      <td>C</td>\n",
       "      <td>MORTGAGE</td>\n",
       "      <td>w</td>\n",
       "      <td>2015-12-01</td>\n",
       "      <td>Charged Off</td>\n",
       "      <td>debt_consolidation</td>\n",
       "      <td>n</td>\n",
       "      <td>C2</td>\n",
       "      <td>60 months</td>\n",
       "      <td>Source Verified</td>\n",
       "    </tr>\n",
       "    <tr>\n",
       "      <th>2</th>\n",
       "      <td>MD</td>\n",
       "      <td>Individual</td>\n",
       "      <td>C</td>\n",
       "      <td>OWN</td>\n",
       "      <td>w</td>\n",
       "      <td>2015-12-01</td>\n",
       "      <td>Charged Off</td>\n",
       "      <td>debt_consolidation</td>\n",
       "      <td>n</td>\n",
       "      <td>C4</td>\n",
       "      <td>60 months</td>\n",
       "      <td>Source Verified</td>\n",
       "    </tr>\n",
       "    <tr>\n",
       "      <th>3</th>\n",
       "      <td>RI</td>\n",
       "      <td>Individual</td>\n",
       "      <td>C</td>\n",
       "      <td>MORTGAGE</td>\n",
       "      <td>w</td>\n",
       "      <td>2015-12-01</td>\n",
       "      <td>Late (31-120 days)</td>\n",
       "      <td>debt_consolidation</td>\n",
       "      <td>n</td>\n",
       "      <td>C2</td>\n",
       "      <td>36 months</td>\n",
       "      <td>Not Verified</td>\n",
       "    </tr>\n",
       "    <tr>\n",
       "      <th>4</th>\n",
       "      <td>WI</td>\n",
       "      <td>Individual</td>\n",
       "      <td>D</td>\n",
       "      <td>MORTGAGE</td>\n",
       "      <td>w</td>\n",
       "      <td>2015-12-01</td>\n",
       "      <td>Fully Paid</td>\n",
       "      <td>debt_consolidation</td>\n",
       "      <td>n</td>\n",
       "      <td>D5</td>\n",
       "      <td>60 months</td>\n",
       "      <td>Verified</td>\n",
       "    </tr>\n",
       "    <tr>\n",
       "      <th>5</th>\n",
       "      <td>CA</td>\n",
       "      <td>Individual</td>\n",
       "      <td>B</td>\n",
       "      <td>MORTGAGE</td>\n",
       "      <td>w</td>\n",
       "      <td>2015-12-01</td>\n",
       "      <td>Current</td>\n",
       "      <td>credit_card</td>\n",
       "      <td>n</td>\n",
       "      <td>B1</td>\n",
       "      <td>60 months</td>\n",
       "      <td>Source Verified</td>\n",
       "    </tr>\n",
       "  </tbody>\n",
       "</table>\n",
       "</div>"
      ],
      "text/plain": [
       "  addr_state application_type grade home_ownership initial_list_status  \\\n",
       "0         SD       Individual     C       MORTGAGE                   w   \n",
       "1         AL       Individual     C       MORTGAGE                   w   \n",
       "2         MD       Individual     C            OWN                   w   \n",
       "3         RI       Individual     C       MORTGAGE                   w   \n",
       "4         WI       Individual     D       MORTGAGE                   w   \n",
       "5         CA       Individual     B       MORTGAGE                   w   \n",
       "\n",
       "      issue_d         loan_status             purpose pymnt_plan sub_grade  \\\n",
       "0  2015-12-01          Fully Paid      small_business          n        C1   \n",
       "1  2015-12-01         Charged Off  debt_consolidation          n        C2   \n",
       "2  2015-12-01         Charged Off  debt_consolidation          n        C4   \n",
       "3  2015-12-01  Late (31-120 days)  debt_consolidation          n        C2   \n",
       "4  2015-12-01          Fully Paid  debt_consolidation          n        D5   \n",
       "5  2015-12-01             Current         credit_card          n        B1   \n",
       "\n",
       "         term verification_status  \n",
       "0   36 months        Not Verified  \n",
       "1   60 months     Source Verified  \n",
       "2   60 months     Source Verified  \n",
       "3   36 months        Not Verified  \n",
       "4   60 months            Verified  \n",
       "5   60 months     Source Verified  "
      ]
     },
     "execution_count": 17,
     "metadata": {},
     "output_type": "execute_result"
    }
   ],
   "source": [
    "df.loc[:5, df.dtypes == object]"
   ]
  },
  {
   "cell_type": "markdown",
   "metadata": {},
   "source": [
    "We are left with 16 categorical features. <br/>\n",
    "I will convert them to integers or binary. <br/>\n",
    "I will inspect each feature in detail, as it is crucial to represent the underlying data the best way possible.\n",
    " \n",
    "As for addr_state I will perform onehot encoding. Probably most of them will be removed as insignificant later, but why not try?"
   ]
  },
  {
   "cell_type": "code",
   "execution_count": 18,
   "metadata": {},
   "outputs": [
    {
     "data": {
      "text/html": [
       "<div>\n",
       "<style scoped>\n",
       "    .dataframe tbody tr th:only-of-type {\n",
       "        vertical-align: middle;\n",
       "    }\n",
       "\n",
       "    .dataframe tbody tr th {\n",
       "        vertical-align: top;\n",
       "    }\n",
       "\n",
       "    .dataframe thead th {\n",
       "        text-align: right;\n",
       "    }\n",
       "</style>\n",
       "<table border=\"1\" class=\"dataframe\">\n",
       "  <thead>\n",
       "    <tr style=\"text-align: right;\">\n",
       "      <th></th>\n",
       "      <th>state_HI</th>\n",
       "      <th>state_IA</th>\n",
       "      <th>state_ID</th>\n",
       "      <th>state_IL</th>\n",
       "      <th>state_IN</th>\n",
       "      <th>state_KS</th>\n",
       "      <th>state_KY</th>\n",
       "      <th>state_LA</th>\n",
       "      <th>state_MA</th>\n",
       "      <th>state_MD</th>\n",
       "      <th>state_ME</th>\n",
       "      <th>state_MI</th>\n",
       "      <th>state_MN</th>\n",
       "      <th>state_MO</th>\n",
       "      <th>state_MS</th>\n",
       "      <th>state_MT</th>\n",
       "      <th>state_NC</th>\n",
       "      <th>state_ND</th>\n",
       "      <th>state_NE</th>\n",
       "      <th>state_NH</th>\n",
       "      <th>state_NJ</th>\n",
       "      <th>state_NM</th>\n",
       "      <th>state_NV</th>\n",
       "      <th>state_NY</th>\n",
       "      <th>state_OH</th>\n",
       "      <th>state_OK</th>\n",
       "      <th>state_OR</th>\n",
       "      <th>state_PA</th>\n",
       "      <th>state_RI</th>\n",
       "      <th>state_SC</th>\n",
       "      <th>state_SD</th>\n",
       "      <th>state_TN</th>\n",
       "      <th>state_TX</th>\n",
       "      <th>state_UT</th>\n",
       "      <th>state_VA</th>\n",
       "      <th>state_VT</th>\n",
       "      <th>state_WA</th>\n",
       "      <th>state_WI</th>\n",
       "      <th>state_WV</th>\n",
       "      <th>state_WY</th>\n",
       "    </tr>\n",
       "  </thead>\n",
       "  <tbody>\n",
       "    <tr>\n",
       "      <th>0</th>\n",
       "      <td>0</td>\n",
       "      <td>0</td>\n",
       "      <td>0</td>\n",
       "      <td>0</td>\n",
       "      <td>0</td>\n",
       "      <td>0</td>\n",
       "      <td>0</td>\n",
       "      <td>0</td>\n",
       "      <td>0</td>\n",
       "      <td>0</td>\n",
       "      <td>0</td>\n",
       "      <td>0</td>\n",
       "      <td>0</td>\n",
       "      <td>0</td>\n",
       "      <td>0</td>\n",
       "      <td>0</td>\n",
       "      <td>0</td>\n",
       "      <td>0</td>\n",
       "      <td>0</td>\n",
       "      <td>0</td>\n",
       "      <td>0</td>\n",
       "      <td>0</td>\n",
       "      <td>0</td>\n",
       "      <td>0</td>\n",
       "      <td>0</td>\n",
       "      <td>0</td>\n",
       "      <td>0</td>\n",
       "      <td>0</td>\n",
       "      <td>0</td>\n",
       "      <td>0</td>\n",
       "      <td>1</td>\n",
       "      <td>0</td>\n",
       "      <td>0</td>\n",
       "      <td>0</td>\n",
       "      <td>0</td>\n",
       "      <td>0</td>\n",
       "      <td>0</td>\n",
       "      <td>0</td>\n",
       "      <td>0</td>\n",
       "      <td>0</td>\n",
       "    </tr>\n",
       "    <tr>\n",
       "      <th>1</th>\n",
       "      <td>0</td>\n",
       "      <td>0</td>\n",
       "      <td>0</td>\n",
       "      <td>0</td>\n",
       "      <td>0</td>\n",
       "      <td>0</td>\n",
       "      <td>0</td>\n",
       "      <td>0</td>\n",
       "      <td>0</td>\n",
       "      <td>0</td>\n",
       "      <td>0</td>\n",
       "      <td>0</td>\n",
       "      <td>0</td>\n",
       "      <td>0</td>\n",
       "      <td>0</td>\n",
       "      <td>0</td>\n",
       "      <td>0</td>\n",
       "      <td>0</td>\n",
       "      <td>0</td>\n",
       "      <td>0</td>\n",
       "      <td>0</td>\n",
       "      <td>0</td>\n",
       "      <td>0</td>\n",
       "      <td>0</td>\n",
       "      <td>0</td>\n",
       "      <td>0</td>\n",
       "      <td>0</td>\n",
       "      <td>0</td>\n",
       "      <td>0</td>\n",
       "      <td>0</td>\n",
       "      <td>0</td>\n",
       "      <td>0</td>\n",
       "      <td>0</td>\n",
       "      <td>0</td>\n",
       "      <td>0</td>\n",
       "      <td>0</td>\n",
       "      <td>0</td>\n",
       "      <td>0</td>\n",
       "      <td>0</td>\n",
       "      <td>0</td>\n",
       "    </tr>\n",
       "    <tr>\n",
       "      <th>2</th>\n",
       "      <td>0</td>\n",
       "      <td>0</td>\n",
       "      <td>0</td>\n",
       "      <td>0</td>\n",
       "      <td>0</td>\n",
       "      <td>0</td>\n",
       "      <td>0</td>\n",
       "      <td>0</td>\n",
       "      <td>0</td>\n",
       "      <td>1</td>\n",
       "      <td>0</td>\n",
       "      <td>0</td>\n",
       "      <td>0</td>\n",
       "      <td>0</td>\n",
       "      <td>0</td>\n",
       "      <td>0</td>\n",
       "      <td>0</td>\n",
       "      <td>0</td>\n",
       "      <td>0</td>\n",
       "      <td>0</td>\n",
       "      <td>0</td>\n",
       "      <td>0</td>\n",
       "      <td>0</td>\n",
       "      <td>0</td>\n",
       "      <td>0</td>\n",
       "      <td>0</td>\n",
       "      <td>0</td>\n",
       "      <td>0</td>\n",
       "      <td>0</td>\n",
       "      <td>0</td>\n",
       "      <td>0</td>\n",
       "      <td>0</td>\n",
       "      <td>0</td>\n",
       "      <td>0</td>\n",
       "      <td>0</td>\n",
       "      <td>0</td>\n",
       "      <td>0</td>\n",
       "      <td>0</td>\n",
       "      <td>0</td>\n",
       "      <td>0</td>\n",
       "    </tr>\n",
       "    <tr>\n",
       "      <th>3</th>\n",
       "      <td>0</td>\n",
       "      <td>0</td>\n",
       "      <td>0</td>\n",
       "      <td>0</td>\n",
       "      <td>0</td>\n",
       "      <td>0</td>\n",
       "      <td>0</td>\n",
       "      <td>0</td>\n",
       "      <td>0</td>\n",
       "      <td>0</td>\n",
       "      <td>0</td>\n",
       "      <td>0</td>\n",
       "      <td>0</td>\n",
       "      <td>0</td>\n",
       "      <td>0</td>\n",
       "      <td>0</td>\n",
       "      <td>0</td>\n",
       "      <td>0</td>\n",
       "      <td>0</td>\n",
       "      <td>0</td>\n",
       "      <td>0</td>\n",
       "      <td>0</td>\n",
       "      <td>0</td>\n",
       "      <td>0</td>\n",
       "      <td>0</td>\n",
       "      <td>0</td>\n",
       "      <td>0</td>\n",
       "      <td>0</td>\n",
       "      <td>1</td>\n",
       "      <td>0</td>\n",
       "      <td>0</td>\n",
       "      <td>0</td>\n",
       "      <td>0</td>\n",
       "      <td>0</td>\n",
       "      <td>0</td>\n",
       "      <td>0</td>\n",
       "      <td>0</td>\n",
       "      <td>0</td>\n",
       "      <td>0</td>\n",
       "      <td>0</td>\n",
       "    </tr>\n",
       "    <tr>\n",
       "      <th>4</th>\n",
       "      <td>0</td>\n",
       "      <td>0</td>\n",
       "      <td>0</td>\n",
       "      <td>0</td>\n",
       "      <td>0</td>\n",
       "      <td>0</td>\n",
       "      <td>0</td>\n",
       "      <td>0</td>\n",
       "      <td>0</td>\n",
       "      <td>0</td>\n",
       "      <td>0</td>\n",
       "      <td>0</td>\n",
       "      <td>0</td>\n",
       "      <td>0</td>\n",
       "      <td>0</td>\n",
       "      <td>0</td>\n",
       "      <td>0</td>\n",
       "      <td>0</td>\n",
       "      <td>0</td>\n",
       "      <td>0</td>\n",
       "      <td>0</td>\n",
       "      <td>0</td>\n",
       "      <td>0</td>\n",
       "      <td>0</td>\n",
       "      <td>0</td>\n",
       "      <td>0</td>\n",
       "      <td>0</td>\n",
       "      <td>0</td>\n",
       "      <td>0</td>\n",
       "      <td>0</td>\n",
       "      <td>0</td>\n",
       "      <td>0</td>\n",
       "      <td>0</td>\n",
       "      <td>0</td>\n",
       "      <td>0</td>\n",
       "      <td>0</td>\n",
       "      <td>0</td>\n",
       "      <td>1</td>\n",
       "      <td>0</td>\n",
       "      <td>0</td>\n",
       "    </tr>\n",
       "  </tbody>\n",
       "</table>\n",
       "</div>"
      ],
      "text/plain": [
       "   state_HI  state_IA  state_ID  state_IL  state_IN  state_KS  state_KY  \\\n",
       "0         0         0         0         0         0         0         0   \n",
       "1         0         0         0         0         0         0         0   \n",
       "2         0         0         0         0         0         0         0   \n",
       "3         0         0         0         0         0         0         0   \n",
       "4         0         0         0         0         0         0         0   \n",
       "\n",
       "   state_LA  state_MA  state_MD  state_ME  state_MI  state_MN  state_MO  \\\n",
       "0         0         0         0         0         0         0         0   \n",
       "1         0         0         0         0         0         0         0   \n",
       "2         0         0         1         0         0         0         0   \n",
       "3         0         0         0         0         0         0         0   \n",
       "4         0         0         0         0         0         0         0   \n",
       "\n",
       "   state_MS  state_MT  state_NC  state_ND  state_NE  state_NH  state_NJ  \\\n",
       "0         0         0         0         0         0         0         0   \n",
       "1         0         0         0         0         0         0         0   \n",
       "2         0         0         0         0         0         0         0   \n",
       "3         0         0         0         0         0         0         0   \n",
       "4         0         0         0         0         0         0         0   \n",
       "\n",
       "   state_NM  state_NV  state_NY  state_OH  state_OK  state_OR  state_PA  \\\n",
       "0         0         0         0         0         0         0         0   \n",
       "1         0         0         0         0         0         0         0   \n",
       "2         0         0         0         0         0         0         0   \n",
       "3         0         0         0         0         0         0         0   \n",
       "4         0         0         0         0         0         0         0   \n",
       "\n",
       "   state_RI  state_SC  state_SD  state_TN  state_TX  state_UT  state_VA  \\\n",
       "0         0         0         1         0         0         0         0   \n",
       "1         0         0         0         0         0         0         0   \n",
       "2         0         0         0         0         0         0         0   \n",
       "3         1         0         0         0         0         0         0   \n",
       "4         0         0         0         0         0         0         0   \n",
       "\n",
       "   state_VT  state_WA  state_WI  state_WV  state_WY  \n",
       "0         0         0         0         0         0  \n",
       "1         0         0         0         0         0  \n",
       "2         0         0         0         0         0  \n",
       "3         0         0         0         0         0  \n",
       "4         0         0         1         0         0  "
      ]
     },
     "execution_count": 18,
     "metadata": {},
     "output_type": "execute_result"
    }
   ],
   "source": [
    "# Performing OneHotEncoding \n",
    "df = df.join(pd.get_dummies(df['addr_state'], prefix='state'))\n",
    "df.drop('addr_state', axis=1, inplace=True)\n",
    "df.iloc[:5,45:]"
   ]
  },
  {
   "cell_type": "markdown",
   "metadata": {},
   "source": [
    "Looks good. Now let's take a look at 'application_type'."
   ]
  },
  {
   "cell_type": "code",
   "execution_count": 19,
   "metadata": {},
   "outputs": [
    {
     "data": {
      "text/plain": [
       "<matplotlib.axes._subplots.AxesSubplot at 0x26caf036d68>"
      ]
     },
     "execution_count": 19,
     "metadata": {},
     "output_type": "execute_result"
    },
    {
     "data": {
      "image/png": "[encoded data removed]",
      "text/plain": [
       "<Figure size 432x288 with 1 Axes>"
      ]
     },
     "metadata": {
      "needs_background": "light"
     },
     "output_type": "display_data"
    }
   ],
   "source": [
    "df['application_type'].value_counts().plot(kind='bar', title='Application type ratio')"
   ]
  },
  {
   "cell_type": "markdown",
   "metadata": {},
   "source": [
    "The feature is very imbalanced, so I'll remove it."
   ]
  },
  {
   "cell_type": "code",
   "execution_count": 20,
   "metadata": {},
   "outputs": [],
   "source": [
    "df.drop('application_type',axis=1, inplace=True)"
   ]
  },
  {
   "cell_type": "markdown",
   "metadata": {},
   "source": [
    "Let's take a look at potentially very important feature - grade. It also has a twin feature - sub_grade"
   ]
  },
  {
   "cell_type": "code",
   "execution_count": 21,
   "metadata": {},
   "outputs": [
    {
     "name": "stdout",
     "output_type": "stream",
     "text": [
      "B    254553\n",
      "C    245881\n",
      "A    148207\n",
      "D    139554\n",
      "E     70707\n",
      "F     23049\n",
      "G      5489\n",
      "Name: grade, dtype: int64\n"
     ]
    },
    {
     "data": {
      "text/plain": [
       "B3    56327\n",
       "B4    55629\n",
       "C1    53393\n",
       "C2    52241\n",
       "C3    50167\n",
       "C4    48860\n",
       "B5    48839\n",
       "Name: sub_grade, dtype: int64"
      ]
     },
     "execution_count": 21,
     "metadata": {},
     "output_type": "execute_result"
    }
   ],
   "source": [
    "print(df['grade'].value_counts())\n",
    "df['sub_grade'].value_counts()[:7]"
   ]
  },
  {
   "cell_type": "markdown",
   "metadata": {},
   "source": [
    "Interestingly, subgrade feature contains the same information. <br/>\n",
    "That's why I will drop grade. <br/>\n",
    "I decided to convert subgrades to integers in range <1,35> by the following rule: <br/>\n",
    "\n",
    "\n",
    "A1 - 1<br/>\n",
    "A2 - 2<br/>\n",
    "...<br/>\n",
    "B1 - 6<br/>\n",
    "...<br/>\n",
    "G5  - 35<br/>"
   ]
  },
  {
   "cell_type": "code",
   "execution_count": 22,
   "metadata": {},
   "outputs": [
    {
     "data": {
      "text/plain": [
       "8     56327\n",
       "9     55629\n",
       "11    53393\n",
       "12    52241\n",
       "13    50167\n",
       "Name: sub_grade, dtype: int64"
      ]
     },
     "execution_count": 22,
     "metadata": {},
     "output_type": "execute_result"
    }
   ],
   "source": [
    "# Dropping grade column\n",
    "df.drop('grade', axis=1, inplace=True)\n",
    "\n",
    "# Dictionary with alphabet - number transitions\n",
    "alpha_dict = {'A': 0, 'B': 5, 'C': 10, 'D': 15, 'E': 20, 'F': 25, 'G': 30}\n",
    "\n",
    "# Defining transformation function\n",
    "def alpha_transform(series):\n",
    "    \n",
    "    string = str(series)\n",
    "    number = alpha_dict[string[0]] + int(string[1])\n",
    "\n",
    "    return number\n",
    "\n",
    "# Applying transformation function\n",
    "df['sub_grade'] = df['sub_grade'].apply(alpha_transform)\n",
    "df['sub_grade'].value_counts()[:5]"
   ]
  },
  {
   "cell_type": "markdown",
   "metadata": {},
   "source": [
    "Now, let's take a look at 'home_ownership'"
   ]
  },
  {
   "cell_type": "code",
   "execution_count": 23,
   "metadata": {},
   "outputs": [
    {
     "data": {
      "text/plain": [
       "<matplotlib.axes._subplots.AxesSubplot at 0x26caf7727f0>"
      ]
     },
     "execution_count": 23,
     "metadata": {},
     "output_type": "execute_result"
    },
    {
     "data": {
      "image/png": "[encoded data removed]",
      "text/plain": [
       "<Figure size 432x288 with 1 Axes>"
      ]
     },
     "metadata": {
      "needs_background": "light"
     },
     "output_type": "display_data"
    }
   ],
   "source": [
    "df['home_ownership'].value_counts().plot(kind='bar', title='Home ownership class ratio')"
   ]
  },
  {
   "cell_type": "markdown",
   "metadata": {},
   "source": [
    "In this case I will perform one hot encoding again. I suspect that there may be important mappings hidden, even if the feature is strongly imbalance."
   ]
  },
  {
   "cell_type": "code",
   "execution_count": 24,
   "metadata": {},
   "outputs": [
    {
     "data": {
      "text/plain": [
       "<matplotlib.axes._subplots.AxesSubplot at 0x26cafea34a8>"
      ]
     },
     "execution_count": 24,
     "metadata": {},
     "output_type": "execute_result"
    },
    {
     "data": {
      "image/png": "[encoded data removed]",
      "text/plain": [
       "<Figure size 432x288 with 1 Axes>"
      ]
     },
     "metadata": {
      "needs_background": "light"
     },
     "output_type": "display_data"
    }
   ],
   "source": [
    "# I will convert all ANY values to OTHER first - they seem to represent the same:\n",
    "def home_transform(series):\n",
    "    string = str(series)\n",
    "    if string == 'ANY':\n",
    "        return 'OTHER'\n",
    "    else: return series\n",
    "\n",
    "# Apply transformation function\n",
    "df['home_ownership'] = df['home_ownership'].apply(home_transform)\n",
    "df['home_ownership'].value_counts().plot(kind='bar', title='Home ownership class ratio')"
   ]
  },
  {
   "cell_type": "code",
   "execution_count": 25,
   "metadata": {},
   "outputs": [
    {
     "data": {
      "text/html": [
       "<div>\n",
       "<style scoped>\n",
       "    .dataframe tbody tr th:only-of-type {\n",
       "        vertical-align: middle;\n",
       "    }\n",
       "\n",
       "    .dataframe tbody tr th {\n",
       "        vertical-align: top;\n",
       "    }\n",
       "\n",
       "    .dataframe thead th {\n",
       "        text-align: right;\n",
       "    }\n",
       "</style>\n",
       "<table border=\"1\" class=\"dataframe\">\n",
       "  <thead>\n",
       "    <tr style=\"text-align: right;\">\n",
       "      <th></th>\n",
       "      <th>home_MORTGAGE</th>\n",
       "      <th>home_NONE</th>\n",
       "      <th>home_OTHER</th>\n",
       "      <th>home_OWN</th>\n",
       "      <th>home_RENT</th>\n",
       "    </tr>\n",
       "  </thead>\n",
       "  <tbody>\n",
       "    <tr>\n",
       "      <th>0</th>\n",
       "      <td>1</td>\n",
       "      <td>0</td>\n",
       "      <td>0</td>\n",
       "      <td>0</td>\n",
       "      <td>0</td>\n",
       "    </tr>\n",
       "    <tr>\n",
       "      <th>1</th>\n",
       "      <td>1</td>\n",
       "      <td>0</td>\n",
       "      <td>0</td>\n",
       "      <td>0</td>\n",
       "      <td>0</td>\n",
       "    </tr>\n",
       "    <tr>\n",
       "      <th>2</th>\n",
       "      <td>0</td>\n",
       "      <td>0</td>\n",
       "      <td>0</td>\n",
       "      <td>1</td>\n",
       "      <td>0</td>\n",
       "    </tr>\n",
       "    <tr>\n",
       "      <th>3</th>\n",
       "      <td>1</td>\n",
       "      <td>0</td>\n",
       "      <td>0</td>\n",
       "      <td>0</td>\n",
       "      <td>0</td>\n",
       "    </tr>\n",
       "    <tr>\n",
       "      <th>4</th>\n",
       "      <td>1</td>\n",
       "      <td>0</td>\n",
       "      <td>0</td>\n",
       "      <td>0</td>\n",
       "      <td>0</td>\n",
       "    </tr>\n",
       "  </tbody>\n",
       "</table>\n",
       "</div>"
      ],
      "text/plain": [
       "   home_MORTGAGE  home_NONE  home_OTHER  home_OWN  home_RENT\n",
       "0              1          0           0         0          0\n",
       "1              1          0           0         0          0\n",
       "2              0          0           0         1          0\n",
       "3              1          0           0         0          0\n",
       "4              1          0           0         0          0"
      ]
     },
     "execution_count": 25,
     "metadata": {},
     "output_type": "execute_result"
    }
   ],
   "source": [
    "# Performing one hot encoding\n",
    "df = df.join(pd.get_dummies(df['home_ownership'], prefix='home'))\n",
    "df.drop('home_ownership', axis=1, inplace=True)\n",
    "df.iloc[:5, -5:]"
   ]
  },
  {
   "cell_type": "code",
   "execution_count": 26,
   "metadata": {},
   "outputs": [
    {
     "data": {
      "text/plain": [
       "<matplotlib.axes._subplots.AxesSubplot at 0x26cafede7b8>"
      ]
     },
     "execution_count": 26,
     "metadata": {},
     "output_type": "execute_result"
    },
    {
     "data": {
      "image/png": "[encoded data removed]",
      "text/plain": [
       "<Figure size 432x288 with 1 Axes>"
      ]
     },
     "metadata": {
      "needs_background": "light"
     },
     "output_type": "display_data"
    }
   ],
   "source": [
    "df['initial_list_status'].value_counts().plot(kind='bar', title='Initial list status class ratio')"
   ]
  },
  {
   "cell_type": "markdown",
   "metadata": {},
   "source": [
    "In case of initial_list_status I will convert it to binary"
   ]
  },
  {
   "cell_type": "code",
   "execution_count": 27,
   "metadata": {},
   "outputs": [
    {
     "data": {
      "text/plain": [
       "<matplotlib.axes._subplots.AxesSubplot at 0x26caf7c47b8>"
      ]
     },
     "execution_count": 27,
     "metadata": {},
     "output_type": "execute_result"
    },
    {
     "data": {
      "image/png": "[encoded data removed]",
      "text/plain": [
       "<Figure size 432x288 with 1 Axes>"
      ]
     },
     "metadata": {
      "needs_background": "light"
     },
     "output_type": "display_data"
    }
   ],
   "source": [
    "# Defining transformation function\n",
    "def fw_transform(series):\n",
    "    string = str(series)\n",
    "    if string == 'f':\n",
    "        return 1\n",
    "    else:\n",
    "        return 0\n",
    "\n",
    "# Applying transformation function \n",
    "df['initial_list_status'] = df['initial_list_status'].apply(fw_transform)\n",
    "df['initial_list_status'].value_counts().plot(kind='bar', title='Initial list status class ratio')   "
   ]
  },
  {
   "cell_type": "code",
   "execution_count": 28,
   "metadata": {
    "scrolled": true
   },
   "outputs": [
    {
     "data": {
      "text/html": [
       "<div>\n",
       "<style scoped>\n",
       "    .dataframe tbody tr th:only-of-type {\n",
       "        vertical-align: middle;\n",
       "    }\n",
       "\n",
       "    .dataframe tbody tr th {\n",
       "        vertical-align: top;\n",
       "    }\n",
       "\n",
       "    .dataframe thead th {\n",
       "        text-align: right;\n",
       "    }\n",
       "</style>\n",
       "<table border=\"1\" class=\"dataframe\">\n",
       "  <thead>\n",
       "    <tr style=\"text-align: right;\">\n",
       "      <th></th>\n",
       "      <th>issue_d</th>\n",
       "    </tr>\n",
       "  </thead>\n",
       "  <tbody>\n",
       "    <tr>\n",
       "      <th>0</th>\n",
       "      <td>2015-12-01</td>\n",
       "    </tr>\n",
       "    <tr>\n",
       "      <th>1</th>\n",
       "      <td>2015-12-01</td>\n",
       "    </tr>\n",
       "    <tr>\n",
       "      <th>2</th>\n",
       "      <td>2015-12-01</td>\n",
       "    </tr>\n",
       "    <tr>\n",
       "      <th>3</th>\n",
       "      <td>2015-12-01</td>\n",
       "    </tr>\n",
       "    <tr>\n",
       "      <th>4</th>\n",
       "      <td>2015-12-01</td>\n",
       "    </tr>\n",
       "  </tbody>\n",
       "</table>\n",
       "</div>"
      ],
      "text/plain": [
       "      issue_d\n",
       "0  2015-12-01\n",
       "1  2015-12-01\n",
       "2  2015-12-01\n",
       "3  2015-12-01\n",
       "4  2015-12-01"
      ]
     },
     "execution_count": 28,
     "metadata": {},
     "output_type": "execute_result"
    }
   ],
   "source": [
    "df[['issue_d']].head()"
   ]
  },
  {
   "cell_type": "markdown",
   "metadata": {},
   "source": [
    "Now I will convert last_credit_pull_d and issue_d to months that have passed since. (as I already did before)"
   ]
  },
  {
   "cell_type": "code",
   "execution_count": 30,
   "metadata": {},
   "outputs": [
    {
     "data": {
      "text/plain": [
       "0   -779\n",
       "1   -779\n",
       "2   -779\n",
       "3   -779\n",
       "4   -779\n",
       "Name: issue_d, dtype: int64"
      ]
     },
     "execution_count": 30,
     "metadata": {},
     "output_type": "execute_result"
    }
   ],
   "source": [
    "# Transformation dictionary\n",
    "month_dict = {\"Jan\":1,\"Feb\":2,\"Mar\":3,\"Apr\":4, \"May\":5, \"Jun\":6, \"Jul\":7,\"Aug\":8,\"Sep\":9,\"Oct\":10,\"Nov\":11,\"Dec\":12}\n",
    "\n",
    "# Defining transformation function\n",
    "def date_transform(series):\n",
    "        \n",
    "        series = str(series)\n",
    "        year = int(series[-2:])\n",
    "        month_name = series[0:3]\n",
    "        try:\n",
    "            month = month_dict[month_name]\n",
    "        except:\n",
    "            month = 0\n",
    "            \n",
    "        months_passed = None\n",
    "        if month == 1 and year == 16:\n",
    "            return 0\n",
    "        else:\n",
    "            return (12 * (15-year)) + (13 - month)\n",
    "\n",
    "# Applying transformation function\n",
    "df['issue_d'] = df['issue_d'].apply(date_transform)\n",
    "\n",
    "df[ 'issue_d'].head()"
   ]
  },
  {
   "cell_type": "markdown",
   "metadata": {},
   "source": [
    "Now let's convert crucial feature for us - our label 'loan_status'."
   ]
  },
  {
   "cell_type": "code",
   "execution_count": 31,
   "metadata": {},
   "outputs": [
    {
     "data": {
      "text/plain": [
       "<matplotlib.axes._subplots.AxesSubplot at 0x26caf819c18>"
      ]
     },
     "execution_count": 31,
     "metadata": {},
     "output_type": "execute_result"
    },
    {
     "data": {
      "image/png": "[encoded data removed]",
      "text/plain": [
       "<Figure size 432x288 with 1 Axes>"
      ]
     },
     "metadata": {
      "needs_background": "light"
     },
     "output_type": "display_data"
    }
   ],
   "source": [
    "df['loan_status'].value_counts().plot(kind='bar', title='Loan status class ratio')"
   ]
  },
  {
   "cell_type": "code",
   "execution_count": 32,
   "metadata": {},
   "outputs": [
    {
     "data": {
      "text/plain": [
       "<matplotlib.axes._subplots.AxesSubplot at 0x26caf897e80>"
      ]
     },
     "execution_count": 32,
     "metadata": {},
     "output_type": "execute_result"
    },
    {
     "data": {
      "image/png": "[encoded data removed]",
      "text/plain": [
       "<Figure size 432x288 with 1 Axes>"
      ]
     },
     "metadata": {
      "needs_background": "light"
     },
     "output_type": "display_data"
    }
   ],
   "source": [
    "# Converting loan_status as stated in task description\n",
    "loan_status_list = ['Charged off',\n",
    "                    'Default',\n",
    "                    'Does not meet the credit policy. Status: Charged Off',\n",
    "                    'Late (31-120 days)']\n",
    "\n",
    "def loan_status_transform(loan_status):\n",
    "    loan_status = str(loan_status)\n",
    "    if loan_status in loan_status_list:\n",
    "        return 1\n",
    "    else:\n",
    "        return 0\n",
    "\n",
    "# Applying transformation function\n",
    "df['loan_status'] = df['loan_status'].apply(loan_status_transform)\n",
    "df['loan_status'].value_counts().plot(kind='bar', title='Loan status class ratio')               "
   ]
  },
  {
   "cell_type": "markdown",
   "metadata": {},
   "source": [
    "We already see that we have a serious imbalance in our data.\n",
    "But for now let's focus on the last features which are not numeric."
   ]
  },
  {
   "cell_type": "code",
   "execution_count": 33,
   "metadata": {},
   "outputs": [
    {
     "data": {
      "text/plain": [
       "<matplotlib.axes._subplots.AxesSubplot at 0x26caf8e8f60>"
      ]
     },
     "execution_count": 33,
     "metadata": {},
     "output_type": "execute_result"
    },
    {
     "data": {
      "image/png": "[encoded data removed]",
      "text/plain": [
       "<Figure size 432x288 with 1 Axes>"
      ]
     },
     "metadata": {
      "needs_background": "light"
     },
     "output_type": "display_data"
    }
   ],
   "source": [
    "df['purpose'].value_counts().plot(kind='bar', title='Purpose class ratio')"
   ]
  },
  {
   "cell_type": "markdown",
   "metadata": {},
   "source": [
    "In this case I will perform OneHotEncoding as well. "
   ]
  },
  {
   "cell_type": "code",
   "execution_count": 34,
   "metadata": {},
   "outputs": [
    {
     "data": {
      "text/html": [
       "<div>\n",
       "<style scoped>\n",
       "    .dataframe tbody tr th:only-of-type {\n",
       "        vertical-align: middle;\n",
       "    }\n",
       "\n",
       "    .dataframe tbody tr th {\n",
       "        vertical-align: top;\n",
       "    }\n",
       "\n",
       "    .dataframe thead th {\n",
       "        text-align: right;\n",
       "    }\n",
       "</style>\n",
       "<table border=\"1\" class=\"dataframe\">\n",
       "  <thead>\n",
       "    <tr style=\"text-align: right;\">\n",
       "      <th></th>\n",
       "      <th>purpose_car</th>\n",
       "      <th>purpose_credit_card</th>\n",
       "      <th>purpose_debt_consolidation</th>\n",
       "      <th>purpose_educational</th>\n",
       "      <th>purpose_home_improvement</th>\n",
       "      <th>purpose_house</th>\n",
       "      <th>purpose_major_purchase</th>\n",
       "      <th>purpose_medical</th>\n",
       "      <th>purpose_moving</th>\n",
       "      <th>purpose_other</th>\n",
       "      <th>purpose_renewable_energy</th>\n",
       "      <th>purpose_small_business</th>\n",
       "      <th>purpose_vacation</th>\n",
       "      <th>purpose_wedding</th>\n",
       "    </tr>\n",
       "  </thead>\n",
       "  <tbody>\n",
       "    <tr>\n",
       "      <th>0</th>\n",
       "      <td>0</td>\n",
       "      <td>0</td>\n",
       "      <td>0</td>\n",
       "      <td>0</td>\n",
       "      <td>0</td>\n",
       "      <td>0</td>\n",
       "      <td>0</td>\n",
       "      <td>0</td>\n",
       "      <td>0</td>\n",
       "      <td>0</td>\n",
       "      <td>0</td>\n",
       "      <td>1</td>\n",
       "      <td>0</td>\n",
       "      <td>0</td>\n",
       "    </tr>\n",
       "    <tr>\n",
       "      <th>1</th>\n",
       "      <td>0</td>\n",
       "      <td>0</td>\n",
       "      <td>1</td>\n",
       "      <td>0</td>\n",
       "      <td>0</td>\n",
       "      <td>0</td>\n",
       "      <td>0</td>\n",
       "      <td>0</td>\n",
       "      <td>0</td>\n",
       "      <td>0</td>\n",
       "      <td>0</td>\n",
       "      <td>0</td>\n",
       "      <td>0</td>\n",
       "      <td>0</td>\n",
       "    </tr>\n",
       "    <tr>\n",
       "      <th>2</th>\n",
       "      <td>0</td>\n",
       "      <td>0</td>\n",
       "      <td>1</td>\n",
       "      <td>0</td>\n",
       "      <td>0</td>\n",
       "      <td>0</td>\n",
       "      <td>0</td>\n",
       "      <td>0</td>\n",
       "      <td>0</td>\n",
       "      <td>0</td>\n",
       "      <td>0</td>\n",
       "      <td>0</td>\n",
       "      <td>0</td>\n",
       "      <td>0</td>\n",
       "    </tr>\n",
       "    <tr>\n",
       "      <th>3</th>\n",
       "      <td>0</td>\n",
       "      <td>0</td>\n",
       "      <td>1</td>\n",
       "      <td>0</td>\n",
       "      <td>0</td>\n",
       "      <td>0</td>\n",
       "      <td>0</td>\n",
       "      <td>0</td>\n",
       "      <td>0</td>\n",
       "      <td>0</td>\n",
       "      <td>0</td>\n",
       "      <td>0</td>\n",
       "      <td>0</td>\n",
       "      <td>0</td>\n",
       "    </tr>\n",
       "    <tr>\n",
       "      <th>4</th>\n",
       "      <td>0</td>\n",
       "      <td>0</td>\n",
       "      <td>1</td>\n",
       "      <td>0</td>\n",
       "      <td>0</td>\n",
       "      <td>0</td>\n",
       "      <td>0</td>\n",
       "      <td>0</td>\n",
       "      <td>0</td>\n",
       "      <td>0</td>\n",
       "      <td>0</td>\n",
       "      <td>0</td>\n",
       "      <td>0</td>\n",
       "      <td>0</td>\n",
       "    </tr>\n",
       "  </tbody>\n",
       "</table>\n",
       "</div>"
      ],
      "text/plain": [
       "   purpose_car  purpose_credit_card  purpose_debt_consolidation  \\\n",
       "0            0                    0                           0   \n",
       "1            0                    0                           1   \n",
       "2            0                    0                           1   \n",
       "3            0                    0                           1   \n",
       "4            0                    0                           1   \n",
       "\n",
       "   purpose_educational  purpose_home_improvement  purpose_house  \\\n",
       "0                    0                         0              0   \n",
       "1                    0                         0              0   \n",
       "2                    0                         0              0   \n",
       "3                    0                         0              0   \n",
       "4                    0                         0              0   \n",
       "\n",
       "   purpose_major_purchase  purpose_medical  purpose_moving  purpose_other  \\\n",
       "0                       0                0               0              0   \n",
       "1                       0                0               0              0   \n",
       "2                       0                0               0              0   \n",
       "3                       0                0               0              0   \n",
       "4                       0                0               0              0   \n",
       "\n",
       "   purpose_renewable_energy  purpose_small_business  purpose_vacation  \\\n",
       "0                         0                       1                 0   \n",
       "1                         0                       0                 0   \n",
       "2                         0                       0                 0   \n",
       "3                         0                       0                 0   \n",
       "4                         0                       0                 0   \n",
       "\n",
       "   purpose_wedding  \n",
       "0                0  \n",
       "1                0  \n",
       "2                0  \n",
       "3                0  \n",
       "4                0  "
      ]
     },
     "execution_count": 34,
     "metadata": {},
     "output_type": "execute_result"
    }
   ],
   "source": [
    "# OneHotEncoding\n",
    "df = df.join(pd.get_dummies(df['purpose'], prefix='purpose'))\n",
    "df.drop('purpose', axis=1, inplace=True)\n",
    "df.iloc[:5,-14:]"
   ]
  },
  {
   "cell_type": "code",
   "execution_count": 35,
   "metadata": {},
   "outputs": [
    {
     "data": {
      "text/plain": [
       "<matplotlib.axes._subplots.AxesSubplot at 0x26caf95eb38>"
      ]
     },
     "execution_count": 35,
     "metadata": {},
     "output_type": "execute_result"
    },
    {
     "data": {
      "image/png": "[encoded data removed]",
      "text/plain": [
       "<Figure size 432x288 with 1 Axes>"
      ]
     },
     "metadata": {
      "needs_background": "light"
     },
     "output_type": "display_data"
    }
   ],
   "source": [
    "df['pymnt_plan'].value_counts().plot(kind='bar', title='Payment plan class ratio')"
   ]
  },
  {
   "cell_type": "markdown",
   "metadata": {},
   "source": [
    "In case of payment plan only 10 values are of the opposite class. That is to little to keep this feature."
   ]
  },
  {
   "cell_type": "code",
   "execution_count": 36,
   "metadata": {},
   "outputs": [],
   "source": [
    "# Dropping pymnt_plan\n",
    "df.drop(\"pymnt_plan\", inplace=True, axis=1)"
   ]
  },
  {
   "cell_type": "code",
   "execution_count": 37,
   "metadata": {},
   "outputs": [
    {
     "data": {
      "text/plain": [
       "<matplotlib.axes._subplots.AxesSubplot at 0x26caf9c6f60>"
      ]
     },
     "execution_count": 37,
     "metadata": {},
     "output_type": "execute_result"
    },
    {
     "data": {
      "image/png": "[encoded data removed]",
      "text/plain": [
       "<Figure size 432x288 with 1 Axes>"
      ]
     },
     "metadata": {
      "needs_background": "light"
     },
     "output_type": "display_data"
    }
   ],
   "source": [
    "df['term'].value_counts().plot(kind='bar', title='Term class ratio')"
   ]
  },
  {
   "cell_type": "markdown",
   "metadata": {},
   "source": [
    "Looking at term it is obvious to convert it to binary."
   ]
  },
  {
   "cell_type": "code",
   "execution_count": 38,
   "metadata": {},
   "outputs": [
    {
     "data": {
      "text/plain": [
       "<matplotlib.axes._subplots.AxesSubplot at 0x26cafa27f28>"
      ]
     },
     "execution_count": 38,
     "metadata": {},
     "output_type": "execute_result"
    },
    {
     "data": {
      "image/png": "[encoded data removed]",
      "text/plain": [
       "<Figure size 432x288 with 1 Axes>"
      ]
     },
     "metadata": {
      "needs_background": "light"
     },
     "output_type": "display_data"
    }
   ],
   "source": [
    "# Defining transformation function\n",
    "def term_transform(term):\n",
    "\n",
    "    term = str(term)\n",
    "    if term == \"60 months\":\n",
    "        return 1\n",
    "    else:\n",
    "        return 0\n",
    "    \n",
    "# Applying transformation function\n",
    "df['term'] = df['term'].apply(term_transform)\n",
    "df['term'].value_counts().plot(kind='bar', title='Term class ratio')"
   ]
  },
  {
   "cell_type": "code",
   "execution_count": 39,
   "metadata": {},
   "outputs": [
    {
     "data": {
      "text/plain": [
       "<matplotlib.axes._subplots.AxesSubplot at 0x26cafa6f828>"
      ]
     },
     "execution_count": 39,
     "metadata": {},
     "output_type": "execute_result"
    },
    {
     "data": {
      "image/png": "[encoded data removed]",
      "text/plain": [
       "<Figure size 432x288 with 1 Axes>"
      ]
     },
     "metadata": {
      "needs_background": "light"
     },
     "output_type": "display_data"
    }
   ],
   "source": [
    "df['verification_status'].value_counts().plot(kind='bar', title='Verification status class ratio')"
   ]
  },
  {
   "cell_type": "markdown",
   "metadata": {},
   "source": [
    "I will also convert Verified and Source Verified to one class - '1' in this case.\n",
    "They seem to be very simmilar - in case of possibility to ask data provider this could be verified."
   ]
  },
  {
   "cell_type": "code",
   "execution_count": 40,
   "metadata": {},
   "outputs": [
    {
     "data": {
      "text/plain": [
       "<matplotlib.axes._subplots.AxesSubplot at 0x26cafadb2e8>"
      ]
     },
     "execution_count": 40,
     "metadata": {},
     "output_type": "execute_result"
    },
    {
     "data": {
      "image/png": "[encoded data removed]",
      "text/plain": [
       "<Figure size 432x288 with 1 Axes>"
      ]
     },
     "metadata": {
      "needs_background": "light"
     },
     "output_type": "display_data"
    }
   ],
   "source": [
    "# Defining transformation function\n",
    "def verification_transform(verif):\n",
    "\n",
    "    verif = str(verif)\n",
    "    if verif == \"Not Verified\":\n",
    "        return 0\n",
    "    else:\n",
    "        return 1\n",
    "    \n",
    "# Applying transformation function\n",
    "df['verification_status'] = df['verification_status'].apply(verification_transform)\n",
    "df['verification_status'].value_counts().plot(kind='bar', title='Verification status class ratio')"
   ]
  },
  {
   "cell_type": "code",
   "execution_count": 41,
   "metadata": {},
   "outputs": [
    {
     "name": "stdout",
     "output_type": "stream",
     "text": [
      "<class 'pandas.core.frame.DataFrame'>\n",
      "RangeIndex: 887440 entries, 0 to 887439\n",
      "Data columns (total 99 columns):\n",
      "Unnamed: 0                    887440 non-null int64\n",
      "collection_recovery_fee       887440 non-null float64\n",
      "emp_length                    887440 non-null int64\n",
      "funded_amnt                   887440 non-null int64\n",
      "funded_amnt_inv               887440 non-null float64\n",
      "initial_list_status           887440 non-null int64\n",
      "installment                   887440 non-null float64\n",
      "int_rate                      887440 non-null float64\n",
      "issue_d                       887440 non-null int64\n",
      "last_pymnt_amnt               887440 non-null float64\n",
      "loan_amnt                     887440 non-null int64\n",
      "loan_status                   887440 non-null int64\n",
      "out_prncp                     887440 non-null float64\n",
      "out_prncp_inv                 887440 non-null float64\n",
      "policy_code                   887440 non-null int64\n",
      "recoveries                    887440 non-null float64\n",
      "revol_bal                     887440 non-null int64\n",
      "sub_grade                     887440 non-null int64\n",
      "term                          887440 non-null int64\n",
      "tot_coll_amt                  887440 non-null float64\n",
      "tot_cur_bal                   887440 non-null float64\n",
      "total_pymnt                   887440 non-null float64\n",
      "total_pymnt_inv               887440 non-null float64\n",
      "total_rec_int                 887440 non-null float64\n",
      "total_rec_late_fee            887440 non-null float64\n",
      "total_rec_prncp               887440 non-null float64\n",
      "total_rev_hi_lim              887440 non-null float64\n",
      "verification_status           887440 non-null int64\n",
      "time_since_last_pymnt         887440 non-null float64\n",
      "state_AK                      887440 non-null uint8\n",
      "state_AL                      887440 non-null uint8\n",
      "state_AR                      887440 non-null uint8\n",
      "state_AZ                      887440 non-null uint8\n",
      "state_CA                      887440 non-null uint8\n",
      "state_CO                      887440 non-null uint8\n",
      "state_CT                      887440 non-null uint8\n",
      "state_DC                      887440 non-null uint8\n",
      "state_DE                      887440 non-null uint8\n",
      "state_FL                      887440 non-null uint8\n",
      "state_GA                      887440 non-null uint8\n",
      "state_HI                      887440 non-null uint8\n",
      "state_IA                      887440 non-null uint8\n",
      "state_ID                      887440 non-null uint8\n",
      "state_IL                      887440 non-null uint8\n",
      "state_IN                      887440 non-null uint8\n",
      "state_KS                      887440 non-null uint8\n",
      "state_KY                      887440 non-null uint8\n",
      "state_LA                      887440 non-null uint8\n",
      "state_MA                      887440 non-null uint8\n",
      "state_MD                      887440 non-null uint8\n",
      "state_ME                      887440 non-null uint8\n",
      "state_MI                      887440 non-null uint8\n",
      "state_MN                      887440 non-null uint8\n",
      "state_MO                      887440 non-null uint8\n",
      "state_MS                      887440 non-null uint8\n",
      "state_MT                      887440 non-null uint8\n",
      "state_NC                      887440 non-null uint8\n",
      "state_ND                      887440 non-null uint8\n",
      "state_NE                      887440 non-null uint8\n",
      "state_NH                      887440 non-null uint8\n",
      "state_NJ                      887440 non-null uint8\n",
      "state_NM                      887440 non-null uint8\n",
      "state_NV                      887440 non-null uint8\n",
      "state_NY                      887440 non-null uint8\n",
      "state_OH                      887440 non-null uint8\n",
      "state_OK                      887440 non-null uint8\n",
      "state_OR                      887440 non-null uint8\n",
      "state_PA                      887440 non-null uint8\n",
      "state_RI                      887440 non-null uint8\n",
      "state_SC                      887440 non-null uint8\n",
      "state_SD                      887440 non-null uint8\n",
      "state_TN                      887440 non-null uint8\n",
      "state_TX                      887440 non-null uint8\n",
      "state_UT                      887440 non-null uint8\n",
      "state_VA                      887440 non-null uint8\n",
      "state_VT                      887440 non-null uint8\n",
      "state_WA                      887440 non-null uint8\n",
      "state_WI                      887440 non-null uint8\n",
      "state_WV                      887440 non-null uint8\n",
      "state_WY                      887440 non-null uint8\n",
      "home_MORTGAGE                 887440 non-null uint8\n",
      "home_NONE                     887440 non-null uint8\n",
      "home_OTHER                    887440 non-null uint8\n",
      "home_OWN                      887440 non-null uint8\n",
      "home_RENT                     887440 non-null uint8\n",
      "purpose_car                   887440 non-null uint8\n",
      "purpose_credit_card           887440 non-null uint8\n",
      "purpose_debt_consolidation    887440 non-null uint8\n",
      "purpose_educational           887440 non-null uint8\n",
      "purpose_home_improvement      887440 non-null uint8\n",
      "purpose_house                 887440 non-null uint8\n",
      "purpose_major_purchase        887440 non-null uint8\n",
      "purpose_medical               887440 non-null uint8\n",
      "purpose_moving                887440 non-null uint8\n",
      "purpose_other                 887440 non-null uint8\n",
      "purpose_renewable_energy      887440 non-null uint8\n",
      "purpose_small_business        887440 non-null uint8\n",
      "purpose_vacation              887440 non-null uint8\n",
      "purpose_wedding               887440 non-null uint8\n",
      "dtypes: float64(17), int64(12), uint8(70)\n",
      "memory usage: 255.6 MB\n"
     ]
    }
   ],
   "source": [
    "df.info()\n",
    "df.to_csv('df_cleaned.csv', sep=',')"
   ]
  },
  {
   "cell_type": "markdown",
   "metadata": {},
   "source": [
    "### And that's it. \n",
    "We are left only with numerical values and our dataset is complete. \n",
    "\n",
    "Before feeding it to any models I will test their importance - I didn't do in depth analysis of the particular features, but the chi2 test should do the job."
   ]
  }
 ],
 "metadata": {
  "kernelspec": {
   "display_name": "Python 3",
   "language": "python",
   "name": "python3"
  },
  "language_info": {
   "codemirror_mode": {
    "name": "ipython",
    "version": 3
   },
   "file_extension": ".py",
   "mimetype": "text/x-python",
   "name": "python",
   "nbconvert_exporter": "python",
   "pygments_lexer": "ipython3",
   "version": "3.7.0"
  }
 },
 "nbformat": 4,
 "nbformat_minor": 2
}
